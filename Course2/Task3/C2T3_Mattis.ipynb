{
 "cells": [
  {
   "cell_type": "markdown",
   "metadata": {},
   "source": [
    "# Imports"
   ]
  },
  {
   "cell_type": "code",
   "execution_count": 3,
   "metadata": {},
   "outputs": [],
   "source": [
    "# DS Basics\n",
    "import numpy as np\n",
    "import pandas as pd\n",
    "import scipy\n",
    "from math import sqrt\n",
    "import matplotlib.pyplot as plt\n",
    "import seaborn as sns\n",
    "\n",
    "# estimators\n",
    "from sklearn.ensemble import RandomForestRegressor\n",
    "from sklearn.linear_model import LinearRegression\n",
    "from sklearn.svm import SVR\n",
    "from sklearn import linear_model\n",
    "\n",
    "# model metrics\n",
    "from sklearn.metrics import mean_squared_error\n",
    "from sklearn.metrics import r2_score\n",
    "from sklearn.model_selection import cross_val_score\n",
    "\n",
    "# cross validation\n",
    "from sklearn.model_selection import train_test_split\n",
    "\n",
    "# classification - pulling in as another way to look at the data\n",
    "from sklearn.metrics import accuracy_score, classification_report\n",
    "from sklearn.ensemble import RandomForestClassifier, GradientBoostingClassifier\n",
    "from sklearn.tree import DecisionTreeClassifier\n",
    "from sklearn.model_selection import KFold\n",
    "from sklearn.tree import plot_tree\n",
    "\n",
    "# Grahpviz \n",
    "from six import StringIO \n",
    "from IPython.display import Image \n",
    "from sklearn.tree import export_graphviz\n",
    "import pydotplus\n",
    "import graphviz\n",
    "from pydotplus import graph_from_dot_data"
   ]
  },
  {
   "cell_type": "markdown",
   "metadata": {},
   "source": [
    "## Pull in the data"
   ]
  },
  {
   "cell_type": "code",
   "execution_count": 4,
   "metadata": {},
   "outputs": [
    {
     "data": {
      "text/html": [
       "<div>\n",
       "<style scoped>\n",
       "    .dataframe tbody tr th:only-of-type {\n",
       "        vertical-align: middle;\n",
       "    }\n",
       "\n",
       "    .dataframe tbody tr th {\n",
       "        vertical-align: top;\n",
       "    }\n",
       "\n",
       "    .dataframe thead th {\n",
       "        text-align: right;\n",
       "    }\n",
       "</style>\n",
       "<table border=\"1\" class=\"dataframe\">\n",
       "  <thead>\n",
       "    <tr style=\"text-align: right;\">\n",
       "      <th></th>\n",
       "      <th>ID</th>\n",
       "      <th>LIMIT_BAL</th>\n",
       "      <th>MARRIAGE</th>\n",
       "      <th>AGE</th>\n",
       "      <th>PAY_1</th>\n",
       "      <th>PAY_2</th>\n",
       "      <th>PAY_3</th>\n",
       "      <th>PAY_4</th>\n",
       "      <th>PAY_5</th>\n",
       "      <th>PAY_6</th>\n",
       "      <th>...</th>\n",
       "      <th>PAY_AMT5</th>\n",
       "      <th>PAY_AMT6</th>\n",
       "      <th>SEX_female</th>\n",
       "      <th>SEX_male</th>\n",
       "      <th>EDUCATION_graduate school</th>\n",
       "      <th>EDUCATION_high school</th>\n",
       "      <th>EDUCATION_other</th>\n",
       "      <th>EDUCATION_university</th>\n",
       "      <th>DEFAULT_default</th>\n",
       "      <th>DEFAULT_not default</th>\n",
       "    </tr>\n",
       "  </thead>\n",
       "  <tbody>\n",
       "    <tr>\n",
       "      <th>0</th>\n",
       "      <td>1</td>\n",
       "      <td>20000</td>\n",
       "      <td>1</td>\n",
       "      <td>24</td>\n",
       "      <td>2</td>\n",
       "      <td>2</td>\n",
       "      <td>-1</td>\n",
       "      <td>-1</td>\n",
       "      <td>-2</td>\n",
       "      <td>-2</td>\n",
       "      <td>...</td>\n",
       "      <td>0</td>\n",
       "      <td>0</td>\n",
       "      <td>1</td>\n",
       "      <td>0</td>\n",
       "      <td>0</td>\n",
       "      <td>0</td>\n",
       "      <td>0</td>\n",
       "      <td>1</td>\n",
       "      <td>1</td>\n",
       "      <td>0</td>\n",
       "    </tr>\n",
       "    <tr>\n",
       "      <th>1</th>\n",
       "      <td>2</td>\n",
       "      <td>120000</td>\n",
       "      <td>2</td>\n",
       "      <td>26</td>\n",
       "      <td>-1</td>\n",
       "      <td>2</td>\n",
       "      <td>0</td>\n",
       "      <td>0</td>\n",
       "      <td>0</td>\n",
       "      <td>2</td>\n",
       "      <td>...</td>\n",
       "      <td>0</td>\n",
       "      <td>2000</td>\n",
       "      <td>1</td>\n",
       "      <td>0</td>\n",
       "      <td>0</td>\n",
       "      <td>0</td>\n",
       "      <td>0</td>\n",
       "      <td>1</td>\n",
       "      <td>1</td>\n",
       "      <td>0</td>\n",
       "    </tr>\n",
       "    <tr>\n",
       "      <th>2</th>\n",
       "      <td>3</td>\n",
       "      <td>90000</td>\n",
       "      <td>2</td>\n",
       "      <td>34</td>\n",
       "      <td>0</td>\n",
       "      <td>0</td>\n",
       "      <td>0</td>\n",
       "      <td>0</td>\n",
       "      <td>0</td>\n",
       "      <td>0</td>\n",
       "      <td>...</td>\n",
       "      <td>1000</td>\n",
       "      <td>5000</td>\n",
       "      <td>1</td>\n",
       "      <td>0</td>\n",
       "      <td>0</td>\n",
       "      <td>0</td>\n",
       "      <td>0</td>\n",
       "      <td>1</td>\n",
       "      <td>0</td>\n",
       "      <td>1</td>\n",
       "    </tr>\n",
       "    <tr>\n",
       "      <th>3</th>\n",
       "      <td>4</td>\n",
       "      <td>50000</td>\n",
       "      <td>1</td>\n",
       "      <td>37</td>\n",
       "      <td>0</td>\n",
       "      <td>0</td>\n",
       "      <td>0</td>\n",
       "      <td>0</td>\n",
       "      <td>0</td>\n",
       "      <td>0</td>\n",
       "      <td>...</td>\n",
       "      <td>1069</td>\n",
       "      <td>1000</td>\n",
       "      <td>1</td>\n",
       "      <td>0</td>\n",
       "      <td>0</td>\n",
       "      <td>0</td>\n",
       "      <td>0</td>\n",
       "      <td>1</td>\n",
       "      <td>0</td>\n",
       "      <td>1</td>\n",
       "    </tr>\n",
       "    <tr>\n",
       "      <th>4</th>\n",
       "      <td>5</td>\n",
       "      <td>50000</td>\n",
       "      <td>1</td>\n",
       "      <td>57</td>\n",
       "      <td>-1</td>\n",
       "      <td>0</td>\n",
       "      <td>-1</td>\n",
       "      <td>0</td>\n",
       "      <td>0</td>\n",
       "      <td>0</td>\n",
       "      <td>...</td>\n",
       "      <td>689</td>\n",
       "      <td>679</td>\n",
       "      <td>0</td>\n",
       "      <td>1</td>\n",
       "      <td>0</td>\n",
       "      <td>0</td>\n",
       "      <td>0</td>\n",
       "      <td>1</td>\n",
       "      <td>0</td>\n",
       "      <td>1</td>\n",
       "    </tr>\n",
       "  </tbody>\n",
       "</table>\n",
       "<p>5 rows × 30 columns</p>\n",
       "</div>"
      ],
      "text/plain": [
       "   ID  LIMIT_BAL  MARRIAGE  AGE  PAY_1  PAY_2  PAY_3  PAY_4  PAY_5  PAY_6  \\\n",
       "0   1      20000         1   24      2      2     -1     -1     -2     -2   \n",
       "1   2     120000         2   26     -1      2      0      0      0      2   \n",
       "2   3      90000         2   34      0      0      0      0      0      0   \n",
       "3   4      50000         1   37      0      0      0      0      0      0   \n",
       "4   5      50000         1   57     -1      0     -1      0      0      0   \n",
       "\n",
       "   ...  PAY_AMT5  PAY_AMT6  SEX_female  SEX_male  EDUCATION_graduate school  \\\n",
       "0  ...         0         0           1         0                          0   \n",
       "1  ...         0      2000           1         0                          0   \n",
       "2  ...      1000      5000           1         0                          0   \n",
       "3  ...      1069      1000           1         0                          0   \n",
       "4  ...       689       679           0         1                          0   \n",
       "\n",
       "   EDUCATION_high school  EDUCATION_other  EDUCATION_university  \\\n",
       "0                      0                0                     1   \n",
       "1                      0                0                     1   \n",
       "2                      0                0                     1   \n",
       "3                      0                0                     1   \n",
       "4                      0                0                     1   \n",
       "\n",
       "   DEFAULT_default  DEFAULT_not default  \n",
       "0                1                    0  \n",
       "1                1                    0  \n",
       "2                0                    1  \n",
       "3                0                    1  \n",
       "4                0                    1  \n",
       "\n",
       "[5 rows x 30 columns]"
      ]
     },
     "execution_count": 4,
     "metadata": {},
     "output_type": "execute_result"
    }
   ],
   "source": [
    "df = pd.read_csv('creditOne_cleaned_formatted.csv', index_col=0)\n",
    "df.rename(columns={'PAY_0':'PAY_1'}, inplace=True)\n",
    "df = pd.get_dummies(df)\n",
    "df.head()"
   ]
  },
  {
   "cell_type": "code",
   "execution_count": 5,
   "metadata": {},
   "outputs": [
    {
     "name": "stdout",
     "output_type": "stream",
     "text": [
      "<class 'pandas.core.frame.DataFrame'>\n",
      "Int64Index: 30000 entries, 0 to 29999\n",
      "Data columns (total 30 columns):\n",
      " #   Column                     Non-Null Count  Dtype\n",
      "---  ------                     --------------  -----\n",
      " 0   ID                         30000 non-null  int64\n",
      " 1   LIMIT_BAL                  30000 non-null  int64\n",
      " 2   MARRIAGE                   30000 non-null  int64\n",
      " 3   AGE                        30000 non-null  int64\n",
      " 4   PAY_1                      30000 non-null  int64\n",
      " 5   PAY_2                      30000 non-null  int64\n",
      " 6   PAY_3                      30000 non-null  int64\n",
      " 7   PAY_4                      30000 non-null  int64\n",
      " 8   PAY_5                      30000 non-null  int64\n",
      " 9   PAY_6                      30000 non-null  int64\n",
      " 10  BILL_AMT1                  30000 non-null  int64\n",
      " 11  BILL_AMT2                  30000 non-null  int64\n",
      " 12  BILL_AMT3                  30000 non-null  int64\n",
      " 13  BILL_AMT4                  30000 non-null  int64\n",
      " 14  BILL_AMT5                  30000 non-null  int64\n",
      " 15  BILL_AMT6                  30000 non-null  int64\n",
      " 16  PAY_AMT1                   30000 non-null  int64\n",
      " 17  PAY_AMT2                   30000 non-null  int64\n",
      " 18  PAY_AMT3                   30000 non-null  int64\n",
      " 19  PAY_AMT4                   30000 non-null  int64\n",
      " 20  PAY_AMT5                   30000 non-null  int64\n",
      " 21  PAY_AMT6                   30000 non-null  int64\n",
      " 22  SEX_female                 30000 non-null  uint8\n",
      " 23  SEX_male                   30000 non-null  uint8\n",
      " 24  EDUCATION_graduate school  30000 non-null  uint8\n",
      " 25  EDUCATION_high school      30000 non-null  uint8\n",
      " 26  EDUCATION_other            30000 non-null  uint8\n",
      " 27  EDUCATION_university       30000 non-null  uint8\n",
      " 28  DEFAULT_default            30000 non-null  uint8\n",
      " 29  DEFAULT_not default        30000 non-null  uint8\n",
      "dtypes: int64(22), uint8(8)\n",
      "memory usage: 5.5 MB\n"
     ]
    }
   ],
   "source": [
    "df.info()"
   ]
  },
  {
   "cell_type": "markdown",
   "metadata": {},
   "source": [
    "# Modeling"
   ]
  },
  {
   "cell_type": "markdown",
   "metadata": {},
   "source": [
    "## Business problem: \"The bottom line is they need a much better way to understand how much credit to allow someone to use or, at the very least, if someone should be approved or not.\""
   ]
  },
  {
   "cell_type": "code",
   "execution_count": 6,
   "metadata": {},
   "outputs": [
    {
     "name": "stdout",
     "output_type": "stream",
     "text": [
      "Summary of feature sample\n"
     ]
    },
    {
     "data": {
      "text/html": [
       "<div>\n",
       "<style scoped>\n",
       "    .dataframe tbody tr th:only-of-type {\n",
       "        vertical-align: middle;\n",
       "    }\n",
       "\n",
       "    .dataframe tbody tr th {\n",
       "        vertical-align: top;\n",
       "    }\n",
       "\n",
       "    .dataframe thead th {\n",
       "        text-align: right;\n",
       "    }\n",
       "</style>\n",
       "<table border=\"1\" class=\"dataframe\">\n",
       "  <thead>\n",
       "    <tr style=\"text-align: right;\">\n",
       "      <th></th>\n",
       "      <th>AGE</th>\n",
       "      <th>PAY_1</th>\n",
       "      <th>PAY_2</th>\n",
       "      <th>PAY_3</th>\n",
       "      <th>PAY_4</th>\n",
       "      <th>PAY_5</th>\n",
       "      <th>PAY_6</th>\n",
       "      <th>BILL_AMT1</th>\n",
       "      <th>BILL_AMT2</th>\n",
       "      <th>BILL_AMT3</th>\n",
       "      <th>...</th>\n",
       "      <th>BILL_AMT5</th>\n",
       "      <th>BILL_AMT6</th>\n",
       "      <th>PAY_AMT1</th>\n",
       "      <th>PAY_AMT2</th>\n",
       "      <th>PAY_AMT3</th>\n",
       "      <th>PAY_AMT4</th>\n",
       "      <th>PAY_AMT5</th>\n",
       "      <th>PAY_AMT6</th>\n",
       "      <th>SEX_female</th>\n",
       "      <th>SEX_male</th>\n",
       "    </tr>\n",
       "  </thead>\n",
       "  <tbody>\n",
       "    <tr>\n",
       "      <th>0</th>\n",
       "      <td>24</td>\n",
       "      <td>2</td>\n",
       "      <td>2</td>\n",
       "      <td>-1</td>\n",
       "      <td>-1</td>\n",
       "      <td>-2</td>\n",
       "      <td>-2</td>\n",
       "      <td>3913</td>\n",
       "      <td>3102</td>\n",
       "      <td>689</td>\n",
       "      <td>...</td>\n",
       "      <td>0</td>\n",
       "      <td>0</td>\n",
       "      <td>0</td>\n",
       "      <td>689</td>\n",
       "      <td>0</td>\n",
       "      <td>0</td>\n",
       "      <td>0</td>\n",
       "      <td>0</td>\n",
       "      <td>1</td>\n",
       "      <td>0</td>\n",
       "    </tr>\n",
       "    <tr>\n",
       "      <th>1</th>\n",
       "      <td>26</td>\n",
       "      <td>-1</td>\n",
       "      <td>2</td>\n",
       "      <td>0</td>\n",
       "      <td>0</td>\n",
       "      <td>0</td>\n",
       "      <td>2</td>\n",
       "      <td>2682</td>\n",
       "      <td>1725</td>\n",
       "      <td>2682</td>\n",
       "      <td>...</td>\n",
       "      <td>3455</td>\n",
       "      <td>3261</td>\n",
       "      <td>0</td>\n",
       "      <td>1000</td>\n",
       "      <td>1000</td>\n",
       "      <td>1000</td>\n",
       "      <td>0</td>\n",
       "      <td>2000</td>\n",
       "      <td>1</td>\n",
       "      <td>0</td>\n",
       "    </tr>\n",
       "  </tbody>\n",
       "</table>\n",
       "<p>2 rows × 21 columns</p>\n",
       "</div>"
      ],
      "text/plain": [
       "   AGE  PAY_1  PAY_2  PAY_3  PAY_4  PAY_5  PAY_6  BILL_AMT1  BILL_AMT2  \\\n",
       "0   24      2      2     -1     -1     -2     -2       3913       3102   \n",
       "1   26     -1      2      0      0      0      2       2682       1725   \n",
       "\n",
       "   BILL_AMT3  ...  BILL_AMT5  BILL_AMT6  PAY_AMT1  PAY_AMT2  PAY_AMT3  \\\n",
       "0        689  ...          0          0         0       689         0   \n",
       "1       2682  ...       3455       3261         0      1000      1000   \n",
       "\n",
       "   PAY_AMT4  PAY_AMT5  PAY_AMT6  SEX_female  SEX_male  \n",
       "0         0         0         0           1         0  \n",
       "1      1000         0      2000           1         0  \n",
       "\n",
       "[2 rows x 21 columns]"
      ]
     },
     "execution_count": 6,
     "metadata": {},
     "output_type": "execute_result"
    }
   ],
   "source": [
    "#features\n",
    "X = df.iloc[:,3:24]\n",
    "print('Summary of feature sample')\n",
    "X.head(2)"
   ]
  },
  {
   "cell_type": "code",
   "execution_count": 7,
   "metadata": {},
   "outputs": [],
   "source": [
    "# dependent variable\n",
    "y=df['LIMIT_BAL']"
   ]
  },
  {
   "cell_type": "code",
   "execution_count": 8,
   "metadata": {},
   "outputs": [],
   "source": [
    "model = LinearRegression(n_jobs=10)"
   ]
  },
  {
   "cell_type": "code",
   "execution_count": 9,
   "metadata": {},
   "outputs": [
    {
     "name": "stdout",
     "output_type": "stream",
     "text": [
      "[0.31050506 0.33093835 0.29553982]\n"
     ]
    }
   ],
   "source": [
    "print(cross_val_score(model, X, y, cv=3)) "
   ]
  },
  {
   "cell_type": "markdown",
   "metadata": {},
   "source": [
    "## Modeling Format and Model Selection"
   ]
  },
  {
   "cell_type": "markdown",
   "metadata": {},
   "source": [
    "Import regression algorithms into a list so they can be run serially"
   ]
  },
  {
   "cell_type": "code",
   "execution_count": 10,
   "metadata": {},
   "outputs": [],
   "source": [
    "algosClass = []\n",
    "algosClass.append(('Random Forest Regressor',RandomForestRegressor()))\n",
    "algosClass.append(('Linear Regression',LinearRegression()))\n",
    "algosClass.append(('Support Vector Regression',SVR()))"
   ]
  },
  {
   "cell_type": "code",
   "execution_count": 11,
   "metadata": {},
   "outputs": [],
   "source": [
    "#regression\n",
    "#results = []\n",
    "#names = []\n",
    "#for name, model in algosClass:\n",
    "#    result = cross_val_score(model, X,y, cv=3, scoring='r2')\n",
    "#    names.append(name)\n",
    "#    results.append(result)\n",
    "#for i in range(len(names)):\n",
    "#    print(names[i],results[i].mean())"
   ]
  },
  {
   "cell_type": "markdown",
   "metadata": {},
   "source": [
    "X = df.iloc[:,3:24]  \n",
    "Random Forest Regressor 0.4478359282537678  \n",
    "Linear Regression 0.31232774134169866  \n",
    "Support Vector Regression -0.0503310512284337"
   ]
  },
  {
   "cell_type": "markdown",
   "metadata": {},
   "source": [
    "*Let's try with just those columns that correlated well*"
   ]
  },
  {
   "cell_type": "code",
   "execution_count": 12,
   "metadata": {},
   "outputs": [],
   "source": [
    "#X= df.iloc[:,4:10]\n",
    "#results = []\n",
    "#names = []\n",
    "#for name, model in algosClass:\n",
    "#    result = cross_val_score(model, X,y, cv=3, scoring='r2')\n",
    "#    names.append(name)\n",
    "#    results.append(result)\n",
    "#for i in range(len(names)):\n",
    "#    print(names[i],results[i].mean())"
   ]
  },
  {
   "cell_type": "markdown",
   "metadata": {},
   "source": [
    "X= df.iloc[:,4:10]  \n",
    "Random Forest Regressor 0.10574276820435224  \n",
    "Linear Regression 0.101961724682885  \n",
    "Support Vector Regression -0.050732632640690355  \n"
   ]
  },
  {
   "cell_type": "markdown",
   "metadata": {},
   "source": [
    "*definitely much worse.  It's a good idea to keep more columns in, even if it takes longer.  Let's try with them all:*"
   ]
  },
  {
   "cell_type": "code",
   "execution_count": 13,
   "metadata": {},
   "outputs": [],
   "source": [
    "#X = df.iloc[:,2:30]\n",
    "#results = []\n",
    "#names = []\n",
    "#for name, model in algosClass:\n",
    "#    result = cross_val_score(model, X,y, cv=3, scoring='r2')\n",
    "#    names.append(name)\n",
    "#    results.append(result)\n",
    "#for i in range(len(names)):\n",
    "#    print(names[i],results[i].mean())"
   ]
  },
  {
   "cell_type": "markdown",
   "metadata": {},
   "source": [
    "X = df.iloc[:,2:30]  \n",
    "Random Forest Regressor 0.467454580873716  \n",
    "Linear Regression 0.35819894266104485  \n",
    "Support Vector Regression -0.05038589493310345"
   ]
  },
  {
   "cell_type": "code",
   "execution_count": 14,
   "metadata": {},
   "outputs": [
    {
     "data": {
      "text/html": [
       "<div>\n",
       "<style scoped>\n",
       "    .dataframe tbody tr th:only-of-type {\n",
       "        vertical-align: middle;\n",
       "    }\n",
       "\n",
       "    .dataframe tbody tr th {\n",
       "        vertical-align: top;\n",
       "    }\n",
       "\n",
       "    .dataframe thead th {\n",
       "        text-align: right;\n",
       "    }\n",
       "</style>\n",
       "<table border=\"1\" class=\"dataframe\">\n",
       "  <thead>\n",
       "    <tr style=\"text-align: right;\">\n",
       "      <th></th>\n",
       "      <th>MARRIAGE</th>\n",
       "      <th>AGE</th>\n",
       "      <th>PAY_1</th>\n",
       "      <th>PAY_2</th>\n",
       "      <th>PAY_3</th>\n",
       "      <th>PAY_4</th>\n",
       "      <th>PAY_5</th>\n",
       "      <th>PAY_6</th>\n",
       "      <th>BILL_AMT1</th>\n",
       "      <th>BILL_AMT2</th>\n",
       "      <th>...</th>\n",
       "      <th>PAY_AMT5</th>\n",
       "      <th>PAY_AMT6</th>\n",
       "      <th>SEX_female</th>\n",
       "      <th>SEX_male</th>\n",
       "      <th>EDUCATION_graduate school</th>\n",
       "      <th>EDUCATION_high school</th>\n",
       "      <th>EDUCATION_other</th>\n",
       "      <th>EDUCATION_university</th>\n",
       "      <th>DEFAULT_default</th>\n",
       "      <th>DEFAULT_not default</th>\n",
       "    </tr>\n",
       "  </thead>\n",
       "  <tbody>\n",
       "    <tr>\n",
       "      <th>0</th>\n",
       "      <td>1</td>\n",
       "      <td>24</td>\n",
       "      <td>2</td>\n",
       "      <td>2</td>\n",
       "      <td>-1</td>\n",
       "      <td>-1</td>\n",
       "      <td>-2</td>\n",
       "      <td>-2</td>\n",
       "      <td>3913</td>\n",
       "      <td>3102</td>\n",
       "      <td>...</td>\n",
       "      <td>0</td>\n",
       "      <td>0</td>\n",
       "      <td>1</td>\n",
       "      <td>0</td>\n",
       "      <td>0</td>\n",
       "      <td>0</td>\n",
       "      <td>0</td>\n",
       "      <td>1</td>\n",
       "      <td>1</td>\n",
       "      <td>0</td>\n",
       "    </tr>\n",
       "    <tr>\n",
       "      <th>1</th>\n",
       "      <td>2</td>\n",
       "      <td>26</td>\n",
       "      <td>-1</td>\n",
       "      <td>2</td>\n",
       "      <td>0</td>\n",
       "      <td>0</td>\n",
       "      <td>0</td>\n",
       "      <td>2</td>\n",
       "      <td>2682</td>\n",
       "      <td>1725</td>\n",
       "      <td>...</td>\n",
       "      <td>0</td>\n",
       "      <td>2000</td>\n",
       "      <td>1</td>\n",
       "      <td>0</td>\n",
       "      <td>0</td>\n",
       "      <td>0</td>\n",
       "      <td>0</td>\n",
       "      <td>1</td>\n",
       "      <td>1</td>\n",
       "      <td>0</td>\n",
       "    </tr>\n",
       "  </tbody>\n",
       "</table>\n",
       "<p>2 rows × 28 columns</p>\n",
       "</div>"
      ],
      "text/plain": [
       "   MARRIAGE  AGE  PAY_1  PAY_2  PAY_3  PAY_4  PAY_5  PAY_6  BILL_AMT1  \\\n",
       "0         1   24      2      2     -1     -1     -2     -2       3913   \n",
       "1         2   26     -1      2      0      0      0      2       2682   \n",
       "\n",
       "   BILL_AMT2  ...  PAY_AMT5  PAY_AMT6  SEX_female  SEX_male  \\\n",
       "0       3102  ...         0         0           1         0   \n",
       "1       1725  ...         0      2000           1         0   \n",
       "\n",
       "   EDUCATION_graduate school  EDUCATION_high school  EDUCATION_other  \\\n",
       "0                          0                      0                0   \n",
       "1                          0                      0                0   \n",
       "\n",
       "   EDUCATION_university  DEFAULT_default  DEFAULT_not default  \n",
       "0                     1                1                    0  \n",
       "1                     1                1                    0  \n",
       "\n",
       "[2 rows x 28 columns]"
      ]
     },
     "execution_count": 14,
     "metadata": {},
     "output_type": "execute_result"
    }
   ],
   "source": [
    "X = df.iloc[:,2:30]\n",
    "X.head(2)"
   ]
  },
  {
   "cell_type": "markdown",
   "metadata": {},
   "source": [
    "### Choose the algorithm"
   ]
  },
  {
   "cell_type": "code",
   "execution_count": 31,
   "metadata": {},
   "outputs": [],
   "source": [
    "algo = RandomForestRegressor(n_estimators=100,min_samples_leaf=20)\n",
    "#algo = LinearRegression()"
   ]
  },
  {
   "cell_type": "code",
   "execution_count": 32,
   "metadata": {},
   "outputs": [
    {
     "name": "stdout",
     "output_type": "stream",
     "text": [
      "(22500, 28) (7500, 28)\n",
      "(22500,) (7500,)\n"
     ]
    }
   ],
   "source": [
    "# ToDo: split data into train/test sections\n",
    "X_train, X_test, y_train, y_test = train_test_split(X, y, test_size=0.25, random_state=42)\n",
    "print(X_train.shape, X_test.shape)\n",
    "print(y_train.shape, y_test.shape)"
   ]
  },
  {
   "cell_type": "code",
   "execution_count": 33,
   "metadata": {},
   "outputs": [],
   "source": [
    "model = algo.fit(X_train,y_train)"
   ]
  },
  {
   "cell_type": "code",
   "execution_count": 34,
   "metadata": {},
   "outputs": [
    {
     "name": "stdout",
     "output_type": "stream",
     "text": [
      "R Squared: 0.485\n",
      "RMSE: 93578.034\n"
     ]
    }
   ],
   "source": [
    "predictions = model.predict(X_test)\n",
    "predRsquared = r2_score(y_test,predictions)\n",
    "rmse = sqrt(mean_squared_error(y_test, predictions))\n",
    "print('R Squared: %.3f' % predRsquared)\n",
    "print('RMSE: %.3f' % rmse)"
   ]
  },
  {
   "cell_type": "markdown",
   "metadata": {},
   "source": [
    "Random Forest (untuned):  \n",
    "R Squared: 0.476, RMSE: 94415.243  \n",
    "Random Forest (tuned):  \n",
    "R Squared: 0.485, RMSE: 93578.034  \n",
    "Linear Regression:  \n",
    "R Squared: 0.370,  RMSE: 103500.020\n",
    "\n",
    "*These are pretty close to the cross-validation scores*\n",
    "\n"
   ]
  },
  {
   "cell_type": "code",
   "execution_count": 36,
   "metadata": {},
   "outputs": [
    {
     "data": {
      "image/png": "[encoded data removed]",
      "text/plain": [
       "<Figure size 432x288 with 1 Axes>"
      ]
     },
     "metadata": {
      "needs_background": "light"
     },
     "output_type": "display_data"
    }
   ],
   "source": [
    "#plt.scatter(y_test, predictions, alpha = 0.5)\n",
    "plt.scatter(y_test[0:400], predictions[0:400], alpha = 0.5)\n",
    "plt.xlabel('Ground Truth')\n",
    "plt.ylabel('Predictions')\n",
    "plt.plot(y_test[0:400],y_test[0:400], c='red')\n",
    "plt.tight_layout()\n",
    "plt.savefig('model_fitting.png')\n",
    "plt.show();"
   ]
  },
  {
   "cell_type": "markdown",
   "metadata": {},
   "source": [
    "Predictions look to run a bit high on the low end of the x-range, and run under at the high end of the x-range"
   ]
  },
  {
   "cell_type": "markdown",
   "metadata": {},
   "source": [
    "*maybe consider taking a subset of the data with no defaults?*  Maybe compare RMS for defaulters vs. non-defaulters?  \n",
    "**Interpreted from slack:  try binning LIMIT_BAL and turning this into a classification model like C1T2**"
   ]
  },
  {
   "cell_type": "markdown",
   "metadata": {},
   "source": [
    "from Task1: **The bottom line is they need a much better way to understand how much credit to allow someone to use or, at the very least, if someone should be approved or not**  \n",
    "*Idea: use classification models to look at:*  \n",
    "* binned limit data\n",
    "* default"
   ]
  },
  {
   "cell_type": "markdown",
   "metadata": {},
   "source": [
    "## Classification Modelling - LimitBal"
   ]
  },
  {
   "cell_type": "code",
   "execution_count": 142,
   "metadata": {},
   "outputs": [],
   "source": [
    "#make a copy of the dataframe to play with discretization\n",
    "df2 = df.copy(deep=True)"
   ]
  },
  {
   "cell_type": "code",
   "execution_count": 143,
   "metadata": {},
   "outputs": [
    {
     "data": {
      "text/plain": [
       "count      30000.000000\n",
       "mean      167484.322667\n",
       "std       129747.661567\n",
       "min        10000.000000\n",
       "25%        50000.000000\n",
       "50%       140000.000000\n",
       "75%       240000.000000\n",
       "max      1000000.000000\n",
       "Name: LIMIT_BAL, dtype: float64"
      ]
     },
     "execution_count": 143,
     "metadata": {},
     "output_type": "execute_result"
    }
   ],
   "source": [
    "df2['LIMIT_BAL'].describe()\n",
    "#"
   ]
  },
  {
   "cell_type": "code",
   "execution_count": 144,
   "metadata": {},
   "outputs": [],
   "source": [
    "bins = 9\n",
    "limit_bin = pd.qcut(df2['LIMIT_BAL'],bins, labels=range(1, bins+1))"
   ]
  },
  {
   "cell_type": "code",
   "execution_count": 145,
   "metadata": {},
   "outputs": [
    {
     "data": {
      "text/plain": [
       "0    1\n",
       "1    4\n",
       "2    4\n",
       "3    2\n",
       "4    2\n",
       "Name: limit_bin, dtype: category\n",
       "Categories (9, int64): [1 < 2 < 3 < 4 ... 6 < 7 < 8 < 9]"
      ]
     },
     "execution_count": 145,
     "metadata": {},
     "output_type": "execute_result"
    }
   ],
   "source": [
    "df2['limit_bin'] = limit_bin\n",
    "df2['limit_bin'].head()"
   ]
  },
  {
   "cell_type": "code",
   "execution_count": 146,
   "metadata": {},
   "outputs": [
    {
     "data": {
      "text/html": [
       "<div>\n",
       "<style scoped>\n",
       "    .dataframe tbody tr th:only-of-type {\n",
       "        vertical-align: middle;\n",
       "    }\n",
       "\n",
       "    .dataframe tbody tr th {\n",
       "        vertical-align: top;\n",
       "    }\n",
       "\n",
       "    .dataframe thead th {\n",
       "        text-align: right;\n",
       "    }\n",
       "</style>\n",
       "<table border=\"1\" class=\"dataframe\">\n",
       "  <thead>\n",
       "    <tr style=\"text-align: right;\">\n",
       "      <th></th>\n",
       "      <th>MARRIAGE</th>\n",
       "      <th>AGE</th>\n",
       "      <th>PAY_1</th>\n",
       "      <th>PAY_2</th>\n",
       "      <th>PAY_3</th>\n",
       "      <th>PAY_4</th>\n",
       "      <th>PAY_5</th>\n",
       "      <th>PAY_6</th>\n",
       "      <th>BILL_AMT1</th>\n",
       "      <th>BILL_AMT2</th>\n",
       "      <th>...</th>\n",
       "      <th>PAY_AMT5</th>\n",
       "      <th>PAY_AMT6</th>\n",
       "      <th>SEX_female</th>\n",
       "      <th>SEX_male</th>\n",
       "      <th>EDUCATION_graduate school</th>\n",
       "      <th>EDUCATION_high school</th>\n",
       "      <th>EDUCATION_other</th>\n",
       "      <th>EDUCATION_university</th>\n",
       "      <th>DEFAULT_default</th>\n",
       "      <th>DEFAULT_not default</th>\n",
       "    </tr>\n",
       "  </thead>\n",
       "  <tbody>\n",
       "    <tr>\n",
       "      <th>0</th>\n",
       "      <td>1</td>\n",
       "      <td>24</td>\n",
       "      <td>2</td>\n",
       "      <td>2</td>\n",
       "      <td>-1</td>\n",
       "      <td>-1</td>\n",
       "      <td>-2</td>\n",
       "      <td>-2</td>\n",
       "      <td>3913</td>\n",
       "      <td>3102</td>\n",
       "      <td>...</td>\n",
       "      <td>0</td>\n",
       "      <td>0</td>\n",
       "      <td>1</td>\n",
       "      <td>0</td>\n",
       "      <td>0</td>\n",
       "      <td>0</td>\n",
       "      <td>0</td>\n",
       "      <td>1</td>\n",
       "      <td>1</td>\n",
       "      <td>0</td>\n",
       "    </tr>\n",
       "    <tr>\n",
       "      <th>1</th>\n",
       "      <td>2</td>\n",
       "      <td>26</td>\n",
       "      <td>-1</td>\n",
       "      <td>2</td>\n",
       "      <td>0</td>\n",
       "      <td>0</td>\n",
       "      <td>0</td>\n",
       "      <td>2</td>\n",
       "      <td>2682</td>\n",
       "      <td>1725</td>\n",
       "      <td>...</td>\n",
       "      <td>0</td>\n",
       "      <td>2000</td>\n",
       "      <td>1</td>\n",
       "      <td>0</td>\n",
       "      <td>0</td>\n",
       "      <td>0</td>\n",
       "      <td>0</td>\n",
       "      <td>1</td>\n",
       "      <td>1</td>\n",
       "      <td>0</td>\n",
       "    </tr>\n",
       "  </tbody>\n",
       "</table>\n",
       "<p>2 rows × 28 columns</p>\n",
       "</div>"
      ],
      "text/plain": [
       "   MARRIAGE  AGE  PAY_1  PAY_2  PAY_3  PAY_4  PAY_5  PAY_6  BILL_AMT1  \\\n",
       "0         1   24      2      2     -1     -1     -2     -2       3913   \n",
       "1         2   26     -1      2      0      0      0      2       2682   \n",
       "\n",
       "   BILL_AMT2  ...  PAY_AMT5  PAY_AMT6  SEX_female  SEX_male  \\\n",
       "0       3102  ...         0         0           1         0   \n",
       "1       1725  ...         0      2000           1         0   \n",
       "\n",
       "   EDUCATION_graduate school  EDUCATION_high school  EDUCATION_other  \\\n",
       "0                          0                      0                0   \n",
       "1                          0                      0                0   \n",
       "\n",
       "   EDUCATION_university  DEFAULT_default  DEFAULT_not default  \n",
       "0                     1                1                    0  \n",
       "1                     1                1                    0  \n",
       "\n",
       "[2 rows x 28 columns]"
      ]
     },
     "execution_count": 146,
     "metadata": {},
     "output_type": "execute_result"
    }
   ],
   "source": [
    "# use the limit_bin as our dependent variable\n",
    "Yclass=df2['limit_bin']\n",
    "Xclass = df2.iloc[:,2:30]\n",
    "Xclass.head(2)"
   ]
  },
  {
   "cell_type": "code",
   "execution_count": 147,
   "metadata": {},
   "outputs": [],
   "source": [
    "Xclass_train, Xclass_test, Yclass_train, Yclass_test = train_test_split(Xclass, \n",
    "                                                                        Yclass, \n",
    "                                                                        test_size=0.25, \n",
    "                                                                        random_state=42)"
   ]
  },
  {
   "cell_type": "markdown",
   "metadata": {},
   "source": [
    "### Select Classification Models"
   ]
  },
  {
   "cell_type": "code",
   "execution_count": 148,
   "metadata": {},
   "outputs": [],
   "source": [
    "# create empty list and then populate it with the following models\n",
    "\n",
    "models = []\n",
    "models.append(('DT', DecisionTreeClassifier()))\n",
    "models.append(('RF', RandomForestClassifier()))\n",
    "models.append(('GB', GradientBoostingClassifier()))\n",
    "\n",
    "# create empty lists to hold results and model names\n",
    "results = []\n",
    "names = []"
   ]
  },
  {
   "cell_type": "markdown",
   "metadata": {},
   "source": [
    "### Classification Cross Validation"
   ]
  },
  {
   "cell_type": "code",
   "execution_count": 149,
   "metadata": {},
   "outputs": [
    {
     "name": "stdout",
     "output_type": "stream",
     "text": [
      "DT 0.3001777777777778\n",
      "RF 0.3953333333333333\n",
      "GB 0.4048444444444444\n"
     ]
    }
   ],
   "source": [
    "for name, model in models:\n",
    "    kfold = KFold(n_splits=3, random_state=43, shuffle=True)\n",
    "    result = cross_val_score(model,\n",
    "                             Xclass_train,\n",
    "                             Yclass_train,   \n",
    "                             cv=kfold,\n",
    "                             scoring='accuracy')\n",
    "    names.append(name)\n",
    "    results.append(result)\n",
    "    #msg = '%s: %.4f (%.4f)' % (name, result.mean(), result.std())\n",
    "\n",
    "# print results\n",
    "for i in range(len(names)):\n",
    "    print(names[i],results[i].mean())"
   ]
  },
  {
   "cell_type": "markdown",
   "metadata": {},
   "source": [
    "Gradient Boosting Classifier appears to be the best bet"
   ]
  },
  {
   "cell_type": "code",
   "execution_count": 158,
   "metadata": {},
   "outputs": [
    {
     "name": "stdout",
     "output_type": "stream",
     "text": [
      "0.4132\n",
      "              precision    recall  f1-score   support\n",
      "\n",
      "           1       0.54      0.86      0.66      1033\n",
      "           2       0.56      0.55      0.56       902\n",
      "           3       0.45      0.43      0.44       782\n",
      "           4       0.42      0.34      0.37       746\n",
      "           5       0.36      0.25      0.30       795\n",
      "           6       0.28      0.20      0.23       816\n",
      "           7       0.27      0.25      0.26       861\n",
      "           8       0.29      0.39      0.33       936\n",
      "           9       0.44      0.30      0.36       629\n",
      "\n",
      "    accuracy                           0.41      7500\n",
      "   macro avg       0.40      0.40      0.39      7500\n",
      "weighted avg       0.40      0.41      0.40      7500\n",
      "\n"
     ]
    }
   ],
   "source": [
    "gb = GradientBoostingClassifier(max_depth=3, random_state=0) # , learning_rate=0.01, n_estimators=500\n",
    "# train/fit the mode using amt as dv\n",
    "gbModel = gb.fit(Xclass_train, Yclass_train)\n",
    "# make predicitons with the trained/fit model\n",
    "gbPred = gbModel.predict(Xclass_test)\n",
    "# performance metrics\n",
    "print(accuracy_score(Yclass_test, gbPred))\n",
    "print(classification_report(Yclass_test, gbPred))"
   ]
  },
  {
   "cell_type": "markdown",
   "metadata": {},
   "source": [
    "**The binning appears to have decreased the ability to accurately model**"
   ]
  },
  {
   "cell_type": "code",
   "execution_count": 159,
   "metadata": {},
   "outputs": [
    {
     "data": {
      "image/png": "[encoded data removed]",
      "text/plain": [
       "<Figure size 432x288 with 1 Axes>"
      ]
     },
     "metadata": {
      "needs_background": "light"
     },
     "output_type": "display_data"
    }
   ],
   "source": [
    "#plt.scatter(y_test, predictions, alpha = 0.5)\n",
    "plt.scatter(Yclass_test[0:200], gbPred[0:200], alpha = 0.5)\n",
    "plt.xlabel('Ground Truth')\n",
    "plt.ylabel('Predictions')\n",
    "#plt.plot(y_test[0:200],y_test[0:200], c='red')\n",
    "plt.show();"
   ]
  },
  {
   "cell_type": "markdown",
   "metadata": {},
   "source": [
    "We can clearly see some pretty far-off preditctions using this model.  Many points were off by a large number of bins"
   ]
  },
  {
   "cell_type": "markdown",
   "metadata": {},
   "source": [
    "## Classification Modelling - Default"
   ]
  },
  {
   "cell_type": "code",
   "execution_count": 160,
   "metadata": {},
   "outputs": [
    {
     "data": {
      "text/html": [
       "<div>\n",
       "<style scoped>\n",
       "    .dataframe tbody tr th:only-of-type {\n",
       "        vertical-align: middle;\n",
       "    }\n",
       "\n",
       "    .dataframe tbody tr th {\n",
       "        vertical-align: top;\n",
       "    }\n",
       "\n",
       "    .dataframe thead th {\n",
       "        text-align: right;\n",
       "    }\n",
       "</style>\n",
       "<table border=\"1\" class=\"dataframe\">\n",
       "  <thead>\n",
       "    <tr style=\"text-align: right;\">\n",
       "      <th></th>\n",
       "      <th>LIMIT_BAL</th>\n",
       "      <th>MARRIAGE</th>\n",
       "      <th>AGE</th>\n",
       "      <th>PAY_1</th>\n",
       "      <th>PAY_2</th>\n",
       "      <th>PAY_3</th>\n",
       "      <th>PAY_4</th>\n",
       "      <th>PAY_5</th>\n",
       "      <th>PAY_6</th>\n",
       "      <th>BILL_AMT1</th>\n",
       "      <th>...</th>\n",
       "      <th>PAY_AMT2</th>\n",
       "      <th>PAY_AMT3</th>\n",
       "      <th>PAY_AMT4</th>\n",
       "      <th>PAY_AMT5</th>\n",
       "      <th>PAY_AMT6</th>\n",
       "      <th>SEX_female</th>\n",
       "      <th>SEX_male</th>\n",
       "      <th>EDUCATION_graduate school</th>\n",
       "      <th>EDUCATION_high school</th>\n",
       "      <th>EDUCATION_other</th>\n",
       "    </tr>\n",
       "  </thead>\n",
       "  <tbody>\n",
       "    <tr>\n",
       "      <th>0</th>\n",
       "      <td>20000</td>\n",
       "      <td>1</td>\n",
       "      <td>24</td>\n",
       "      <td>2</td>\n",
       "      <td>2</td>\n",
       "      <td>-1</td>\n",
       "      <td>-1</td>\n",
       "      <td>-2</td>\n",
       "      <td>-2</td>\n",
       "      <td>3913</td>\n",
       "      <td>...</td>\n",
       "      <td>689</td>\n",
       "      <td>0</td>\n",
       "      <td>0</td>\n",
       "      <td>0</td>\n",
       "      <td>0</td>\n",
       "      <td>1</td>\n",
       "      <td>0</td>\n",
       "      <td>0</td>\n",
       "      <td>0</td>\n",
       "      <td>0</td>\n",
       "    </tr>\n",
       "    <tr>\n",
       "      <th>1</th>\n",
       "      <td>120000</td>\n",
       "      <td>2</td>\n",
       "      <td>26</td>\n",
       "      <td>-1</td>\n",
       "      <td>2</td>\n",
       "      <td>0</td>\n",
       "      <td>0</td>\n",
       "      <td>0</td>\n",
       "      <td>2</td>\n",
       "      <td>2682</td>\n",
       "      <td>...</td>\n",
       "      <td>1000</td>\n",
       "      <td>1000</td>\n",
       "      <td>1000</td>\n",
       "      <td>0</td>\n",
       "      <td>2000</td>\n",
       "      <td>1</td>\n",
       "      <td>0</td>\n",
       "      <td>0</td>\n",
       "      <td>0</td>\n",
       "      <td>0</td>\n",
       "    </tr>\n",
       "  </tbody>\n",
       "</table>\n",
       "<p>2 rows × 26 columns</p>\n",
       "</div>"
      ],
      "text/plain": [
       "   LIMIT_BAL  MARRIAGE  AGE  PAY_1  PAY_2  PAY_3  PAY_4  PAY_5  PAY_6  \\\n",
       "0      20000         1   24      2      2     -1     -1     -2     -2   \n",
       "1     120000         2   26     -1      2      0      0      0      2   \n",
       "\n",
       "   BILL_AMT1  ...  PAY_AMT2  PAY_AMT3  PAY_AMT4  PAY_AMT5  PAY_AMT6  \\\n",
       "0       3913  ...       689         0         0         0         0   \n",
       "1       2682  ...      1000      1000      1000         0      2000   \n",
       "\n",
       "   SEX_female  SEX_male  EDUCATION_graduate school  EDUCATION_high school  \\\n",
       "0           1         0                          0                      0   \n",
       "1           1         0                          0                      0   \n",
       "\n",
       "   EDUCATION_other  \n",
       "0                0  \n",
       "1                0  \n",
       "\n",
       "[2 rows x 26 columns]"
      ]
     },
     "execution_count": 160,
     "metadata": {},
     "output_type": "execute_result"
    }
   ],
   "source": [
    "# use the limit_bin as our dependent variable\n",
    "Ydef=df['DEFAULT_default']\n",
    "Xdef = df.iloc[:,1:27]\n",
    "Xdef.head(2)"
   ]
  },
  {
   "cell_type": "code",
   "execution_count": 161,
   "metadata": {},
   "outputs": [],
   "source": [
    "Xdef_train, Xdef_test, Ydef_train, Ydef_test = train_test_split(Xdef, \n",
    "                                                                Ydef, \n",
    "                                                                test_size=0.25, \n",
    "                                                                random_state=42)"
   ]
  },
  {
   "cell_type": "markdown",
   "metadata": {},
   "source": [
    "### Select Classification Models"
   ]
  },
  {
   "cell_type": "code",
   "execution_count": 162,
   "metadata": {},
   "outputs": [],
   "source": [
    "# create empty list and then populate it with the following models\n",
    "models = []\n",
    "models.append(('DT', DecisionTreeClassifier()))\n",
    "models.append(('RF', RandomForestClassifier()))\n",
    "models.append(('GB', GradientBoostingClassifier()))\n",
    "# create empty lists to hold results and model names\n",
    "results = []\n",
    "names = []"
   ]
  },
  {
   "cell_type": "markdown",
   "metadata": {},
   "source": [
    "### Classification Cross Validation"
   ]
  },
  {
   "cell_type": "code",
   "execution_count": 163,
   "metadata": {},
   "outputs": [
    {
     "name": "stdout",
     "output_type": "stream",
     "text": [
      "DT 0.7301333333333333\n",
      "RF 0.8158222222222222\n",
      "GB 0.8213333333333334\n"
     ]
    }
   ],
   "source": [
    "for name, model in models:\n",
    "    kfold = KFold(n_splits=3, random_state=43, shuffle=True)\n",
    "    result = cross_val_score(model,\n",
    "                             Xdef_train,\n",
    "                             Ydef_train,   \n",
    "                             cv=kfold,\n",
    "                             scoring='accuracy')\n",
    "    names.append(name)\n",
    "    results.append(result)\n",
    "    #msg = '%s: %.4f (%.4f)' % (name, result.mean(), result.std())\n",
    "\n",
    "# print results\n",
    "for i in range(len(names)):\n",
    "    print(names[i],results[i].mean())"
   ]
  },
  {
   "cell_type": "code",
   "execution_count": 166,
   "metadata": {},
   "outputs": [
    {
     "name": "stdout",
     "output_type": "stream",
     "text": [
      "0.8201333333333334\n",
      "               precision    recall  f1-score   support\n",
      "\n",
      "not defaulted       0.84      0.95      0.89      5873\n",
      "    defaulted       0.66      0.36      0.46      1627\n",
      "\n",
      "     accuracy                           0.82      7500\n",
      "    macro avg       0.75      0.65      0.68      7500\n",
      " weighted avg       0.80      0.82      0.80      7500\n",
      "\n"
     ]
    }
   ],
   "source": [
    "gb2 = GradientBoostingClassifier(max_depth=3, random_state=0) # , learning_rate=0.01, n_estimators=500\n",
    "# train/fit the mode using amt as dv\n",
    "gbModel2 = gb2.fit(Xdef_train, Ydef_train)\n",
    "# make predicitons with the trained/fit model\n",
    "gbPred2 = gbModel2.predict(Xdef_test)\n",
    "# performance metrics\n",
    "target_names=['not defaulted','defaulted']\n",
    "print(accuracy_score(Ydef_test, gbPred2))\n",
    "print(classification_report(Ydef_test, gbPred2, target_names=target_names))"
   ]
  },
  {
   "cell_type": "markdown",
   "metadata": {},
   "source": [
    "### It's close on cross_val, let's look at a decsion tree for visualization purposes"
   ]
  },
  {
   "cell_type": "code",
   "execution_count": 168,
   "metadata": {},
   "outputs": [
    {
     "name": "stdout",
     "output_type": "stream",
     "text": [
      "0.8205333333333333\n",
      "              precision    recall  f1-score   support\n",
      "\n",
      "           0       0.84      0.95      0.89      5873\n",
      "           1       0.66      0.36      0.47      1627\n",
      "\n",
      "    accuracy                           0.82      7500\n",
      "   macro avg       0.75      0.65      0.68      7500\n",
      "weighted avg       0.80      0.82      0.80      7500\n",
      "\n"
     ]
    }
   ],
   "source": [
    "dt = DecisionTreeClassifier(splitter='best',max_depth=3, min_samples_split=2) \n",
    "# train/fit the mode using region as dv, and binned by age & amt\n",
    "dtModel3 = dt.fit(Xdef_train, Ydef_train)\n",
    "# make predicitons with the trained/fit model\n",
    "dtPred3 = dtModel3.predict(Xdef_test)\n",
    "# performance metrics\n",
    "print(accuracy_score(Ydef_test, dtPred3))\n",
    "print(classification_report(Ydef_test, dtPred3))"
   ]
  },
  {
   "cell_type": "code",
   "execution_count": 173,
   "metadata": {},
   "outputs": [
    {
     "data": {
      "image/png": "[encoded data removed]",
      "text/plain": [
       "<IPython.core.display.Image object>"
      ]
     },
     "execution_count": 173,
     "metadata": {},
     "output_type": "execute_result"
    }
   ],
   "source": [
    "target_names=['not defaulted','defaulted']\n",
    "\n",
    "dot_data = StringIO()\n",
    "\n",
    "export_graphviz(dtModel3,\n",
    "                out_file=dot_data, \n",
    "                filled=True, \n",
    "                rounded=True,\n",
    "                feature_names=Xdef_train.columns, \n",
    "                class_names=target_names,\n",
    "                label='all',\n",
    "                precision=1,\n",
    "                special_characters=True)\n",
    "\n",
    "graph = pydotplus.graph_from_dot_data(dot_data.getvalue()) \n",
    "Image(graph.create_png())"
   ]
  },
  {
   "cell_type": "code",
   "execution_count": 174,
   "metadata": {},
   "outputs": [
    {
     "data": {
      "text/plain": [
       "True"
      ]
     },
     "execution_count": 174,
     "metadata": {},
     "output_type": "execute_result"
    }
   ],
   "source": [
    "graph.write_png(\"Default_DT.png\")"
   ]
  },
  {
   "cell_type": "code",
   "execution_count": null,
   "metadata": {},
   "outputs": [],
   "source": []
  }
 ],
 "metadata": {
  "kernelspec": {
   "display_name": "Python 3",
   "language": "python",
   "name": "python3"
  },
  "language_info": {
   "codemirror_mode": {
    "name": "ipython",
    "version": 3
   },
   "file_extension": ".py",
   "mimetype": "text/x-python",
   "name": "python",
   "nbconvert_exporter": "python",
   "pygments_lexer": "ipython3",
   "version": "3.8.5"
  },
  "toc": {
   "base_numbering": 1,
   "nav_menu": {},
   "number_sections": true,
   "sideBar": true,
   "skip_h1_title": false,
   "title_cell": "Table of Contents",
   "title_sidebar": "Contents",
   "toc_cell": false,
   "toc_position": {},
   "toc_section_display": true,
   "toc_window_display": true
  }
 },
 "nbformat": 4,
 "nbformat_minor": 4
}
