{
 "cells": [
  {
   "cell_type": "markdown",
   "metadata": {},
   "source": [
    "# Imports"
   ]
  },
  {
   "cell_type": "code",
   "execution_count": 153,
   "metadata": {
    "ExecuteTime": {
     "end_time": "2021-09-02T04:02:53.865010Z",
     "start_time": "2021-09-02T04:02:53.811633Z"
    }
   },
   "outputs": [],
   "source": [
    "import pandas as pd\n",
    "import numpy as np\n",
    "import matplotlib.pyplot as plt\n",
    "\n",
    "import re\n",
    "import nltk\n",
    "from nltk.corpus import stopwords\n",
    "from nltk.stem.wordnet import WordNetLemmatizer\n",
    "from textblob import TextBlob\n",
    "from sklearn.feature_extraction.text import CountVectorizer, TfidfTransformer\n",
    "from sklearn.model_selection import train_test_split\n",
    "from sklearn.pipeline import Pipeline\n",
    "from sklearn.metrics import classification_report\n",
    "from sklearn.metrics import confusion_matrix\n",
    "from sklearn.metrics import plot_confusion_matrix\n",
    "#Models\n",
    "from sklearn.svm import SVC\n",
    "from sklearn.tree import DecisionTreeClassifier\n",
    "from sklearn.naive_bayes import MultinomialNB"
   ]
  },
  {
   "cell_type": "code",
   "execution_count": 154,
   "metadata": {
    "ExecuteTime": {
     "end_time": "2021-09-02T04:02:54.212612Z",
     "start_time": "2021-09-02T04:02:53.865010Z"
    }
   },
   "outputs": [
    {
     "name": "stderr",
     "output_type": "stream",
     "text": [
      "[nltk_data] Downloading package punkt to\n",
      "[nltk_data]     C:\\Users\\bmattis\\AppData\\Roaming\\nltk_data...\n",
      "[nltk_data]   Package punkt is already up-to-date!\n",
      "[nltk_data] Downloading package stopwords to\n",
      "[nltk_data]     C:\\Users\\bmattis\\AppData\\Roaming\\nltk_data...\n",
      "[nltk_data]   Package stopwords is already up-to-date!\n",
      "[nltk_data] Downloading package wordnet to\n",
      "[nltk_data]     C:\\Users\\bmattis\\AppData\\Roaming\\nltk_data...\n",
      "[nltk_data]   Package wordnet is already up-to-date!\n"
     ]
    },
    {
     "data": {
      "text/plain": [
       "True"
      ]
     },
     "execution_count": 154,
     "metadata": {},
     "output_type": "execute_result"
    }
   ],
   "source": [
    "nltk.download('punkt')\n",
    "nltk.download('stopwords')\n",
    "nltk.download('wordnet')"
   ]
  },
  {
   "cell_type": "code",
   "execution_count": 155,
   "metadata": {
    "ExecuteTime": {
     "end_time": "2021-09-02T04:02:59.108773Z",
     "start_time": "2021-09-02T04:02:54.212612Z"
    }
   },
   "outputs": [
    {
     "data": {
      "text/html": [
       "<div>\n",
       "<style scoped>\n",
       "    .dataframe tbody tr th:only-of-type {\n",
       "        vertical-align: middle;\n",
       "    }\n",
       "\n",
       "    .dataframe tbody tr th {\n",
       "        vertical-align: top;\n",
       "    }\n",
       "\n",
       "    .dataframe thead th {\n",
       "        text-align: right;\n",
       "    }\n",
       "</style>\n",
       "<table border=\"1\" class=\"dataframe\">\n",
       "  <thead>\n",
       "    <tr style=\"text-align: right;\">\n",
       "      <th></th>\n",
       "      <th>label</th>\n",
       "      <th>id</th>\n",
       "      <th>date</th>\n",
       "      <th>query</th>\n",
       "      <th>user</th>\n",
       "      <th>text</th>\n",
       "    </tr>\n",
       "  </thead>\n",
       "  <tbody>\n",
       "    <tr>\n",
       "      <th>0</th>\n",
       "      <td>0</td>\n",
       "      <td>1467810369</td>\n",
       "      <td>Mon Apr 06 22:19:45 PDT 2009</td>\n",
       "      <td>NO_QUERY</td>\n",
       "      <td>_TheSpecialOne_</td>\n",
       "      <td>@switchfoot http://twitpic.com/2y1zl - Awww, t...</td>\n",
       "    </tr>\n",
       "    <tr>\n",
       "      <th>1</th>\n",
       "      <td>0</td>\n",
       "      <td>1467810672</td>\n",
       "      <td>Mon Apr 06 22:19:49 PDT 2009</td>\n",
       "      <td>NO_QUERY</td>\n",
       "      <td>scotthamilton</td>\n",
       "      <td>is upset that he can't update his Facebook by ...</td>\n",
       "    </tr>\n",
       "  </tbody>\n",
       "</table>\n",
       "</div>"
      ],
      "text/plain": [
       "   label          id                          date     query             user  \\\n",
       "0      0  1467810369  Mon Apr 06 22:19:45 PDT 2009  NO_QUERY  _TheSpecialOne_   \n",
       "1      0  1467810672  Mon Apr 06 22:19:49 PDT 2009  NO_QUERY    scotthamilton   \n",
       "\n",
       "                                                text  \n",
       "0  @switchfoot http://twitpic.com/2y1zl - Awww, t...  \n",
       "1  is upset that he can't update his Facebook by ...  "
      ]
     },
     "execution_count": 155,
     "metadata": {},
     "output_type": "execute_result"
    }
   ],
   "source": [
    "colnames=['label','id','date','query','user','text']\n",
    "df = pd.read_csv('data/tweets.csv', header=None, names=colnames, encoding = \"ISO-8859-1\")\n",
    "df.head(2)"
   ]
  },
  {
   "cell_type": "code",
   "execution_count": 156,
   "metadata": {
    "ExecuteTime": {
     "end_time": "2021-09-02T04:02:59.124383Z",
     "start_time": "2021-09-02T04:02:59.108773Z"
    }
   },
   "outputs": [
    {
     "data": {
      "text/plain": [
       "(1600000, 6)"
      ]
     },
     "execution_count": 156,
     "metadata": {},
     "output_type": "execute_result"
    }
   ],
   "source": [
    "df.shape"
   ]
  },
  {
   "cell_type": "markdown",
   "metadata": {},
   "source": [
    "# PreProcess"
   ]
  },
  {
   "cell_type": "code",
   "execution_count": 157,
   "metadata": {
    "ExecuteTime": {
     "end_time": "2021-09-02T04:02:59.378281Z",
     "start_time": "2021-09-02T04:02:59.124383Z"
    }
   },
   "outputs": [],
   "source": [
    "df=df.sample(100000)"
   ]
  },
  {
   "cell_type": "code",
   "execution_count": 158,
   "metadata": {
    "ExecuteTime": {
     "end_time": "2021-09-02T04:02:59.663397Z",
     "start_time": "2021-09-02T04:02:59.378281Z"
    }
   },
   "outputs": [
    {
     "data": {
      "text/plain": [
       "False"
      ]
     },
     "execution_count": 158,
     "metadata": {},
     "output_type": "execute_result"
    }
   ],
   "source": [
    "df.duplicated().any()"
   ]
  },
  {
   "cell_type": "code",
   "execution_count": 159,
   "metadata": {
    "ExecuteTime": {
     "end_time": "2021-09-02T04:02:59.995428Z",
     "start_time": "2021-09-02T04:02:59.663397Z"
    }
   },
   "outputs": [
    {
     "data": {
      "text/plain": [
       "array([[<AxesSubplot:title={'center':'label'}>]], dtype=object)"
      ]
     },
     "execution_count": 159,
     "metadata": {},
     "output_type": "execute_result"
    },
    {
     "data": {
      "image/png": "[encoded data removed]",
      "text/plain": [
       "<Figure size 432x288 with 1 Axes>"
      ]
     },
     "metadata": {
      "needs_background": "light"
     },
     "output_type": "display_data"
    }
   ],
   "source": [
    "df.hist('label')"
   ]
  },
  {
   "cell_type": "code",
   "execution_count": 160,
   "metadata": {
    "ExecuteTime": {
     "end_time": "2021-09-02T04:03:26.497372Z",
     "start_time": "2021-09-02T04:02:59.995428Z"
    }
   },
   "outputs": [
    {
     "name": "stderr",
     "output_type": "stream",
     "text": [
      "C:\\Users\\bmattis\\.conda\\envs\\dataScience\\lib\\site-packages\\dateutil\\parser\\_parser.py:1213: UnknownTimezoneWarning: tzname PDT identified but not understood.  Pass `tzinfos` argument in order to correctly return a timezone-aware datetime.  In a future version, this will raise an exception.\n",
      "  warnings.warn(\"tzname {tzname} identified but not understood.  \"\n"
     ]
    }
   ],
   "source": [
    "df.date = pd.to_datetime(df.date, utc=True, infer_datetime_format=True)\n",
    "\n",
    "#format='%a %b %d %H:%M:%S %Z %Y'"
   ]
  },
  {
   "cell_type": "code",
   "execution_count": 161,
   "metadata": {
    "ExecuteTime": {
     "end_time": "2021-09-02T04:03:26.528614Z",
     "start_time": "2021-09-02T04:03:26.497372Z"
    }
   },
   "outputs": [
    {
     "data": {
      "text/plain": [
       "label                  int64\n",
       "id                     int64\n",
       "date     datetime64[ns, UTC]\n",
       "query                 object\n",
       "user                  object\n",
       "text                  object\n",
       "dtype: object"
      ]
     },
     "execution_count": 161,
     "metadata": {},
     "output_type": "execute_result"
    }
   ],
   "source": [
    "df.dtypes"
   ]
  },
  {
   "cell_type": "code",
   "execution_count": 162,
   "metadata": {
    "ExecuteTime": {
     "end_time": "2021-09-02T04:03:26.613253Z",
     "start_time": "2021-09-02T04:03:26.528614Z"
    }
   },
   "outputs": [],
   "source": [
    "df['text'] = df['text'].astype(str)"
   ]
  },
  {
   "cell_type": "code",
   "execution_count": 163,
   "metadata": {
    "ExecuteTime": {
     "end_time": "2021-09-02T04:03:26.651018Z",
     "start_time": "2021-09-02T04:03:26.613253Z"
    }
   },
   "outputs": [
    {
     "data": {
      "text/html": [
       "<div>\n",
       "<style scoped>\n",
       "    .dataframe tbody tr th:only-of-type {\n",
       "        vertical-align: middle;\n",
       "    }\n",
       "\n",
       "    .dataframe tbody tr th {\n",
       "        vertical-align: top;\n",
       "    }\n",
       "\n",
       "    .dataframe thead th {\n",
       "        text-align: right;\n",
       "    }\n",
       "</style>\n",
       "<table border=\"1\" class=\"dataframe\">\n",
       "  <thead>\n",
       "    <tr style=\"text-align: right;\">\n",
       "      <th></th>\n",
       "      <th>label</th>\n",
       "      <th>id</th>\n",
       "      <th>date</th>\n",
       "      <th>query</th>\n",
       "      <th>user</th>\n",
       "      <th>text</th>\n",
       "    </tr>\n",
       "  </thead>\n",
       "  <tbody>\n",
       "    <tr>\n",
       "      <th>618508</th>\n",
       "      <td>0</td>\n",
       "      <td>2227543800</td>\n",
       "      <td>2009-06-18 13:19:48+00:00</td>\n",
       "      <td>NO_QUERY</td>\n",
       "      <td>SarahMorrison</td>\n",
       "      <td>@vodkatrina hahahahaah OMG I swear to gawd I d...</td>\n",
       "    </tr>\n",
       "    <tr>\n",
       "      <th>834361</th>\n",
       "      <td>4</td>\n",
       "      <td>1557940849</td>\n",
       "      <td>2009-04-19 06:39:41+00:00</td>\n",
       "      <td>NO_QUERY</td>\n",
       "      <td>pascy</td>\n",
       "      <td>@nickless if you don't forget to answer my que...</td>\n",
       "    </tr>\n",
       "    <tr>\n",
       "      <th>216560</th>\n",
       "      <td>0</td>\n",
       "      <td>1975734314</td>\n",
       "      <td>2009-05-30 15:47:14+00:00</td>\n",
       "      <td>NO_QUERY</td>\n",
       "      <td>KatieMarie09</td>\n",
       "      <td>is HUNGRY  ahh i wish i could chew</td>\n",
       "    </tr>\n",
       "    <tr>\n",
       "      <th>776764</th>\n",
       "      <td>0</td>\n",
       "      <td>2322238209</td>\n",
       "      <td>2009-06-24 22:16:28+00:00</td>\n",
       "      <td>NO_QUERY</td>\n",
       "      <td>bryanmero</td>\n",
       "      <td>Finally home! Gotta go to work tomorrow</td>\n",
       "    </tr>\n",
       "    <tr>\n",
       "      <th>1365697</th>\n",
       "      <td>4</td>\n",
       "      <td>2050005119</td>\n",
       "      <td>2009-06-05 17:53:42+00:00</td>\n",
       "      <td>NO_QUERY</td>\n",
       "      <td>WerewolfJared</td>\n",
       "      <td>@Anime81 Just give me some time</td>\n",
       "    </tr>\n",
       "  </tbody>\n",
       "</table>\n",
       "</div>"
      ],
      "text/plain": [
       "         label          id                      date     query           user  \\\n",
       "618508       0  2227543800 2009-06-18 13:19:48+00:00  NO_QUERY  SarahMorrison   \n",
       "834361       4  1557940849 2009-04-19 06:39:41+00:00  NO_QUERY          pascy   \n",
       "216560       0  1975734314 2009-05-30 15:47:14+00:00  NO_QUERY   KatieMarie09   \n",
       "776764       0  2322238209 2009-06-24 22:16:28+00:00  NO_QUERY      bryanmero   \n",
       "1365697      4  2050005119 2009-06-05 17:53:42+00:00  NO_QUERY  WerewolfJared   \n",
       "\n",
       "                                                      text  \n",
       "618508   @vodkatrina hahahahaah OMG I swear to gawd I d...  \n",
       "834361   @nickless if you don't forget to answer my que...  \n",
       "216560                 is HUNGRY  ahh i wish i could chew   \n",
       "776764            Finally home! Gotta go to work tomorrow   \n",
       "1365697                   @Anime81 Just give me some time   "
      ]
     },
     "execution_count": 163,
     "metadata": {},
     "output_type": "execute_result"
    }
   ],
   "source": [
    "df.head()"
   ]
  },
  {
   "cell_type": "code",
   "execution_count": 164,
   "metadata": {
    "ExecuteTime": {
     "end_time": "2021-09-02T04:03:26.682262Z",
     "start_time": "2021-09-02T04:03:26.651018Z"
    }
   },
   "outputs": [
    {
     "data": {
      "text/html": [
       "<div>\n",
       "<style scoped>\n",
       "    .dataframe tbody tr th:only-of-type {\n",
       "        vertical-align: middle;\n",
       "    }\n",
       "\n",
       "    .dataframe tbody tr th {\n",
       "        vertical-align: top;\n",
       "    }\n",
       "\n",
       "    .dataframe thead th {\n",
       "        text-align: right;\n",
       "    }\n",
       "</style>\n",
       "<table border=\"1\" class=\"dataframe\">\n",
       "  <thead>\n",
       "    <tr style=\"text-align: right;\">\n",
       "      <th></th>\n",
       "      <th>label</th>\n",
       "      <th>id</th>\n",
       "      <th>date</th>\n",
       "      <th>query</th>\n",
       "      <th>user</th>\n",
       "      <th>text</th>\n",
       "    </tr>\n",
       "  </thead>\n",
       "  <tbody>\n",
       "    <tr>\n",
       "      <th>1310726</th>\n",
       "      <td>4</td>\n",
       "      <td>2013358526</td>\n",
       "      <td>2009-06-02 22:29:16+00:00</td>\n",
       "      <td>NO_QUERY</td>\n",
       "      <td>immaterialdepth</td>\n",
       "      <td>@thisgirln no prob, yo.  I miss you already. t...</td>\n",
       "    </tr>\n",
       "    <tr>\n",
       "      <th>183373</th>\n",
       "      <td>0</td>\n",
       "      <td>1967407717</td>\n",
       "      <td>2009-05-29 19:31:27+00:00</td>\n",
       "      <td>NO_QUERY</td>\n",
       "      <td>kkavjonas526</td>\n",
       "      <td>@iamthecommodore awww comeon ive never talked ...</td>\n",
       "    </tr>\n",
       "    <tr>\n",
       "      <th>453204</th>\n",
       "      <td>0</td>\n",
       "      <td>2070246549</td>\n",
       "      <td>2009-06-07 17:21:14+00:00</td>\n",
       "      <td>NO_QUERY</td>\n",
       "      <td>bma</td>\n",
       "      <td>SWEng declared. #greens beat labour, but no se...</td>\n",
       "    </tr>\n",
       "    <tr>\n",
       "      <th>1130334</th>\n",
       "      <td>4</td>\n",
       "      <td>1975678267</td>\n",
       "      <td>2009-05-30 15:40:04+00:00</td>\n",
       "      <td>NO_QUERY</td>\n",
       "      <td>chrisreike</td>\n",
       "      <td>@Heatherlyb Sounds hot.</td>\n",
       "    </tr>\n",
       "    <tr>\n",
       "      <th>157072</th>\n",
       "      <td>0</td>\n",
       "      <td>1956286093</td>\n",
       "      <td>2009-05-28 21:33:27+00:00</td>\n",
       "      <td>NO_QUERY</td>\n",
       "      <td>idaremyidea</td>\n",
       "      <td>@efnik Hey! are you Ian from efnik? or rya nik...</td>\n",
       "    </tr>\n",
       "  </tbody>\n",
       "</table>\n",
       "</div>"
      ],
      "text/plain": [
       "         label          id                      date     query  \\\n",
       "1310726      4  2013358526 2009-06-02 22:29:16+00:00  NO_QUERY   \n",
       "183373       0  1967407717 2009-05-29 19:31:27+00:00  NO_QUERY   \n",
       "453204       0  2070246549 2009-06-07 17:21:14+00:00  NO_QUERY   \n",
       "1130334      4  1975678267 2009-05-30 15:40:04+00:00  NO_QUERY   \n",
       "157072       0  1956286093 2009-05-28 21:33:27+00:00  NO_QUERY   \n",
       "\n",
       "                    user                                               text  \n",
       "1310726  immaterialdepth  @thisgirln no prob, yo.  I miss you already. t...  \n",
       "183373      kkavjonas526  @iamthecommodore awww comeon ive never talked ...  \n",
       "453204               bma  SWEng declared. #greens beat labour, but no se...  \n",
       "1130334       chrisreike                           @Heatherlyb Sounds hot.   \n",
       "157072       idaremyidea  @efnik Hey! are you Ian from efnik? or rya nik...  "
      ]
     },
     "execution_count": 164,
     "metadata": {},
     "output_type": "execute_result"
    }
   ],
   "source": [
    "df.tail()"
   ]
  },
  {
   "cell_type": "markdown",
   "metadata": {},
   "source": [
    "# EDA"
   ]
  },
  {
   "cell_type": "code",
   "execution_count": 165,
   "metadata": {
    "ExecuteTime": {
     "end_time": "2021-09-02T04:03:26.697885Z",
     "start_time": "2021-09-02T04:03:26.682262Z"
    }
   },
   "outputs": [],
   "source": [
    "# plotting sentiment posts by hour"
   ]
  },
  {
   "cell_type": "code",
   "execution_count": 166,
   "metadata": {
    "ExecuteTime": {
     "end_time": "2021-09-02T04:03:26.829379Z",
     "start_time": "2021-09-02T04:03:26.697885Z"
    }
   },
   "outputs": [
    {
     "data": {
      "text/html": [
       "<div>\n",
       "<style scoped>\n",
       "    .dataframe tbody tr th:only-of-type {\n",
       "        vertical-align: middle;\n",
       "    }\n",
       "\n",
       "    .dataframe tbody tr th {\n",
       "        vertical-align: top;\n",
       "    }\n",
       "\n",
       "    .dataframe thead th {\n",
       "        text-align: right;\n",
       "    }\n",
       "</style>\n",
       "<table border=\"1\" class=\"dataframe\">\n",
       "  <thead>\n",
       "    <tr style=\"text-align: right;\">\n",
       "      <th>label</th>\n",
       "      <th>date</th>\n",
       "      <th>0</th>\n",
       "      <th>4</th>\n",
       "    </tr>\n",
       "  </thead>\n",
       "  <tbody>\n",
       "    <tr>\n",
       "      <th>0</th>\n",
       "      <td>0</td>\n",
       "      <td>2264</td>\n",
       "      <td>2755</td>\n",
       "    </tr>\n",
       "    <tr>\n",
       "      <th>1</th>\n",
       "      <td>1</td>\n",
       "      <td>2007</td>\n",
       "      <td>2782</td>\n",
       "    </tr>\n",
       "    <tr>\n",
       "      <th>2</th>\n",
       "      <td>2</td>\n",
       "      <td>1859</td>\n",
       "      <td>2710</td>\n",
       "    </tr>\n",
       "    <tr>\n",
       "      <th>3</th>\n",
       "      <td>3</td>\n",
       "      <td>1992</td>\n",
       "      <td>2640</td>\n",
       "    </tr>\n",
       "    <tr>\n",
       "      <th>4</th>\n",
       "      <td>4</td>\n",
       "      <td>2192</td>\n",
       "      <td>2569</td>\n",
       "    </tr>\n",
       "  </tbody>\n",
       "</table>\n",
       "</div>"
      ],
      "text/plain": [
       "label  date     0     4\n",
       "0         0  2264  2755\n",
       "1         1  2007  2782\n",
       "2         2  1859  2710\n",
       "3         3  1992  2640\n",
       "4         4  2192  2569"
      ]
     },
     "execution_count": 166,
     "metadata": {},
     "output_type": "execute_result"
    }
   ],
   "source": [
    "hoursGroup = df.groupby(df.date.dt.hour)['label'].value_counts().unstack(level=1).reset_index()\n",
    "hoursGroup.head()"
   ]
  },
  {
   "cell_type": "code",
   "execution_count": 167,
   "metadata": {
    "ExecuteTime": {
     "end_time": "2021-09-02T04:03:26.851533Z",
     "start_time": "2021-09-02T04:03:26.829379Z"
    }
   },
   "outputs": [],
   "source": [
    "hoursGroup.rename(columns={'date':'hour',0:'sent_0',4:'sent_4'}, inplace=True)"
   ]
  },
  {
   "cell_type": "code",
   "execution_count": 168,
   "metadata": {
    "ExecuteTime": {
     "end_time": "2021-09-02T04:03:27.315049Z",
     "start_time": "2021-09-02T04:03:26.851533Z"
    }
   },
   "outputs": [
    {
     "data": {
      "image/png": "[encoded data removed]",
      "text/plain": [
       "<Figure size 432x288 with 1 Axes>"
      ]
     },
     "metadata": {
      "needs_background": "light"
     },
     "output_type": "display_data"
    }
   ],
   "source": [
    "plt.plot(hoursGroup.hour, hoursGroup.sent_0, label='negative')\n",
    "plt.plot(hoursGroup.hour, hoursGroup.sent_4, label='positive')\n",
    "plt.xlabel('Hour of day')\n",
    "plt.ylabel('Tweet counts')\n",
    "plt.legend()\n",
    "plt.grid()\n",
    "plt.show()"
   ]
  },
  {
   "cell_type": "code",
   "execution_count": 169,
   "metadata": {
    "ExecuteTime": {
     "end_time": "2021-09-02T04:03:27.330669Z",
     "start_time": "2021-09-02T04:03:27.315049Z"
    }
   },
   "outputs": [],
   "source": [
    "#list top 5 users for each sentiment level"
   ]
  },
  {
   "cell_type": "code",
   "execution_count": 170,
   "metadata": {
    "ExecuteTime": {
     "end_time": "2021-09-02T04:03:27.531160Z",
     "start_time": "2021-09-02T04:03:27.330669Z"
    }
   },
   "outputs": [
    {
     "data": {
      "text/html": [
       "<div>\n",
       "<style scoped>\n",
       "    .dataframe tbody tr th:only-of-type {\n",
       "        vertical-align: middle;\n",
       "    }\n",
       "\n",
       "    .dataframe tbody tr th {\n",
       "        vertical-align: top;\n",
       "    }\n",
       "\n",
       "    .dataframe thead th {\n",
       "        text-align: right;\n",
       "    }\n",
       "</style>\n",
       "<table border=\"1\" class=\"dataframe\">\n",
       "  <thead>\n",
       "    <tr style=\"text-align: right;\">\n",
       "      <th></th>\n",
       "      <th>label</th>\n",
       "      <th>id</th>\n",
       "      <th>date</th>\n",
       "      <th>query</th>\n",
       "      <th>text</th>\n",
       "    </tr>\n",
       "    <tr>\n",
       "      <th>user</th>\n",
       "      <th></th>\n",
       "      <th></th>\n",
       "      <th></th>\n",
       "      <th></th>\n",
       "      <th></th>\n",
       "    </tr>\n",
       "  </thead>\n",
       "  <tbody>\n",
       "    <tr>\n",
       "      <th>DarkPiano</th>\n",
       "      <td>18</td>\n",
       "      <td>18</td>\n",
       "      <td>18</td>\n",
       "      <td>18</td>\n",
       "      <td>18</td>\n",
       "    </tr>\n",
       "    <tr>\n",
       "      <th>what_bugs_u</th>\n",
       "      <td>17</td>\n",
       "      <td>17</td>\n",
       "      <td>17</td>\n",
       "      <td>17</td>\n",
       "      <td>17</td>\n",
       "    </tr>\n",
       "    <tr>\n",
       "      <th>thisgoeshere</th>\n",
       "      <td>16</td>\n",
       "      <td>16</td>\n",
       "      <td>16</td>\n",
       "      <td>16</td>\n",
       "      <td>16</td>\n",
       "    </tr>\n",
       "    <tr>\n",
       "      <th>VioletsCRUK</th>\n",
       "      <td>16</td>\n",
       "      <td>16</td>\n",
       "      <td>16</td>\n",
       "      <td>16</td>\n",
       "      <td>16</td>\n",
       "    </tr>\n",
       "    <tr>\n",
       "      <th>tsarnick</th>\n",
       "      <td>14</td>\n",
       "      <td>14</td>\n",
       "      <td>14</td>\n",
       "      <td>14</td>\n",
       "      <td>14</td>\n",
       "    </tr>\n",
       "  </tbody>\n",
       "</table>\n",
       "</div>"
      ],
      "text/plain": [
       "              label  id  date  query  text\n",
       "user                                      \n",
       "DarkPiano        18  18    18     18    18\n",
       "what_bugs_u      17  17    17     17    17\n",
       "thisgoeshere     16  16    16     16    16\n",
       "VioletsCRUK      16  16    16     16    16\n",
       "tsarnick         14  14    14     14    14"
      ]
     },
     "execution_count": 170,
     "metadata": {},
     "output_type": "execute_result"
    }
   ],
   "source": [
    "top5pos = df[df.label==4].groupby('user').count().sort_values(by=['label'],ascending=False)\n",
    "top5pos.head()"
   ]
  },
  {
   "cell_type": "code",
   "execution_count": 171,
   "metadata": {
    "ExecuteTime": {
     "end_time": "2021-09-02T04:03:27.731645Z",
     "start_time": "2021-09-02T04:03:27.531160Z"
    }
   },
   "outputs": [
    {
     "data": {
      "text/html": [
       "<div>\n",
       "<style scoped>\n",
       "    .dataframe tbody tr th:only-of-type {\n",
       "        vertical-align: middle;\n",
       "    }\n",
       "\n",
       "    .dataframe tbody tr th {\n",
       "        vertical-align: top;\n",
       "    }\n",
       "\n",
       "    .dataframe thead th {\n",
       "        text-align: right;\n",
       "    }\n",
       "</style>\n",
       "<table border=\"1\" class=\"dataframe\">\n",
       "  <thead>\n",
       "    <tr style=\"text-align: right;\">\n",
       "      <th></th>\n",
       "      <th>label</th>\n",
       "      <th>id</th>\n",
       "      <th>date</th>\n",
       "      <th>query</th>\n",
       "      <th>text</th>\n",
       "    </tr>\n",
       "    <tr>\n",
       "      <th>user</th>\n",
       "      <th></th>\n",
       "      <th></th>\n",
       "      <th></th>\n",
       "      <th></th>\n",
       "      <th></th>\n",
       "    </tr>\n",
       "  </thead>\n",
       "  <tbody>\n",
       "    <tr>\n",
       "      <th>lost_dog</th>\n",
       "      <td>46</td>\n",
       "      <td>46</td>\n",
       "      <td>46</td>\n",
       "      <td>46</td>\n",
       "      <td>46</td>\n",
       "    </tr>\n",
       "    <tr>\n",
       "      <th>tweetpet</th>\n",
       "      <td>20</td>\n",
       "      <td>20</td>\n",
       "      <td>20</td>\n",
       "      <td>20</td>\n",
       "      <td>20</td>\n",
       "    </tr>\n",
       "    <tr>\n",
       "      <th>SallytheShizzle</th>\n",
       "      <td>17</td>\n",
       "      <td>17</td>\n",
       "      <td>17</td>\n",
       "      <td>17</td>\n",
       "      <td>17</td>\n",
       "    </tr>\n",
       "    <tr>\n",
       "      <th>webwoke</th>\n",
       "      <td>15</td>\n",
       "      <td>15</td>\n",
       "      <td>15</td>\n",
       "      <td>15</td>\n",
       "      <td>15</td>\n",
       "    </tr>\n",
       "    <tr>\n",
       "      <th>SarahMorrison</th>\n",
       "      <td>12</td>\n",
       "      <td>12</td>\n",
       "      <td>12</td>\n",
       "      <td>12</td>\n",
       "      <td>12</td>\n",
       "    </tr>\n",
       "  </tbody>\n",
       "</table>\n",
       "</div>"
      ],
      "text/plain": [
       "                 label  id  date  query  text\n",
       "user                                         \n",
       "lost_dog            46  46    46     46    46\n",
       "tweetpet            20  20    20     20    20\n",
       "SallytheShizzle     17  17    17     17    17\n",
       "webwoke             15  15    15     15    15\n",
       "SarahMorrison       12  12    12     12    12"
      ]
     },
     "execution_count": 171,
     "metadata": {},
     "output_type": "execute_result"
    }
   ],
   "source": [
    "top5neg = df[df.label==0].groupby('user').count().sort_values(by=['label'],ascending=False)\n",
    "top5neg.head()"
   ]
  },
  {
   "cell_type": "code",
   "execution_count": 172,
   "metadata": {
    "ExecuteTime": {
     "end_time": "2021-09-02T04:03:27.753784Z",
     "start_time": "2021-09-02T04:03:27.731645Z"
    }
   },
   "outputs": [],
   "source": [
    "# Average length of the tweets for each sentiment level"
   ]
  },
  {
   "cell_type": "code",
   "execution_count": 173,
   "metadata": {
    "ExecuteTime": {
     "end_time": "2021-09-02T04:03:27.954302Z",
     "start_time": "2021-09-02T04:03:27.753784Z"
    }
   },
   "outputs": [
    {
     "data": {
      "text/html": [
       "<div>\n",
       "<style scoped>\n",
       "    .dataframe tbody tr th:only-of-type {\n",
       "        vertical-align: middle;\n",
       "    }\n",
       "\n",
       "    .dataframe tbody tr th {\n",
       "        vertical-align: top;\n",
       "    }\n",
       "\n",
       "    .dataframe thead th {\n",
       "        text-align: right;\n",
       "    }\n",
       "</style>\n",
       "<table border=\"1\" class=\"dataframe\">\n",
       "  <thead>\n",
       "    <tr style=\"text-align: right;\">\n",
       "      <th></th>\n",
       "      <th>label</th>\n",
       "      <th>id</th>\n",
       "      <th>date</th>\n",
       "      <th>query</th>\n",
       "      <th>user</th>\n",
       "      <th>text</th>\n",
       "      <th>tlen</th>\n",
       "    </tr>\n",
       "  </thead>\n",
       "  <tbody>\n",
       "    <tr>\n",
       "      <th>618508</th>\n",
       "      <td>0</td>\n",
       "      <td>2227543800</td>\n",
       "      <td>2009-06-18 13:19:48+00:00</td>\n",
       "      <td>NO_QUERY</td>\n",
       "      <td>SarahMorrison</td>\n",
       "      <td>@vodkatrina hahahahaah OMG I swear to gawd I d...</td>\n",
       "      <td>101</td>\n",
       "    </tr>\n",
       "    <tr>\n",
       "      <th>834361</th>\n",
       "      <td>4</td>\n",
       "      <td>1557940849</td>\n",
       "      <td>2009-04-19 06:39:41+00:00</td>\n",
       "      <td>NO_QUERY</td>\n",
       "      <td>pascy</td>\n",
       "      <td>@nickless if you don't forget to answer my que...</td>\n",
       "      <td>68</td>\n",
       "    </tr>\n",
       "    <tr>\n",
       "      <th>216560</th>\n",
       "      <td>0</td>\n",
       "      <td>1975734314</td>\n",
       "      <td>2009-05-30 15:47:14+00:00</td>\n",
       "      <td>NO_QUERY</td>\n",
       "      <td>KatieMarie09</td>\n",
       "      <td>is HUNGRY  ahh i wish i could chew</td>\n",
       "      <td>35</td>\n",
       "    </tr>\n",
       "    <tr>\n",
       "      <th>776764</th>\n",
       "      <td>0</td>\n",
       "      <td>2322238209</td>\n",
       "      <td>2009-06-24 22:16:28+00:00</td>\n",
       "      <td>NO_QUERY</td>\n",
       "      <td>bryanmero</td>\n",
       "      <td>Finally home! Gotta go to work tomorrow</td>\n",
       "      <td>40</td>\n",
       "    </tr>\n",
       "    <tr>\n",
       "      <th>1365697</th>\n",
       "      <td>4</td>\n",
       "      <td>2050005119</td>\n",
       "      <td>2009-06-05 17:53:42+00:00</td>\n",
       "      <td>NO_QUERY</td>\n",
       "      <td>WerewolfJared</td>\n",
       "      <td>@Anime81 Just give me some time</td>\n",
       "      <td>32</td>\n",
       "    </tr>\n",
       "  </tbody>\n",
       "</table>\n",
       "</div>"
      ],
      "text/plain": [
       "         label          id                      date     query           user  \\\n",
       "618508       0  2227543800 2009-06-18 13:19:48+00:00  NO_QUERY  SarahMorrison   \n",
       "834361       4  1557940849 2009-04-19 06:39:41+00:00  NO_QUERY          pascy   \n",
       "216560       0  1975734314 2009-05-30 15:47:14+00:00  NO_QUERY   KatieMarie09   \n",
       "776764       0  2322238209 2009-06-24 22:16:28+00:00  NO_QUERY      bryanmero   \n",
       "1365697      4  2050005119 2009-06-05 17:53:42+00:00  NO_QUERY  WerewolfJared   \n",
       "\n",
       "                                                      text  tlen  \n",
       "618508   @vodkatrina hahahahaah OMG I swear to gawd I d...   101  \n",
       "834361   @nickless if you don't forget to answer my que...    68  \n",
       "216560                 is HUNGRY  ahh i wish i could chew     35  \n",
       "776764            Finally home! Gotta go to work tomorrow     40  \n",
       "1365697                   @Anime81 Just give me some time     32  "
      ]
     },
     "execution_count": 173,
     "metadata": {},
     "output_type": "execute_result"
    }
   ],
   "source": [
    "dfLength = df\n",
    "dfLength.text = dfLength.text.astype(str)\n",
    "dfLength['tlen'] = dfLength.text.str.len()\n",
    "dfLength.head()"
   ]
  },
  {
   "cell_type": "code",
   "execution_count": 174,
   "metadata": {
    "ExecuteTime": {
     "end_time": "2021-09-02T04:03:27.985531Z",
     "start_time": "2021-09-02T04:03:27.954302Z"
    }
   },
   "outputs": [],
   "source": [
    "avgTlength = dfLength.groupby('label')['tlen'].mean()"
   ]
  },
  {
   "cell_type": "code",
   "execution_count": 175,
   "metadata": {
    "ExecuteTime": {
     "end_time": "2021-09-02T04:03:28.001157Z",
     "start_time": "2021-09-02T04:03:27.985531Z"
    }
   },
   "outputs": [
    {
     "data": {
      "text/plain": [
       "label\n",
       "0    74.388578\n",
       "4    73.932325\n",
       "Name: tlen, dtype: float64"
      ]
     },
     "execution_count": 175,
     "metadata": {},
     "output_type": "execute_result"
    }
   ],
   "source": [
    "avgTlength[:2]"
   ]
  },
  {
   "cell_type": "code",
   "execution_count": 176,
   "metadata": {
    "ExecuteTime": {
     "end_time": "2021-09-02T04:03:28.255060Z",
     "start_time": "2021-09-02T04:03:28.001157Z"
    }
   },
   "outputs": [
    {
     "data": {
      "text/plain": [
       "<AxesSubplot:xlabel='Sentiment', ylabel='Average Tweet Length'>"
      ]
     },
     "execution_count": 176,
     "metadata": {},
     "output_type": "execute_result"
    },
    {
     "data": {
      "image/png": "[encoded data removed]",
      "text/plain": [
       "<Figure size 432x288 with 1 Axes>"
      ]
     },
     "metadata": {
      "needs_background": "light"
     },
     "output_type": "display_data"
    }
   ],
   "source": [
    "avgTlength.plot(kind='bar', ylabel='Average Tweet Length', \n",
    "                xlabel='Sentiment')"
   ]
  },
  {
   "cell_type": "code",
   "execution_count": 177,
   "metadata": {
    "ExecuteTime": {
     "end_time": "2021-09-02T04:03:28.471176Z",
     "start_time": "2021-09-02T04:03:28.255060Z"
    }
   },
   "outputs": [
    {
     "data": {
      "image/png": "[encoded data removed]",
      "text/plain": [
       "<Figure size 432x288 with 1 Axes>"
      ]
     },
     "metadata": {
      "needs_background": "light"
     },
     "output_type": "display_data"
    }
   ],
   "source": [
    "plt.bar(['negative','positive'],avgTlength)\n",
    "plt.xlabel('Sentiment')\n",
    "plt.ylabel('Average Tweet Length (characters)')\n",
    "plt.show()"
   ]
  },
  {
   "cell_type": "code",
   "execution_count": 178,
   "metadata": {
    "ExecuteTime": {
     "end_time": "2021-09-02T04:03:28.718326Z",
     "start_time": "2021-09-02T04:03:28.471176Z"
    }
   },
   "outputs": [
    {
     "data": {
      "image/png": "[encoded data removed]",
      "text/plain": [
       "<Figure size 432x288 with 1 Axes>"
      ]
     },
     "metadata": {
      "needs_background": "light"
     },
     "output_type": "display_data"
    }
   ],
   "source": [
    "fig, ax = plt.subplots()\n",
    "rects1=ax.bar(['negative','positive'],avgTlength)\n",
    "ax.set_xlabel('Sentiment')\n",
    "ax.set_ylabel('Average Tweet Length (characters)')\n",
    "ax.set_title('Tweet length (all)')\n",
    "def autolabel(rects):   \n",
    "    for rect in rects:\n",
    "        height = rect.get_height()\n",
    "        ax.text(rect.get_x() + rect.get_width()/2., 1.05*height,\n",
    "                '%.2f' % float(height),\n",
    "                ha='center', va='bottom')\n",
    "\n",
    "autolabel(rects1)\n",
    "plt.show()"
   ]
  },
  {
   "cell_type": "code",
   "execution_count": 179,
   "metadata": {
    "ExecuteTime": {
     "end_time": "2021-09-02T04:03:28.733950Z",
     "start_time": "2021-09-02T04:03:28.718326Z"
    }
   },
   "outputs": [],
   "source": [
    "# Average length of the top-5 tweets for each level of sentiment"
   ]
  },
  {
   "cell_type": "code",
   "execution_count": 180,
   "metadata": {
    "ExecuteTime": {
     "end_time": "2021-09-02T04:03:29.088077Z",
     "start_time": "2021-09-02T04:03:28.740464Z"
    }
   },
   "outputs": [
    {
     "data": {
      "text/html": [
       "<div>\n",
       "<style scoped>\n",
       "    .dataframe tbody tr th:only-of-type {\n",
       "        vertical-align: middle;\n",
       "    }\n",
       "\n",
       "    .dataframe tbody tr th {\n",
       "        vertical-align: top;\n",
       "    }\n",
       "\n",
       "    .dataframe thead th {\n",
       "        text-align: right;\n",
       "    }\n",
       "</style>\n",
       "<table border=\"1\" class=\"dataframe\">\n",
       "  <thead>\n",
       "    <tr style=\"text-align: right;\">\n",
       "      <th></th>\n",
       "      <th>text</th>\n",
       "      <th>count</th>\n",
       "      <th>mean</th>\n",
       "    </tr>\n",
       "  </thead>\n",
       "  <tbody>\n",
       "    <tr>\n",
       "      <th>0</th>\n",
       "      <td>good morning</td>\n",
       "      <td>9</td>\n",
       "      <td>13</td>\n",
       "    </tr>\n",
       "    <tr>\n",
       "      <th>1</th>\n",
       "      <td>Good morning</td>\n",
       "      <td>9</td>\n",
       "      <td>13</td>\n",
       "    </tr>\n",
       "    <tr>\n",
       "      <th>2</th>\n",
       "      <td>goodnight</td>\n",
       "      <td>7</td>\n",
       "      <td>10</td>\n",
       "    </tr>\n",
       "    <tr>\n",
       "      <th>3</th>\n",
       "      <td>Goodnight</td>\n",
       "      <td>7</td>\n",
       "      <td>10</td>\n",
       "    </tr>\n",
       "    <tr>\n",
       "      <th>4</th>\n",
       "      <td>Not to worry, noone got that one. Next questio...</td>\n",
       "      <td>6</td>\n",
       "      <td>94</td>\n",
       "    </tr>\n",
       "  </tbody>\n",
       "</table>\n",
       "</div>"
      ],
      "text/plain": [
       "                                                text  count  mean\n",
       "0                                      good morning       9    13\n",
       "1                                      Good morning       9    13\n",
       "2                                         goodnight       7    10\n",
       "3                                         Goodnight       7    10\n",
       "4  Not to worry, noone got that one. Next questio...      6    94"
      ]
     },
     "execution_count": 180,
     "metadata": {},
     "output_type": "execute_result"
    }
   ],
   "source": [
    "top5_neg = dfLength[dfLength.label==0].groupby('text').tlen.agg(['count','mean']).sort_values(by=['count'],ascending=False).head().reset_index()\n",
    "top5_pos = dfLength[dfLength.label==4].groupby('text').tlen.agg(['count','mean']).sort_values(by=['count'],ascending=False).head().reset_index()\n",
    "top5_pos"
   ]
  },
  {
   "cell_type": "code",
   "execution_count": 181,
   "metadata": {
    "ExecuteTime": {
     "end_time": "2021-09-02T04:03:29.119337Z",
     "start_time": "2021-09-02T04:03:29.088077Z"
    }
   },
   "outputs": [
    {
     "data": {
      "text/html": [
       "<div>\n",
       "<style scoped>\n",
       "    .dataframe tbody tr th:only-of-type {\n",
       "        vertical-align: middle;\n",
       "    }\n",
       "\n",
       "    .dataframe tbody tr th {\n",
       "        vertical-align: top;\n",
       "    }\n",
       "\n",
       "    .dataframe thead th {\n",
       "        text-align: right;\n",
       "    }\n",
       "</style>\n",
       "<table border=\"1\" class=\"dataframe\">\n",
       "  <thead>\n",
       "    <tr style=\"text-align: right;\">\n",
       "      <th></th>\n",
       "      <th>text</th>\n",
       "      <th>count</th>\n",
       "      <th>mean</th>\n",
       "    </tr>\n",
       "  </thead>\n",
       "  <tbody>\n",
       "    <tr>\n",
       "      <th>0</th>\n",
       "      <td>isPlayer Has Died! Sorry</td>\n",
       "      <td>11</td>\n",
       "      <td>25</td>\n",
       "    </tr>\n",
       "    <tr>\n",
       "      <th>1</th>\n",
       "      <td>headache</td>\n",
       "      <td>7</td>\n",
       "      <td>9</td>\n",
       "    </tr>\n",
       "    <tr>\n",
       "      <th>2</th>\n",
       "      <td>at work</td>\n",
       "      <td>7</td>\n",
       "      <td>8</td>\n",
       "    </tr>\n",
       "    <tr>\n",
       "      <th>3</th>\n",
       "      <td>Jogging, isnt REALLY that cool, especially if ...</td>\n",
       "      <td>7</td>\n",
       "      <td>65</td>\n",
       "    </tr>\n",
       "    <tr>\n",
       "      <th>4</th>\n",
       "      <td>Headache</td>\n",
       "      <td>7</td>\n",
       "      <td>9</td>\n",
       "    </tr>\n",
       "  </tbody>\n",
       "</table>\n",
       "</div>"
      ],
      "text/plain": [
       "                                                text  count  mean\n",
       "0                          isPlayer Has Died! Sorry      11    25\n",
       "1                                          headache       7     9\n",
       "2                                           at work       7     8\n",
       "3  Jogging, isnt REALLY that cool, especially if ...      7    65\n",
       "4                                          Headache       7     9"
      ]
     },
     "execution_count": 181,
     "metadata": {},
     "output_type": "execute_result"
    }
   ],
   "source": [
    "top5_neg"
   ]
  },
  {
   "cell_type": "code",
   "execution_count": 182,
   "metadata": {
    "ExecuteTime": {
     "end_time": "2021-09-02T04:03:29.335449Z",
     "start_time": "2021-09-02T04:03:29.119337Z"
    }
   },
   "outputs": [
    {
     "data": {
      "image/png": "[encoded data removed]",
      "text/plain": [
       "<Figure size 432x288 with 1 Axes>"
      ]
     },
     "metadata": {
      "needs_background": "light"
     },
     "output_type": "display_data"
    }
   ],
   "source": [
    "plt.bar(['negative','positive'],[top5_neg['mean'].mean(),top5_pos['mean'].mean()])\n",
    "plt.xlabel('Sentiment')\n",
    "plt.ylabel('Average Tweet Length (characters)')\n",
    "plt.title('Tweet Length for Top-5')\n",
    "plt.show()"
   ]
  },
  {
   "cell_type": "code",
   "execution_count": 183,
   "metadata": {
    "ExecuteTime": {
     "end_time": "2021-09-02T04:03:29.535956Z",
     "start_time": "2021-09-02T04:03:29.335449Z"
    }
   },
   "outputs": [
    {
     "data": {
      "text/html": [
       "<div>\n",
       "<style scoped>\n",
       "    .dataframe tbody tr th:only-of-type {\n",
       "        vertical-align: middle;\n",
       "    }\n",
       "\n",
       "    .dataframe tbody tr th {\n",
       "        vertical-align: top;\n",
       "    }\n",
       "\n",
       "    .dataframe thead th {\n",
       "        text-align: right;\n",
       "    }\n",
       "</style>\n",
       "<table border=\"1\" class=\"dataframe\">\n",
       "  <thead>\n",
       "    <tr style=\"text-align: right;\">\n",
       "      <th></th>\n",
       "      <th>label</th>\n",
       "      <th>id</th>\n",
       "      <th>date</th>\n",
       "      <th>query</th>\n",
       "      <th>user</th>\n",
       "      <th>tlen</th>\n",
       "    </tr>\n",
       "    <tr>\n",
       "      <th>text</th>\n",
       "      <th></th>\n",
       "      <th></th>\n",
       "      <th></th>\n",
       "      <th></th>\n",
       "      <th></th>\n",
       "      <th></th>\n",
       "    </tr>\n",
       "  </thead>\n",
       "  <tbody>\n",
       "    <tr>\n",
       "      <th>isPlayer Has Died! Sorry</th>\n",
       "      <td>11</td>\n",
       "      <td>11</td>\n",
       "      <td>11</td>\n",
       "      <td>11</td>\n",
       "      <td>11</td>\n",
       "      <td>11</td>\n",
       "    </tr>\n",
       "    <tr>\n",
       "      <th>headache</th>\n",
       "      <td>7</td>\n",
       "      <td>7</td>\n",
       "      <td>7</td>\n",
       "      <td>7</td>\n",
       "      <td>7</td>\n",
       "      <td>7</td>\n",
       "    </tr>\n",
       "    <tr>\n",
       "      <th>at work</th>\n",
       "      <td>7</td>\n",
       "      <td>7</td>\n",
       "      <td>7</td>\n",
       "      <td>7</td>\n",
       "      <td>7</td>\n",
       "      <td>7</td>\n",
       "    </tr>\n",
       "    <tr>\n",
       "      <th>Jogging, isnt REALLY that cool, especially if you've got a fever</th>\n",
       "      <td>7</td>\n",
       "      <td>7</td>\n",
       "      <td>7</td>\n",
       "      <td>7</td>\n",
       "      <td>7</td>\n",
       "      <td>7</td>\n",
       "    </tr>\n",
       "    <tr>\n",
       "      <th>Headache</th>\n",
       "      <td>7</td>\n",
       "      <td>7</td>\n",
       "      <td>7</td>\n",
       "      <td>7</td>\n",
       "      <td>7</td>\n",
       "      <td>7</td>\n",
       "    </tr>\n",
       "  </tbody>\n",
       "</table>\n",
       "</div>"
      ],
      "text/plain": [
       "                                                    label  id  date  query  \\\n",
       "text                                                                         \n",
       "isPlayer Has Died! Sorry                               11  11    11     11   \n",
       "headache                                                7   7     7      7   \n",
       "at work                                                 7   7     7      7   \n",
       "Jogging, isnt REALLY that cool, especially if y...      7   7     7      7   \n",
       "Headache                                                7   7     7      7   \n",
       "\n",
       "                                                    user  tlen  \n",
       "text                                                            \n",
       "isPlayer Has Died! Sorry                              11    11  \n",
       "headache                                               7     7  \n",
       "at work                                                7     7  \n",
       "Jogging, isnt REALLY that cool, especially if y...     7     7  \n",
       "Headache                                               7     7  "
      ]
     },
     "execution_count": 183,
     "metadata": {},
     "output_type": "execute_result"
    }
   ],
   "source": [
    "dfLength[dfLength.label==0].groupby('text').count().sort_values(by=['tlen'],ascending=False).head()"
   ]
  },
  {
   "cell_type": "markdown",
   "metadata": {},
   "source": [
    "# Text Cleaning"
   ]
  },
  {
   "cell_type": "markdown",
   "metadata": {},
   "source": [
    "## Punctuation"
   ]
  },
  {
   "cell_type": "code",
   "execution_count": 184,
   "metadata": {
    "ExecuteTime": {
     "end_time": "2021-09-02T04:03:29.558113Z",
     "start_time": "2021-09-02T04:03:29.535956Z"
    }
   },
   "outputs": [],
   "source": [
    "def form_sentence(tweet):\n",
    "    tweet_blob = TextBlob(tweet)\n",
    "    return ' '.join(tweet_blob.words)"
   ]
  },
  {
   "cell_type": "markdown",
   "metadata": {},
   "source": [
    "Example of implementation"
   ]
  },
  {
   "cell_type": "code",
   "execution_count": 185,
   "metadata": {
    "ExecuteTime": {
     "end_time": "2021-09-02T04:03:29.573722Z",
     "start_time": "2021-09-02T04:03:29.558113Z"
    }
   },
   "outputs": [
    {
     "data": {
      "text/plain": [
       "'@Thecathy  maybe a good thing at this hour !'"
      ]
     },
     "execution_count": 185,
     "metadata": {},
     "output_type": "execute_result"
    }
   ],
   "source": [
    "df['text'].iloc[10]"
   ]
  },
  {
   "cell_type": "code",
   "execution_count": 186,
   "metadata": {
    "ExecuteTime": {
     "end_time": "2021-09-02T04:03:29.620583Z",
     "start_time": "2021-09-02T04:03:29.573722Z"
    }
   },
   "outputs": [
    {
     "name": "stdout",
     "output_type": "stream",
     "text": [
      "Thecathy maybe a good thing at this hour\n"
     ]
    }
   ],
   "source": [
    "print(form_sentence(df['text'].iloc[10]))"
   ]
  },
  {
   "cell_type": "markdown",
   "metadata": {},
   "source": [
    "## Stopwords"
   ]
  },
  {
   "cell_type": "code",
   "execution_count": 187,
   "metadata": {
    "ExecuteTime": {
     "end_time": "2021-09-02T04:03:29.658373Z",
     "start_time": "2021-09-02T04:03:29.620583Z"
    }
   },
   "outputs": [],
   "source": [
    "def no_user_alpha(tweet):\n",
    "    tweet_list = [ele for ele in tweet.split() if ele != 'user']\n",
    "    clean_tokens = [t for t in tweet_list if re.match(r'[^\\W\\d]*$', t)]\n",
    "    clean_s = ' '.join(clean_tokens)\n",
    "    clean_mess = [word for word in clean_s.split() if word.lower() not in stopwords.words('english')]\n",
    "    return clean_mess"
   ]
  },
  {
   "cell_type": "code",
   "execution_count": 188,
   "metadata": {
    "ExecuteTime": {
     "end_time": "2021-09-02T04:03:29.705241Z",
     "start_time": "2021-09-02T04:03:29.658373Z"
    }
   },
   "outputs": [
    {
     "name": "stdout",
     "output_type": "stream",
     "text": [
      "['Thecathy', 'maybe', 'good', 'thing', 'hour']\n"
     ]
    }
   ],
   "source": [
    "print(no_user_alpha(form_sentence(df['text'].iloc[10])))"
   ]
  },
  {
   "cell_type": "markdown",
   "metadata": {},
   "source": [
    "## Uniformity"
   ]
  },
  {
   "cell_type": "code",
   "execution_count": 189,
   "metadata": {
    "ExecuteTime": {
     "end_time": "2021-09-02T04:03:29.736487Z",
     "start_time": "2021-09-02T04:03:29.705241Z"
    }
   },
   "outputs": [],
   "source": [
    "# the v is normalizing the verbs, but ignoring others.  Full lemmatize function here:\n",
    "# https://www.geeksforgeeks.org/python-lemmatization-approaches-with-examples/\n",
    "def normalization(tweet_list):\n",
    "    lem = WordNetLemmatizer()\n",
    "    normalized_tweet = []\n",
    "    for word in tweet_list:\n",
    "        normalized_text = lem.lemmatize(word,'v')\n",
    "        normalized_tweet.append(normalized_text)\n",
    "    return normalized_tweet"
   ]
  },
  {
   "cell_type": "code",
   "execution_count": 190,
   "metadata": {
    "ExecuteTime": {
     "end_time": "2021-09-02T04:03:29.774254Z",
     "start_time": "2021-09-02T04:03:29.736487Z"
    }
   },
   "outputs": [
    {
     "data": {
      "text/plain": [
       "['Oh', 'that', 'be', 'fantastic']"
      ]
     },
     "execution_count": 190,
     "metadata": {},
     "output_type": "execute_result"
    }
   ],
   "source": [
    "normalization('Oh that is fantastic'.split())"
   ]
  },
  {
   "cell_type": "markdown",
   "metadata": {},
   "source": [
    "# Modelling"
   ]
  },
  {
   "cell_type": "markdown",
   "metadata": {},
   "source": [
    "## One-hot and TF-IDF"
   ]
  },
  {
   "cell_type": "code",
   "execution_count": 191,
   "metadata": {
    "ExecuteTime": {
     "end_time": "2021-09-02T04:03:29.858880Z",
     "start_time": "2021-09-02T04:03:29.774254Z"
    }
   },
   "outputs": [],
   "source": [
    "pipelineSVC = Pipeline([\n",
    "    ('bow',CountVectorizer(analyzer='word')), # quantify text contents by word\n",
    "    ('tfidf', TfidfTransformer()), # Weighted TF-IDF scores\n",
    "    ('classifier', SVC(verbose=True)), # train on TF-IDF vectors w/ SVC\n",
    "], verbose=True)"
   ]
  },
  {
   "cell_type": "code",
   "execution_count": 192,
   "metadata": {
    "ExecuteTime": {
     "end_time": "2021-09-02T04:03:34.846395Z",
     "start_time": "2021-09-02T04:03:29.858880Z"
    }
   },
   "outputs": [],
   "source": [
    "X_train, X_test, y_train, y_test = train_test_split(df['text'], df['label'], test_size=0.2)"
   ]
  },
  {
   "cell_type": "code",
   "execution_count": 193,
   "metadata": {
    "ExecuteTime": {
     "end_time": "2021-09-02T04:52:14.548553Z",
     "start_time": "2021-09-02T04:03:34.846395Z"
    }
   },
   "outputs": [
    {
     "name": "stdout",
     "output_type": "stream",
     "text": [
      "[Pipeline] ............... (step 1 of 3) Processing bow, total=   2.5s\n",
      "[Pipeline] ............. (step 2 of 3) Processing tfidf, total=   0.4s\n",
      "[LibSVM][Pipeline] ........ (step 3 of 3) Processing classifier, total=48.6min\n"
     ]
    },
    {
     "data": {
      "text/plain": [
       "Pipeline(steps=[('bow', CountVectorizer()), ('tfidf', TfidfTransformer()),\n",
       "                ('classifier', SVC(verbose=True))],\n",
       "         verbose=True)"
      ]
     },
     "execution_count": 193,
     "metadata": {},
     "output_type": "execute_result"
    }
   ],
   "source": [
    "pipelineSVC.fit(X_train,y_train)"
   ]
  },
  {
   "cell_type": "code",
   "execution_count": 194,
   "metadata": {
    "ExecuteTime": {
     "end_time": "2021-09-02T04:55:54.045708Z",
     "start_time": "2021-09-02T04:52:14.548553Z"
    }
   },
   "outputs": [],
   "source": [
    "predSVC = pipelineSVC.predict(X_test)"
   ]
  },
  {
   "cell_type": "code",
   "execution_count": 195,
   "metadata": {
    "ExecuteTime": {
     "end_time": "2021-09-02T04:55:54.127615Z",
     "start_time": "2021-09-02T04:55:54.045708Z"
    }
   },
   "outputs": [
    {
     "name": "stdout",
     "output_type": "stream",
     "text": [
      "              precision    recall  f1-score   support\n",
      "\n",
      "           0       0.79      0.79      0.79     10007\n",
      "           4       0.79      0.79      0.79      9993\n",
      "\n",
      "    accuracy                           0.79     20000\n",
      "   macro avg       0.79      0.79      0.79     20000\n",
      "weighted avg       0.79      0.79      0.79     20000\n",
      "\n"
     ]
    }
   ],
   "source": [
    "# \"accuracy is a great measure but only when you have symmetric datasets where values of false \n",
    "# positive and false negatives are almost same\"\n",
    "print(classification_report(predSVC,y_test))"
   ]
  },
  {
   "cell_type": "markdown",
   "metadata": {},
   "source": [
    "0 and 4 have similar counts and similar recall and precision.  Not surprising that F1-score and accuracy are closely matched"
   ]
  },
  {
   "cell_type": "code",
   "execution_count": 196,
   "metadata": {
    "ExecuteTime": {
     "end_time": "2021-09-02T04:55:54.152394Z",
     "start_time": "2021-09-02T04:55:54.132712Z"
    }
   },
   "outputs": [],
   "source": [
    "pipelineDT = Pipeline([\n",
    "    ('bow',CountVectorizer(analyzer='word')), # quantify text contents by word\n",
    "    ('tfidf', TfidfTransformer()), # Weighted TF-IDF scores\n",
    "    ('classifier', DecisionTreeClassifier()), # train on TF-IDF vectors w/ DT\n",
    "], verbose=True)"
   ]
  },
  {
   "cell_type": "code",
   "execution_count": 197,
   "metadata": {
    "ExecuteTime": {
     "end_time": "2021-09-02T04:57:14.507860Z",
     "start_time": "2021-09-02T04:55:54.152394Z"
    }
   },
   "outputs": [
    {
     "name": "stdout",
     "output_type": "stream",
     "text": [
      "[Pipeline] ............... (step 1 of 3) Processing bow, total=   2.4s\n",
      "[Pipeline] ............. (step 2 of 3) Processing tfidf, total=   0.1s\n",
      "[Pipeline] ........ (step 3 of 3) Processing classifier, total= 1.3min\n"
     ]
    },
    {
     "data": {
      "text/plain": [
       "Pipeline(steps=[('bow', CountVectorizer()), ('tfidf', TfidfTransformer()),\n",
       "                ('classifier', DecisionTreeClassifier())],\n",
       "         verbose=True)"
      ]
     },
     "execution_count": 197,
     "metadata": {},
     "output_type": "execute_result"
    }
   ],
   "source": [
    "pipelineDT.fit(X_train,y_train)"
   ]
  },
  {
   "cell_type": "code",
   "execution_count": 198,
   "metadata": {
    "ExecuteTime": {
     "end_time": "2021-09-02T04:57:15.071350Z",
     "start_time": "2021-09-02T04:57:14.507860Z"
    }
   },
   "outputs": [],
   "source": [
    "predDT = pipelineDT.predict(X_test)"
   ]
  },
  {
   "cell_type": "code",
   "execution_count": 199,
   "metadata": {
    "ExecuteTime": {
     "end_time": "2021-09-02T04:57:15.139242Z",
     "start_time": "2021-09-02T04:57:15.071350Z"
    }
   },
   "outputs": [
    {
     "name": "stdout",
     "output_type": "stream",
     "text": [
      "              precision    recall  f1-score   support\n",
      "\n",
      "           0       0.68      0.68      0.68     10049\n",
      "           4       0.68      0.68      0.68      9951\n",
      "\n",
      "    accuracy                           0.68     20000\n",
      "   macro avg       0.68      0.68      0.68     20000\n",
      "weighted avg       0.68      0.68      0.68     20000\n",
      "\n"
     ]
    }
   ],
   "source": [
    "print(classification_report(predDT,y_test))"
   ]
  },
  {
   "cell_type": "code",
   "execution_count": 200,
   "metadata": {
    "ExecuteTime": {
     "end_time": "2021-09-02T04:57:15.154865Z",
     "start_time": "2021-09-02T04:57:15.139242Z"
    }
   },
   "outputs": [],
   "source": [
    "pipelineNB = Pipeline([\n",
    "    ('bow',CountVectorizer(analyzer='word')), # quantify text contents by word\n",
    "    ('tfidf', TfidfTransformer()), # Weighted TF-IDF scores\n",
    "    ('classifier', MultinomialNB()), # train on TF-IDF vectors w/ DT\n",
    "], verbose=True)"
   ]
  },
  {
   "cell_type": "code",
   "execution_count": 201,
   "metadata": {
    "ExecuteTime": {
     "end_time": "2021-09-02T04:57:17.360094Z",
     "start_time": "2021-09-02T04:57:15.154865Z"
    }
   },
   "outputs": [
    {
     "name": "stdout",
     "output_type": "stream",
     "text": [
      "[Pipeline] ............... (step 1 of 3) Processing bow, total=   2.1s\n",
      "[Pipeline] ............. (step 2 of 3) Processing tfidf, total=   0.1s\n",
      "[Pipeline] ........ (step 3 of 3) Processing classifier, total=   0.0s\n"
     ]
    },
    {
     "data": {
      "text/plain": [
       "Pipeline(steps=[('bow', CountVectorizer()), ('tfidf', TfidfTransformer()),\n",
       "                ('classifier', MultinomialNB())],\n",
       "         verbose=True)"
      ]
     },
     "execution_count": 201,
     "metadata": {},
     "output_type": "execute_result"
    }
   ],
   "source": [
    "pipelineNB.fit(X_train,y_train)"
   ]
  },
  {
   "cell_type": "code",
   "execution_count": 202,
   "metadata": {
    "ExecuteTime": {
     "end_time": "2021-09-02T04:57:17.861484Z",
     "start_time": "2021-09-02T04:57:17.360094Z"
    }
   },
   "outputs": [],
   "source": [
    "predNB = pipelineNB.predict(X_test)"
   ]
  },
  {
   "cell_type": "code",
   "execution_count": 203,
   "metadata": {
    "ExecuteTime": {
     "end_time": "2021-09-02T04:57:17.930477Z",
     "start_time": "2021-09-02T04:57:17.861484Z"
    }
   },
   "outputs": [
    {
     "name": "stdout",
     "output_type": "stream",
     "text": [
      "              precision    recall  f1-score   support\n",
      "\n",
      "           0       0.83      0.73      0.78     11372\n",
      "           4       0.69      0.80      0.74      8628\n",
      "\n",
      "    accuracy                           0.76     20000\n",
      "   macro avg       0.76      0.76      0.76     20000\n",
      "weighted avg       0.77      0.76      0.76     20000\n",
      "\n"
     ]
    }
   ],
   "source": [
    "print(classification_report(predNB,y_test))"
   ]
  },
  {
   "cell_type": "code",
   "execution_count": 204,
   "metadata": {
    "ExecuteTime": {
     "end_time": "2021-09-02T04:57:17.990367Z",
     "start_time": "2021-09-02T04:57:17.930477Z"
    }
   },
   "outputs": [
    {
     "data": {
      "text/plain": [
       "array([[7922, 2113],\n",
       "       [2085, 7880]], dtype=int64)"
      ]
     },
     "execution_count": 204,
     "metadata": {},
     "output_type": "execute_result"
    }
   ],
   "source": [
    "confusion_matrix(y_test, predSVC)"
   ]
  },
  {
   "cell_type": "code",
   "execution_count": 205,
   "metadata": {
    "ExecuteTime": {
     "end_time": "2021-09-02T04:57:18.066965Z",
     "start_time": "2021-09-02T04:57:17.994450Z"
    }
   },
   "outputs": [
    {
     "name": "stdout",
     "output_type": "stream",
     "text": [
      "[[6854 3181]\n",
      " [3195 6770]]\n"
     ]
    }
   ],
   "source": [
    "print(confusion_matrix(y_test, predDT))"
   ]
  },
  {
   "cell_type": "code",
   "execution_count": 206,
   "metadata": {
    "ExecuteTime": {
     "end_time": "2021-09-02T04:57:18.122716Z",
     "start_time": "2021-09-02T04:57:18.066965Z"
    }
   },
   "outputs": [
    {
     "name": "stdout",
     "output_type": "stream",
     "text": [
      "[[8299 1736]\n",
      " [3073 6892]]\n"
     ]
    }
   ],
   "source": [
    "print(confusion_matrix(y_test, predNB))"
   ]
  },
  {
   "cell_type": "code",
   "execution_count": 207,
   "metadata": {
    "ExecuteTime": {
     "end_time": "2021-09-02T05:00:57.631086Z",
     "start_time": "2021-09-02T04:57:18.125765Z"
    }
   },
   "outputs": [
    {
     "data": {
      "text/plain": [
       "<sklearn.metrics._plot.confusion_matrix.ConfusionMatrixDisplay at 0x18fe209b670>"
      ]
     },
     "execution_count": 207,
     "metadata": {},
     "output_type": "execute_result"
    },
    {
     "data": {
      "image/png": "[encoded data removed]",
      "text/plain": [
       "<Figure size 432x288 with 2 Axes>"
      ]
     },
     "metadata": {
      "needs_background": "light"
     },
     "output_type": "display_data"
    }
   ],
   "source": [
    "plot_confusion_matrix(pipelineSVC, X_test, y_test, cmap=plt.cm.Blues)"
   ]
  },
  {
   "cell_type": "code",
   "execution_count": 208,
   "metadata": {
    "ExecuteTime": {
     "end_time": "2021-09-02T05:00:58.454435Z",
     "start_time": "2021-09-02T05:00:57.631086Z"
    }
   },
   "outputs": [
    {
     "data": {
      "text/plain": [
       "<sklearn.metrics._plot.confusion_matrix.ConfusionMatrixDisplay at 0x1900bf2d550>"
      ]
     },
     "execution_count": 208,
     "metadata": {},
     "output_type": "execute_result"
    },
    {
     "data": {
      "image/png": "[encoded data removed]",
      "text/plain": [
       "<Figure size 432x288 with 2 Axes>"
      ]
     },
     "metadata": {
      "needs_background": "light"
     },
     "output_type": "display_data"
    }
   ],
   "source": [
    "plot_confusion_matrix(pipelineDT, X_test, y_test, cmap=plt.cm.Blues)"
   ]
  },
  {
   "cell_type": "code",
   "execution_count": 209,
   "metadata": {
    "ExecuteTime": {
     "end_time": "2021-09-02T05:00:59.202891Z",
     "start_time": "2021-09-02T05:00:58.454435Z"
    }
   },
   "outputs": [
    {
     "data": {
      "text/plain": [
       "<sklearn.metrics._plot.confusion_matrix.ConfusionMatrixDisplay at 0x19007612460>"
      ]
     },
     "execution_count": 209,
     "metadata": {},
     "output_type": "execute_result"
    },
    {
     "data": {
      "image/png": "[encoded data removed]",
      "text/plain": [
       "<Figure size 432x288 with 2 Axes>"
      ]
     },
     "metadata": {
      "needs_background": "light"
     },
     "output_type": "display_data"
    }
   ],
   "source": [
    "plot_confusion_matrix(pipelineNB, X_test, y_test, cmap=plt.cm.Blues)"
   ]
  },
  {
   "cell_type": "code",
   "execution_count": null,
   "metadata": {},
   "outputs": [],
   "source": []
  },
  {
   "cell_type": "code",
   "execution_count": null,
   "metadata": {},
   "outputs": [],
   "source": []
  }
 ],
 "metadata": {
  "kernelspec": {
   "display_name": "Python 3",
   "language": "python",
   "name": "python3"
  },
  "language_info": {
   "codemirror_mode": {
    "name": "ipython",
    "version": 3
   },
   "file_extension": ".py",
   "mimetype": "text/x-python",
   "name": "python",
   "nbconvert_exporter": "python",
   "pygments_lexer": "ipython3",
   "version": "3.8.5"
  },
  "toc": {
   "base_numbering": 1,
   "nav_menu": {},
   "number_sections": true,
   "sideBar": true,
   "skip_h1_title": false,
   "title_cell": "Table of Contents",
   "title_sidebar": "Contents",
   "toc_cell": false,
   "toc_position": {},
   "toc_section_display": true,
   "toc_window_display": true
  }
 },
 "nbformat": 4,
 "nbformat_minor": 4
}
