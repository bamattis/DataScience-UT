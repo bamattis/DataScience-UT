{
 "cells": [
  {
   "cell_type": "markdown",
   "metadata": {},
   "source": [
    "# Imports"
   ]
  },
  {
   "cell_type": "code",
   "execution_count": 1,
   "metadata": {
    "ExecuteTime": {
     "end_time": "2021-07-15T15:46:04.733669Z",
     "start_time": "2021-07-15T15:45:59.582486Z"
    }
   },
   "outputs": [],
   "source": [
    "# core\n",
    "import numpy as np\n",
    "import pandas as pd\n",
    "import scipy\n",
    "from math import sqrt\n",
    "import matplotlib.pyplot as plt\n",
    "import seaborn as sns\n",
    "\n",
    "# sql\n",
    "import sqlalchemy\n",
    "from sqlalchemy import create_engine\n",
    "import pymysql\n",
    "\n",
    "# SKLearn\n",
    "from sklearn.preprocessing import LabelEncoder\n",
    "from sklearn.model_selection import train_test_split\n",
    "from sklearn.model_selection import cross_val_score\n",
    "\n",
    "# models\n",
    "from sklearn.metrics import accuracy_score\n",
    "from sklearn.metrics import ConfusionMatrixDisplay\n",
    "from sklearn.metrics import plot_confusion_matrix\n",
    "from sklearn.metrics import classification_report, confusion_matrix\n",
    "from sklearn.preprocessing import LabelEncoder\n",
    "from sklearn.neighbors import KNeighborsClassifier\n",
    "from sklearn.tree import DecisionTreeClassifier\n",
    "from sklearn.ensemble import RandomForestClassifier, GradientBoostingClassifier\n",
    "from sklearn.svm import SVC\n",
    "from sklearn import metrics"
   ]
  },
  {
   "cell_type": "markdown",
   "metadata": {},
   "source": [
    "# Data"
   ]
  },
  {
   "cell_type": "markdown",
   "metadata": {},
   "source": [
    "## Data Import"
   ]
  },
  {
   "cell_type": "code",
   "execution_count": 2,
   "metadata": {
    "ExecuteTime": {
     "end_time": "2021-07-15T15:46:05.954045Z",
     "start_time": "2021-07-15T15:46:04.736666Z"
    }
   },
   "outputs": [],
   "source": [
    "df = pd.read_csv('data/trainingData.csv')"
   ]
  },
  {
   "cell_type": "markdown",
   "metadata": {},
   "source": [
    "## Evaluate Data"
   ]
  },
  {
   "cell_type": "code",
   "execution_count": 3,
   "metadata": {
    "ExecuteTime": {
     "end_time": "2021-07-15T15:46:06.000924Z",
     "start_time": "2021-07-15T15:46:05.956043Z"
    }
   },
   "outputs": [
    {
     "data": {
      "text/html": [
       "<div>\n",
       "<style scoped>\n",
       "    .dataframe tbody tr th:only-of-type {\n",
       "        vertical-align: middle;\n",
       "    }\n",
       "\n",
       "    .dataframe tbody tr th {\n",
       "        vertical-align: top;\n",
       "    }\n",
       "\n",
       "    .dataframe thead th {\n",
       "        text-align: right;\n",
       "    }\n",
       "</style>\n",
       "<table border=\"1\" class=\"dataframe\">\n",
       "  <thead>\n",
       "    <tr style=\"text-align: right;\">\n",
       "      <th></th>\n",
       "      <th>WAP001</th>\n",
       "      <th>WAP002</th>\n",
       "      <th>WAP003</th>\n",
       "      <th>WAP004</th>\n",
       "      <th>WAP005</th>\n",
       "      <th>WAP006</th>\n",
       "      <th>WAP007</th>\n",
       "      <th>WAP008</th>\n",
       "      <th>WAP009</th>\n",
       "      <th>WAP010</th>\n",
       "      <th>...</th>\n",
       "      <th>WAP520</th>\n",
       "      <th>LONGITUDE</th>\n",
       "      <th>LATITUDE</th>\n",
       "      <th>FLOOR</th>\n",
       "      <th>BUILDINGID</th>\n",
       "      <th>SPACEID</th>\n",
       "      <th>RELATIVEPOSITION</th>\n",
       "      <th>USERID</th>\n",
       "      <th>PHONEID</th>\n",
       "      <th>TIMESTAMP</th>\n",
       "    </tr>\n",
       "  </thead>\n",
       "  <tbody>\n",
       "    <tr>\n",
       "      <th>0</th>\n",
       "      <td>100</td>\n",
       "      <td>100</td>\n",
       "      <td>100</td>\n",
       "      <td>100</td>\n",
       "      <td>100</td>\n",
       "      <td>100</td>\n",
       "      <td>100</td>\n",
       "      <td>100</td>\n",
       "      <td>100</td>\n",
       "      <td>100</td>\n",
       "      <td>...</td>\n",
       "      <td>100</td>\n",
       "      <td>-7541.2643</td>\n",
       "      <td>4.864921e+06</td>\n",
       "      <td>2</td>\n",
       "      <td>1</td>\n",
       "      <td>106</td>\n",
       "      <td>2</td>\n",
       "      <td>2</td>\n",
       "      <td>23</td>\n",
       "      <td>1371713733</td>\n",
       "    </tr>\n",
       "    <tr>\n",
       "      <th>1</th>\n",
       "      <td>100</td>\n",
       "      <td>100</td>\n",
       "      <td>100</td>\n",
       "      <td>100</td>\n",
       "      <td>100</td>\n",
       "      <td>100</td>\n",
       "      <td>100</td>\n",
       "      <td>100</td>\n",
       "      <td>100</td>\n",
       "      <td>100</td>\n",
       "      <td>...</td>\n",
       "      <td>100</td>\n",
       "      <td>-7536.6212</td>\n",
       "      <td>4.864934e+06</td>\n",
       "      <td>2</td>\n",
       "      <td>1</td>\n",
       "      <td>106</td>\n",
       "      <td>2</td>\n",
       "      <td>2</td>\n",
       "      <td>23</td>\n",
       "      <td>1371713691</td>\n",
       "    </tr>\n",
       "    <tr>\n",
       "      <th>2</th>\n",
       "      <td>100</td>\n",
       "      <td>100</td>\n",
       "      <td>100</td>\n",
       "      <td>100</td>\n",
       "      <td>100</td>\n",
       "      <td>100</td>\n",
       "      <td>100</td>\n",
       "      <td>-97</td>\n",
       "      <td>100</td>\n",
       "      <td>100</td>\n",
       "      <td>...</td>\n",
       "      <td>100</td>\n",
       "      <td>-7519.1524</td>\n",
       "      <td>4.864950e+06</td>\n",
       "      <td>2</td>\n",
       "      <td>1</td>\n",
       "      <td>103</td>\n",
       "      <td>2</td>\n",
       "      <td>2</td>\n",
       "      <td>23</td>\n",
       "      <td>1371714095</td>\n",
       "    </tr>\n",
       "    <tr>\n",
       "      <th>3</th>\n",
       "      <td>100</td>\n",
       "      <td>100</td>\n",
       "      <td>100</td>\n",
       "      <td>100</td>\n",
       "      <td>100</td>\n",
       "      <td>100</td>\n",
       "      <td>100</td>\n",
       "      <td>100</td>\n",
       "      <td>100</td>\n",
       "      <td>100</td>\n",
       "      <td>...</td>\n",
       "      <td>100</td>\n",
       "      <td>-7524.5704</td>\n",
       "      <td>4.864934e+06</td>\n",
       "      <td>2</td>\n",
       "      <td>1</td>\n",
       "      <td>102</td>\n",
       "      <td>2</td>\n",
       "      <td>2</td>\n",
       "      <td>23</td>\n",
       "      <td>1371713807</td>\n",
       "    </tr>\n",
       "    <tr>\n",
       "      <th>4</th>\n",
       "      <td>100</td>\n",
       "      <td>100</td>\n",
       "      <td>100</td>\n",
       "      <td>100</td>\n",
       "      <td>100</td>\n",
       "      <td>100</td>\n",
       "      <td>100</td>\n",
       "      <td>100</td>\n",
       "      <td>100</td>\n",
       "      <td>100</td>\n",
       "      <td>...</td>\n",
       "      <td>100</td>\n",
       "      <td>-7632.1436</td>\n",
       "      <td>4.864982e+06</td>\n",
       "      <td>0</td>\n",
       "      <td>0</td>\n",
       "      <td>122</td>\n",
       "      <td>2</td>\n",
       "      <td>11</td>\n",
       "      <td>13</td>\n",
       "      <td>1369909710</td>\n",
       "    </tr>\n",
       "  </tbody>\n",
       "</table>\n",
       "<p>5 rows × 529 columns</p>\n",
       "</div>"
      ],
      "text/plain": [
       "   WAP001  WAP002  WAP003  WAP004  WAP005  WAP006  WAP007  WAP008  WAP009  \\\n",
       "0     100     100     100     100     100     100     100     100     100   \n",
       "1     100     100     100     100     100     100     100     100     100   \n",
       "2     100     100     100     100     100     100     100     -97     100   \n",
       "3     100     100     100     100     100     100     100     100     100   \n",
       "4     100     100     100     100     100     100     100     100     100   \n",
       "\n",
       "   WAP010  ...  WAP520  LONGITUDE      LATITUDE  FLOOR  BUILDINGID  SPACEID  \\\n",
       "0     100  ...     100 -7541.2643  4.864921e+06      2           1      106   \n",
       "1     100  ...     100 -7536.6212  4.864934e+06      2           1      106   \n",
       "2     100  ...     100 -7519.1524  4.864950e+06      2           1      103   \n",
       "3     100  ...     100 -7524.5704  4.864934e+06      2           1      102   \n",
       "4     100  ...     100 -7632.1436  4.864982e+06      0           0      122   \n",
       "\n",
       "   RELATIVEPOSITION  USERID  PHONEID   TIMESTAMP  \n",
       "0                 2       2       23  1371713733  \n",
       "1                 2       2       23  1371713691  \n",
       "2                 2       2       23  1371714095  \n",
       "3                 2       2       23  1371713807  \n",
       "4                 2      11       13  1369909710  \n",
       "\n",
       "[5 rows x 529 columns]"
      ]
     },
     "execution_count": 3,
     "metadata": {},
     "output_type": "execute_result"
    }
   ],
   "source": [
    "df.head()"
   ]
  },
  {
   "cell_type": "code",
   "execution_count": 4,
   "metadata": {
    "ExecuteTime": {
     "end_time": "2021-07-15T15:46:06.031843Z",
     "start_time": "2021-07-15T15:46:06.006908Z"
    }
   },
   "outputs": [
    {
     "data": {
      "text/plain": [
       "LONGITUDE           float64\n",
       "LATITUDE            float64\n",
       "FLOOR                 int64\n",
       "BUILDINGID            int64\n",
       "SPACEID               int64\n",
       "RELATIVEPOSITION      int64\n",
       "USERID                int64\n",
       "PHONEID               int64\n",
       "dtype: object"
      ]
     },
     "execution_count": 4,
     "metadata": {},
     "output_type": "execute_result"
    }
   ],
   "source": [
    "df.iloc[:, 520:528].dtypes"
   ]
  },
  {
   "cell_type": "markdown",
   "metadata": {},
   "source": [
    "## Preprocess"
   ]
  },
  {
   "cell_type": "code",
   "execution_count": 5,
   "metadata": {
    "ExecuteTime": {
     "end_time": "2021-07-15T15:46:06.078739Z",
     "start_time": "2021-07-15T15:46:06.034835Z"
    }
   },
   "outputs": [
    {
     "data": {
      "text/plain": [
       "False"
      ]
     },
     "execution_count": 5,
     "metadata": {},
     "output_type": "execute_result"
    }
   ],
   "source": [
    "# identify NaNs\n",
    "df.isnull().values.any() #False"
   ]
  },
  {
   "cell_type": "code",
   "execution_count": 6,
   "metadata": {
    "ExecuteTime": {
     "end_time": "2021-07-15T15:46:07.315898Z",
     "start_time": "2021-07-15T15:46:06.082707Z"
    }
   },
   "outputs": [
    {
     "data": {
      "text/plain": [
       "False"
      ]
     },
     "execution_count": 6,
     "metadata": {},
     "output_type": "execute_result"
    }
   ],
   "source": [
    "# remove any duplicates\n",
    "\n",
    "df.duplicated().any() # True\n",
    "df[df.duplicated()].shape #(637, 529)\n",
    "df = df.drop_duplicates()\n",
    "df.duplicated().any() #False\n"
   ]
  },
  {
   "cell_type": "code",
   "execution_count": 7,
   "metadata": {
    "ExecuteTime": {
     "end_time": "2021-07-15T15:46:07.363732Z",
     "start_time": "2021-07-15T15:46:07.318853Z"
    }
   },
   "outputs": [
    {
     "data": {
      "text/html": [
       "<div>\n",
       "<style scoped>\n",
       "    .dataframe tbody tr th:only-of-type {\n",
       "        vertical-align: middle;\n",
       "    }\n",
       "\n",
       "    .dataframe tbody tr th {\n",
       "        vertical-align: top;\n",
       "    }\n",
       "\n",
       "    .dataframe thead th {\n",
       "        text-align: right;\n",
       "    }\n",
       "</style>\n",
       "<table border=\"1\" class=\"dataframe\">\n",
       "  <thead>\n",
       "    <tr style=\"text-align: right;\">\n",
       "      <th></th>\n",
       "      <th>WAP001</th>\n",
       "      <th>WAP002</th>\n",
       "      <th>WAP003</th>\n",
       "      <th>WAP004</th>\n",
       "      <th>WAP005</th>\n",
       "      <th>WAP006</th>\n",
       "      <th>WAP007</th>\n",
       "      <th>WAP008</th>\n",
       "      <th>WAP009</th>\n",
       "      <th>WAP010</th>\n",
       "      <th>...</th>\n",
       "      <th>WAP520</th>\n",
       "      <th>LONGITUDE</th>\n",
       "      <th>LATITUDE</th>\n",
       "      <th>FLOOR</th>\n",
       "      <th>BUILDINGID</th>\n",
       "      <th>SPACEID</th>\n",
       "      <th>RELATIVEPOSITION</th>\n",
       "      <th>USERID</th>\n",
       "      <th>PHONEID</th>\n",
       "      <th>TIMESTAMP</th>\n",
       "    </tr>\n",
       "  </thead>\n",
       "  <tbody>\n",
       "    <tr>\n",
       "      <th>0</th>\n",
       "      <td>100</td>\n",
       "      <td>100</td>\n",
       "      <td>100</td>\n",
       "      <td>100</td>\n",
       "      <td>100</td>\n",
       "      <td>100</td>\n",
       "      <td>100</td>\n",
       "      <td>100</td>\n",
       "      <td>100</td>\n",
       "      <td>100</td>\n",
       "      <td>...</td>\n",
       "      <td>100</td>\n",
       "      <td>-7541.2643</td>\n",
       "      <td>4.864921e+06</td>\n",
       "      <td>2</td>\n",
       "      <td>1</td>\n",
       "      <td>106</td>\n",
       "      <td>2</td>\n",
       "      <td>2</td>\n",
       "      <td>23</td>\n",
       "      <td>1371713733</td>\n",
       "    </tr>\n",
       "  </tbody>\n",
       "</table>\n",
       "<p>1 rows × 529 columns</p>\n",
       "</div>"
      ],
      "text/plain": [
       "   WAP001  WAP002  WAP003  WAP004  WAP005  WAP006  WAP007  WAP008  WAP009  \\\n",
       "0     100     100     100     100     100     100     100     100     100   \n",
       "\n",
       "   WAP010  ...  WAP520  LONGITUDE      LATITUDE  FLOOR  BUILDINGID  SPACEID  \\\n",
       "0     100  ...     100 -7541.2643  4.864921e+06      2           1      106   \n",
       "\n",
       "   RELATIVEPOSITION  USERID  PHONEID   TIMESTAMP  \n",
       "0                 2       2       23  1371713733  \n",
       "\n",
       "[1 rows x 529 columns]"
      ]
     },
     "execution_count": 7,
     "metadata": {},
     "output_type": "execute_result"
    }
   ],
   "source": [
    "df.head(1)"
   ]
  },
  {
   "cell_type": "markdown",
   "metadata": {},
   "source": [
    "# EDA"
   ]
  },
  {
   "cell_type": "markdown",
   "metadata": {},
   "source": [
    "## Signal strenth histogram"
   ]
  },
  {
   "cell_type": "code",
   "execution_count": 8,
   "metadata": {
    "ExecuteTime": {
     "end_time": "2021-07-15T15:46:07.378693Z",
     "start_time": "2021-07-15T15:46:07.366726Z"
    }
   },
   "outputs": [],
   "source": [
    "#histogram\n",
    "dfhist=df"
   ]
  },
  {
   "cell_type": "code",
   "execution_count": 9,
   "metadata": {
    "ExecuteTime": {
     "end_time": "2021-07-15T15:46:07.393688Z",
     "start_time": "2021-07-15T15:46:07.384678Z"
    }
   },
   "outputs": [],
   "source": [
    "#List of WAP columns and BUILDINGID\n",
    "col_list=list(range(0,520))\n",
    "col_list.append(523) #BUILDINGID"
   ]
  },
  {
   "cell_type": "code",
   "execution_count": 10,
   "metadata": {
    "ExecuteTime": {
     "end_time": "2021-07-15T15:46:08.143647Z",
     "start_time": "2021-07-15T15:46:07.398651Z"
    }
   },
   "outputs": [],
   "source": [
    "dfhist=dfhist.iloc[:,col_list]\n",
    "#FYI melt - if you don't specify Value_Vars, it assumes all except id_vars(which is good)\n",
    "dfhist=pd.melt(dfhist, id_vars=['BUILDINGID'])\n",
    "dfhist=dfhist.loc[dfhist.value < 100]"
   ]
  },
  {
   "cell_type": "code",
   "execution_count": 11,
   "metadata": {
    "ExecuteTime": {
     "end_time": "2021-07-15T15:46:08.174565Z",
     "start_time": "2021-07-15T15:46:08.146638Z"
    }
   },
   "outputs": [
    {
     "data": {
      "text/html": [
       "<div>\n",
       "<style scoped>\n",
       "    .dataframe tbody tr th:only-of-type {\n",
       "        vertical-align: middle;\n",
       "    }\n",
       "\n",
       "    .dataframe tbody tr th {\n",
       "        vertical-align: top;\n",
       "    }\n",
       "\n",
       "    .dataframe thead th {\n",
       "        text-align: right;\n",
       "    }\n",
       "</style>\n",
       "<table border=\"1\" class=\"dataframe\">\n",
       "  <thead>\n",
       "    <tr style=\"text-align: right;\">\n",
       "      <th></th>\n",
       "      <th>BUILDINGID</th>\n",
       "      <th>variable</th>\n",
       "      <th>value</th>\n",
       "    </tr>\n",
       "  </thead>\n",
       "  <tbody>\n",
       "    <tr>\n",
       "      <th>7749</th>\n",
       "      <td>0</td>\n",
       "      <td>WAP001</td>\n",
       "      <td>-97</td>\n",
       "    </tr>\n",
       "    <tr>\n",
       "      <th>7760</th>\n",
       "      <td>0</td>\n",
       "      <td>WAP001</td>\n",
       "      <td>-95</td>\n",
       "    </tr>\n",
       "    <tr>\n",
       "      <th>8199</th>\n",
       "      <td>0</td>\n",
       "      <td>WAP001</td>\n",
       "      <td>-96</td>\n",
       "    </tr>\n",
       "    <tr>\n",
       "      <th>8632</th>\n",
       "      <td>0</td>\n",
       "      <td>WAP001</td>\n",
       "      <td>-95</td>\n",
       "    </tr>\n",
       "    <tr>\n",
       "      <th>8648</th>\n",
       "      <td>0</td>\n",
       "      <td>WAP001</td>\n",
       "      <td>-94</td>\n",
       "    </tr>\n",
       "    <tr>\n",
       "      <th>...</th>\n",
       "      <td>...</td>\n",
       "      <td>...</td>\n",
       "      <td>...</td>\n",
       "    </tr>\n",
       "    <tr>\n",
       "      <th>9990101</th>\n",
       "      <td>2</td>\n",
       "      <td>WAP518</td>\n",
       "      <td>-87</td>\n",
       "    </tr>\n",
       "    <tr>\n",
       "      <th>9990147</th>\n",
       "      <td>2</td>\n",
       "      <td>WAP518</td>\n",
       "      <td>-87</td>\n",
       "    </tr>\n",
       "    <tr>\n",
       "      <th>10005152</th>\n",
       "      <td>0</td>\n",
       "      <td>WAP519</td>\n",
       "      <td>-97</td>\n",
       "    </tr>\n",
       "    <tr>\n",
       "      <th>10006036</th>\n",
       "      <td>0</td>\n",
       "      <td>WAP519</td>\n",
       "      <td>-97</td>\n",
       "    </tr>\n",
       "    <tr>\n",
       "      <th>10006948</th>\n",
       "      <td>0</td>\n",
       "      <td>WAP519</td>\n",
       "      <td>-94</td>\n",
       "    </tr>\n",
       "  </tbody>\n",
       "</table>\n",
       "<p>345080 rows × 3 columns</p>\n",
       "</div>"
      ],
      "text/plain": [
       "          BUILDINGID variable  value\n",
       "7749               0   WAP001    -97\n",
       "7760               0   WAP001    -95\n",
       "8199               0   WAP001    -96\n",
       "8632               0   WAP001    -95\n",
       "8648               0   WAP001    -94\n",
       "...              ...      ...    ...\n",
       "9990101            2   WAP518    -87\n",
       "9990147            2   WAP518    -87\n",
       "10005152           0   WAP519    -97\n",
       "10006036           0   WAP519    -97\n",
       "10006948           0   WAP519    -94\n",
       "\n",
       "[345080 rows x 3 columns]"
      ]
     },
     "execution_count": 11,
     "metadata": {},
     "output_type": "execute_result"
    }
   ],
   "source": [
    "dfhist"
   ]
  },
  {
   "cell_type": "code",
   "execution_count": 12,
   "metadata": {
    "ExecuteTime": {
     "end_time": "2021-07-15T15:46:10.792447Z",
     "start_time": "2021-07-15T15:46:08.177556Z"
    }
   },
   "outputs": [
    {
     "data": {
      "text/plain": [
       "<AxesSubplot:xlabel='value', ylabel='Density'>"
      ]
     },
     "execution_count": 12,
     "metadata": {},
     "output_type": "execute_result"
    },
    {
     "data": {
      "image/png": "[encoded data removed]",
      "text/plain": [
       "<Figure size 432x288 with 1 Axes>"
      ]
     },
     "metadata": {
      "needs_background": "light"
     },
     "output_type": "display_data"
    }
   ],
   "source": [
    "sns.kdeplot(dfhist['value'], hue=dfhist['BUILDINGID'], palette=\"tab10\", common_norm=False)\n",
    "#.get_figure().savefig('WAP_hist.png')"
   ]
  },
  {
   "cell_type": "code",
   "execution_count": 13,
   "metadata": {
    "ExecuteTime": {
     "end_time": "2021-07-15T15:46:10.840399Z",
     "start_time": "2021-07-15T15:46:10.797435Z"
    }
   },
   "outputs": [
    {
     "name": "stdout",
     "output_type": "stream",
     "text": [
      "83072\n",
      "80851\n",
      "181157\n"
     ]
    }
   ],
   "source": [
    "# observations of each\n",
    "print(len(dfhist[dfhist.BUILDINGID==0]))\n",
    "print(len(dfhist[dfhist.BUILDINGID==1]))\n",
    "print(len(dfhist[dfhist.BUILDINGID==2]))"
   ]
  },
  {
   "cell_type": "code",
   "execution_count": 14,
   "metadata": {
    "ExecuteTime": {
     "end_time": "2021-07-15T15:46:10.888171Z",
     "start_time": "2021-07-15T15:46:10.843353Z"
    }
   },
   "outputs": [
    {
     "name": "stdout",
     "output_type": "stream",
     "text": [
      "-76.25999133281972\n",
      "-77.41501032763973\n",
      "-80.17981640234713\n"
     ]
    }
   ],
   "source": [
    "# avg signal strenth (when detected)\n",
    "print(dfhist[dfhist.BUILDINGID==0]['value'].mean())\n",
    "print(dfhist[dfhist.BUILDINGID==1]['value'].mean())\n",
    "print(dfhist[dfhist.BUILDINGID==2]['value'].mean())"
   ]
  },
  {
   "cell_type": "markdown",
   "metadata": {},
   "source": [
    "## Long/Lat Map"
   ]
  },
  {
   "cell_type": "code",
   "execution_count": 15,
   "metadata": {
    "ExecuteTime": {
     "end_time": "2021-07-15T15:46:11.420565Z",
     "start_time": "2021-07-15T15:46:10.890102Z"
    }
   },
   "outputs": [
    {
     "data": {
      "text/plain": [
       "<AxesSubplot:xlabel='LONGITUDE', ylabel='LATITUDE'>"
      ]
     },
     "execution_count": 15,
     "metadata": {},
     "output_type": "execute_result"
    },
    {
     "data": {
      "image/png": "[encoded data removed]",
      "text/plain": [
       "<Figure size 432x288 with 1 Axes>"
      ]
     },
     "metadata": {
      "needs_background": "light"
     },
     "output_type": "display_data"
    }
   ],
   "source": [
    "df.plot.scatter(x='LONGITUDE', y='LATITUDE')\n",
    "#plt.savefig('lat_long.png')"
   ]
  },
  {
   "cell_type": "markdown",
   "metadata": {},
   "source": [
    "# Modelling Prep"
   ]
  },
  {
   "cell_type": "code",
   "execution_count": 16,
   "metadata": {
    "ExecuteTime": {
     "end_time": "2021-07-15T15:46:11.467564Z",
     "start_time": "2021-07-15T15:46:11.424523Z"
    }
   },
   "outputs": [],
   "source": [
    "#remove variables that aren't IV or DV\n",
    "df.drop(columns=['LONGITUDE', 'LATITUDE','USERID', 'PHONEID', 'TIMESTAMP'], inplace=True)"
   ]
  },
  {
   "cell_type": "code",
   "execution_count": 17,
   "metadata": {
    "ExecuteTime": {
     "end_time": "2021-07-15T15:46:11.577475Z",
     "start_time": "2021-07-15T15:46:11.472527Z"
    }
   },
   "outputs": [],
   "source": [
    "# Create a singular DV (BUILDINGID + FLOOR + SPACEID + RELATIVEPOSITION)\n",
    "df['Location'] = \"B\"+df.BUILDINGID.astype(str)+\" \"+ \\\n",
    "                 \"F\"+df.FLOOR.astype(str)+\" \"+ \\\n",
    "                 \"S\"+df.SPACEID.astype(str)+\" \"+ \\\n",
    "                 \"R\"+df.RELATIVEPOSITION.astype(str)"
   ]
  },
  {
   "cell_type": "code",
   "execution_count": 18,
   "metadata": {
    "ExecuteTime": {
     "end_time": "2021-07-15T15:46:11.640935Z",
     "start_time": "2021-07-15T15:46:11.579486Z"
    }
   },
   "outputs": [],
   "source": [
    "#remove these variables (except building)\n",
    "df.drop(columns=['FLOOR', 'SPACEID', 'RELATIVEPOSITION'], inplace=True)"
   ]
  },
  {
   "cell_type": "code",
   "execution_count": 19,
   "metadata": {
    "ExecuteTime": {
     "end_time": "2021-07-15T15:46:11.672310Z",
     "start_time": "2021-07-15T15:46:11.643892Z"
    }
   },
   "outputs": [],
   "source": [
    "#make building=1 data set\n",
    "dfB0 = df.loc[df.BUILDINGID==0]\n",
    "#reset index\n",
    "dfB0.reset_index(drop=True, inplace=True)"
   ]
  },
  {
   "cell_type": "code",
   "execution_count": 20,
   "metadata": {
    "ExecuteTime": {
     "end_time": "2021-07-15T15:46:11.736025Z",
     "start_time": "2021-07-15T15:46:11.674240Z"
    }
   },
   "outputs": [],
   "source": [
    "#remove building from both data sets\n",
    "dfB0 = dfB0.drop(columns=['BUILDINGID'])\n",
    "df.drop(columns=['BUILDINGID'], inplace=True)"
   ]
  },
  {
   "cell_type": "code",
   "execution_count": 21,
   "metadata": {
    "ExecuteTime": {
     "end_time": "2021-07-15T15:46:11.782899Z",
     "start_time": "2021-07-15T15:46:11.740014Z"
    }
   },
   "outputs": [
    {
     "data": {
      "text/html": [
       "<div>\n",
       "<style scoped>\n",
       "    .dataframe tbody tr th:only-of-type {\n",
       "        vertical-align: middle;\n",
       "    }\n",
       "\n",
       "    .dataframe tbody tr th {\n",
       "        vertical-align: top;\n",
       "    }\n",
       "\n",
       "    .dataframe thead th {\n",
       "        text-align: right;\n",
       "    }\n",
       "</style>\n",
       "<table border=\"1\" class=\"dataframe\">\n",
       "  <thead>\n",
       "    <tr style=\"text-align: right;\">\n",
       "      <th></th>\n",
       "      <th>WAP001</th>\n",
       "      <th>WAP002</th>\n",
       "      <th>WAP003</th>\n",
       "      <th>WAP004</th>\n",
       "      <th>WAP005</th>\n",
       "      <th>WAP006</th>\n",
       "      <th>WAP007</th>\n",
       "      <th>WAP008</th>\n",
       "      <th>WAP009</th>\n",
       "      <th>WAP010</th>\n",
       "      <th>...</th>\n",
       "      <th>WAP512</th>\n",
       "      <th>WAP513</th>\n",
       "      <th>WAP514</th>\n",
       "      <th>WAP515</th>\n",
       "      <th>WAP516</th>\n",
       "      <th>WAP517</th>\n",
       "      <th>WAP518</th>\n",
       "      <th>WAP519</th>\n",
       "      <th>WAP520</th>\n",
       "      <th>Location</th>\n",
       "    </tr>\n",
       "  </thead>\n",
       "  <tbody>\n",
       "    <tr>\n",
       "      <th>0</th>\n",
       "      <td>100</td>\n",
       "      <td>100</td>\n",
       "      <td>100</td>\n",
       "      <td>100</td>\n",
       "      <td>100</td>\n",
       "      <td>100</td>\n",
       "      <td>100</td>\n",
       "      <td>100</td>\n",
       "      <td>100</td>\n",
       "      <td>100</td>\n",
       "      <td>...</td>\n",
       "      <td>100</td>\n",
       "      <td>100</td>\n",
       "      <td>100</td>\n",
       "      <td>100</td>\n",
       "      <td>100</td>\n",
       "      <td>100</td>\n",
       "      <td>100</td>\n",
       "      <td>100</td>\n",
       "      <td>100</td>\n",
       "      <td>B0 F0 S122 R2</td>\n",
       "    </tr>\n",
       "    <tr>\n",
       "      <th>1</th>\n",
       "      <td>100</td>\n",
       "      <td>100</td>\n",
       "      <td>100</td>\n",
       "      <td>100</td>\n",
       "      <td>100</td>\n",
       "      <td>100</td>\n",
       "      <td>100</td>\n",
       "      <td>100</td>\n",
       "      <td>100</td>\n",
       "      <td>100</td>\n",
       "      <td>...</td>\n",
       "      <td>100</td>\n",
       "      <td>100</td>\n",
       "      <td>100</td>\n",
       "      <td>100</td>\n",
       "      <td>100</td>\n",
       "      <td>100</td>\n",
       "      <td>100</td>\n",
       "      <td>100</td>\n",
       "      <td>100</td>\n",
       "      <td>B0 F0 S102 R2</td>\n",
       "    </tr>\n",
       "    <tr>\n",
       "      <th>2</th>\n",
       "      <td>100</td>\n",
       "      <td>100</td>\n",
       "      <td>100</td>\n",
       "      <td>100</td>\n",
       "      <td>100</td>\n",
       "      <td>100</td>\n",
       "      <td>100</td>\n",
       "      <td>100</td>\n",
       "      <td>100</td>\n",
       "      <td>100</td>\n",
       "      <td>...</td>\n",
       "      <td>100</td>\n",
       "      <td>100</td>\n",
       "      <td>100</td>\n",
       "      <td>100</td>\n",
       "      <td>100</td>\n",
       "      <td>100</td>\n",
       "      <td>100</td>\n",
       "      <td>100</td>\n",
       "      <td>100</td>\n",
       "      <td>B0 F0 S110 R2</td>\n",
       "    </tr>\n",
       "    <tr>\n",
       "      <th>3</th>\n",
       "      <td>100</td>\n",
       "      <td>100</td>\n",
       "      <td>100</td>\n",
       "      <td>100</td>\n",
       "      <td>100</td>\n",
       "      <td>100</td>\n",
       "      <td>100</td>\n",
       "      <td>100</td>\n",
       "      <td>100</td>\n",
       "      <td>100</td>\n",
       "      <td>...</td>\n",
       "      <td>100</td>\n",
       "      <td>100</td>\n",
       "      <td>100</td>\n",
       "      <td>100</td>\n",
       "      <td>100</td>\n",
       "      <td>100</td>\n",
       "      <td>100</td>\n",
       "      <td>100</td>\n",
       "      <td>100</td>\n",
       "      <td>B0 F0 S111 R2</td>\n",
       "    </tr>\n",
       "    <tr>\n",
       "      <th>4</th>\n",
       "      <td>100</td>\n",
       "      <td>100</td>\n",
       "      <td>100</td>\n",
       "      <td>100</td>\n",
       "      <td>100</td>\n",
       "      <td>100</td>\n",
       "      <td>100</td>\n",
       "      <td>100</td>\n",
       "      <td>100</td>\n",
       "      <td>100</td>\n",
       "      <td>...</td>\n",
       "      <td>100</td>\n",
       "      <td>100</td>\n",
       "      <td>100</td>\n",
       "      <td>100</td>\n",
       "      <td>100</td>\n",
       "      <td>100</td>\n",
       "      <td>100</td>\n",
       "      <td>100</td>\n",
       "      <td>100</td>\n",
       "      <td>B0 F0 S107 R2</td>\n",
       "    </tr>\n",
       "  </tbody>\n",
       "</table>\n",
       "<p>5 rows × 521 columns</p>\n",
       "</div>"
      ],
      "text/plain": [
       "   WAP001  WAP002  WAP003  WAP004  WAP005  WAP006  WAP007  WAP008  WAP009  \\\n",
       "0     100     100     100     100     100     100     100     100     100   \n",
       "1     100     100     100     100     100     100     100     100     100   \n",
       "2     100     100     100     100     100     100     100     100     100   \n",
       "3     100     100     100     100     100     100     100     100     100   \n",
       "4     100     100     100     100     100     100     100     100     100   \n",
       "\n",
       "   WAP010  ...  WAP512  WAP513  WAP514  WAP515  WAP516  WAP517  WAP518  \\\n",
       "0     100  ...     100     100     100     100     100     100     100   \n",
       "1     100  ...     100     100     100     100     100     100     100   \n",
       "2     100  ...     100     100     100     100     100     100     100   \n",
       "3     100  ...     100     100     100     100     100     100     100   \n",
       "4     100  ...     100     100     100     100     100     100     100   \n",
       "\n",
       "   WAP519  WAP520       Location  \n",
       "0     100     100  B0 F0 S122 R2  \n",
       "1     100     100  B0 F0 S102 R2  \n",
       "2     100     100  B0 F0 S110 R2  \n",
       "3     100     100  B0 F0 S111 R2  \n",
       "4     100     100  B0 F0 S107 R2  \n",
       "\n",
       "[5 rows x 521 columns]"
      ]
     },
     "execution_count": 21,
     "metadata": {},
     "output_type": "execute_result"
    }
   ],
   "source": [
    "dfB0.head()"
   ]
  },
  {
   "cell_type": "code",
   "execution_count": null,
   "metadata": {},
   "outputs": [],
   "source": []
  },
  {
   "cell_type": "markdown",
   "metadata": {},
   "source": [
    "## Sampling"
   ]
  },
  {
   "cell_type": "code",
   "execution_count": 22,
   "metadata": {
    "ExecuteTime": {
     "end_time": "2021-07-15T15:46:11.844734Z",
     "start_time": "2021-07-15T15:46:11.786890Z"
    }
   },
   "outputs": [
    {
     "data": {
      "text/plain": [
       "(4825, 521)"
      ]
     },
     "execution_count": 22,
     "metadata": {},
     "output_type": "execute_result"
    }
   ],
   "source": [
    "seed=123\n",
    "dfS = df.sample(frac=0.25, random_state=seed)\n",
    "dfS.shape"
   ]
  },
  {
   "cell_type": "markdown",
   "metadata": {},
   "source": [
    "## Feature Engineering"
   ]
  },
  {
   "cell_type": "code",
   "execution_count": 23,
   "metadata": {
    "ExecuteTime": {
     "end_time": "2021-07-15T15:46:11.968519Z",
     "start_time": "2021-07-15T15:46:11.847727Z"
    }
   },
   "outputs": [],
   "source": [
    "#add columns for max signal strength and associated WAP.  Keep orig WAP columns\n",
    "#make a copy of df\n",
    "dfFE = df.copy(deep=True)\n",
    "#convert all \"100\" values to -100\n",
    "dfFE.replace(100,-100, inplace=True)"
   ]
  },
  {
   "cell_type": "code",
   "execution_count": 24,
   "metadata": {
    "ExecuteTime": {
     "end_time": "2021-07-15T15:46:12.189806Z",
     "start_time": "2021-07-15T15:46:11.973506Z"
    }
   },
   "outputs": [],
   "source": [
    "#find the max value of each observation\n",
    "dfFE['max_sig'] = dfFE.iloc[:,0:520].max(axis=1)\n",
    "dfFE['max_WAP'] = dfFE.iloc[:,0:520].idxmax(axis=1)"
   ]
  },
  {
   "cell_type": "code",
   "execution_count": 25,
   "metadata": {
    "ExecuteTime": {
     "end_time": "2021-07-15T15:46:12.205770Z",
     "start_time": "2021-07-15T15:46:12.192796Z"
    }
   },
   "outputs": [],
   "source": [
    "labelencoder = LabelEncoder()"
   ]
  },
  {
   "cell_type": "code",
   "execution_count": 26,
   "metadata": {
    "ExecuteTime": {
     "end_time": "2021-07-15T15:46:12.235681Z",
     "start_time": "2021-07-15T15:46:12.208753Z"
    }
   },
   "outputs": [],
   "source": [
    "#encode df1 to numeric for modelling.  Too many categories to do 1-hot (520)\n",
    "dfFE['maxWAP_Cat']= labelencoder.fit_transform(dfFE['max_WAP'])"
   ]
  },
  {
   "cell_type": "code",
   "execution_count": 27,
   "metadata": {
    "ExecuteTime": {
     "end_time": "2021-07-15T15:46:14.402281Z",
     "start_time": "2021-07-15T15:46:12.243671Z"
    }
   },
   "outputs": [],
   "source": [
    "#create a column listing total number of received values in an observation\n",
    "\n",
    "#copy dfFE WAP columns into new df\n",
    "#replace -100 with NaN (or make it a T/F df for !=-100)\n",
    "dftemp = dfFE.iloc[:,0:520].applymap(lambda x: x!=-100)\n",
    "#count of each row, add it as column to dfFE\n",
    "dfFE['sig_cnt']=dftemp.sum(axis=1)"
   ]
  },
  {
   "cell_type": "code",
   "execution_count": 28,
   "metadata": {
    "ExecuteTime": {
     "end_time": "2021-07-15T15:46:14.654609Z",
     "start_time": "2021-07-15T15:46:14.405277Z"
    }
   },
   "outputs": [],
   "source": [
    "#ditch the object columns\n",
    "dfFE=dfFE.drop(columns=['max_WAP'])\n",
    "#swap so DV is last\n",
    "cols = list(dfFE.columns)\n",
    "a, b = cols.index('Location'), cols.index('sig_cnt')\n",
    "cols[b], cols[a] = cols[a], cols[b]\n",
    "dfFE = dfFE[cols]"
   ]
  },
  {
   "cell_type": "code",
   "execution_count": 29,
   "metadata": {
    "ExecuteTime": {
     "end_time": "2021-07-15T15:46:14.702481Z",
     "start_time": "2021-07-15T15:46:14.660595Z"
    }
   },
   "outputs": [
    {
     "data": {
      "text/html": [
       "<div>\n",
       "<style scoped>\n",
       "    .dataframe tbody tr th:only-of-type {\n",
       "        vertical-align: middle;\n",
       "    }\n",
       "\n",
       "    .dataframe tbody tr th {\n",
       "        vertical-align: top;\n",
       "    }\n",
       "\n",
       "    .dataframe thead th {\n",
       "        text-align: right;\n",
       "    }\n",
       "</style>\n",
       "<table border=\"1\" class=\"dataframe\">\n",
       "  <thead>\n",
       "    <tr style=\"text-align: right;\">\n",
       "      <th></th>\n",
       "      <th>WAP001</th>\n",
       "      <th>WAP002</th>\n",
       "      <th>WAP003</th>\n",
       "      <th>WAP004</th>\n",
       "      <th>WAP005</th>\n",
       "      <th>WAP006</th>\n",
       "      <th>WAP007</th>\n",
       "      <th>WAP008</th>\n",
       "      <th>WAP009</th>\n",
       "      <th>WAP010</th>\n",
       "      <th>...</th>\n",
       "      <th>WAP515</th>\n",
       "      <th>WAP516</th>\n",
       "      <th>WAP517</th>\n",
       "      <th>WAP518</th>\n",
       "      <th>WAP519</th>\n",
       "      <th>WAP520</th>\n",
       "      <th>sig_cnt</th>\n",
       "      <th>max_sig</th>\n",
       "      <th>maxWAP_Cat</th>\n",
       "      <th>Location</th>\n",
       "    </tr>\n",
       "  </thead>\n",
       "  <tbody>\n",
       "    <tr>\n",
       "      <th>0</th>\n",
       "      <td>-100</td>\n",
       "      <td>-100</td>\n",
       "      <td>-100</td>\n",
       "      <td>-100</td>\n",
       "      <td>-100</td>\n",
       "      <td>-100</td>\n",
       "      <td>-100</td>\n",
       "      <td>-100</td>\n",
       "      <td>-100</td>\n",
       "      <td>-100</td>\n",
       "      <td>...</td>\n",
       "      <td>-100</td>\n",
       "      <td>-100</td>\n",
       "      <td>-100</td>\n",
       "      <td>-100</td>\n",
       "      <td>-100</td>\n",
       "      <td>-100</td>\n",
       "      <td>17</td>\n",
       "      <td>-53</td>\n",
       "      <td>147</td>\n",
       "      <td>B1 F2 S106 R2</td>\n",
       "    </tr>\n",
       "    <tr>\n",
       "      <th>1</th>\n",
       "      <td>-100</td>\n",
       "      <td>-100</td>\n",
       "      <td>-100</td>\n",
       "      <td>-100</td>\n",
       "      <td>-100</td>\n",
       "      <td>-100</td>\n",
       "      <td>-100</td>\n",
       "      <td>-100</td>\n",
       "      <td>-100</td>\n",
       "      <td>-100</td>\n",
       "      <td>...</td>\n",
       "      <td>-100</td>\n",
       "      <td>-100</td>\n",
       "      <td>-100</td>\n",
       "      <td>-100</td>\n",
       "      <td>-100</td>\n",
       "      <td>-100</td>\n",
       "      <td>16</td>\n",
       "      <td>-46</td>\n",
       "      <td>77</td>\n",
       "      <td>B1 F2 S106 R2</td>\n",
       "    </tr>\n",
       "    <tr>\n",
       "      <th>2</th>\n",
       "      <td>-100</td>\n",
       "      <td>-100</td>\n",
       "      <td>-100</td>\n",
       "      <td>-100</td>\n",
       "      <td>-100</td>\n",
       "      <td>-100</td>\n",
       "      <td>-100</td>\n",
       "      <td>-97</td>\n",
       "      <td>-100</td>\n",
       "      <td>-100</td>\n",
       "      <td>...</td>\n",
       "      <td>-100</td>\n",
       "      <td>-100</td>\n",
       "      <td>-100</td>\n",
       "      <td>-100</td>\n",
       "      <td>-100</td>\n",
       "      <td>-100</td>\n",
       "      <td>15</td>\n",
       "      <td>-61</td>\n",
       "      <td>146</td>\n",
       "      <td>B1 F2 S103 R2</td>\n",
       "    </tr>\n",
       "    <tr>\n",
       "      <th>3</th>\n",
       "      <td>-100</td>\n",
       "      <td>-100</td>\n",
       "      <td>-100</td>\n",
       "      <td>-100</td>\n",
       "      <td>-100</td>\n",
       "      <td>-100</td>\n",
       "      <td>-100</td>\n",
       "      <td>-100</td>\n",
       "      <td>-100</td>\n",
       "      <td>-100</td>\n",
       "      <td>...</td>\n",
       "      <td>-100</td>\n",
       "      <td>-100</td>\n",
       "      <td>-100</td>\n",
       "      <td>-100</td>\n",
       "      <td>-100</td>\n",
       "      <td>-100</td>\n",
       "      <td>16</td>\n",
       "      <td>-55</td>\n",
       "      <td>146</td>\n",
       "      <td>B1 F2 S102 R2</td>\n",
       "    </tr>\n",
       "    <tr>\n",
       "      <th>4</th>\n",
       "      <td>-100</td>\n",
       "      <td>-100</td>\n",
       "      <td>-100</td>\n",
       "      <td>-100</td>\n",
       "      <td>-100</td>\n",
       "      <td>-100</td>\n",
       "      <td>-100</td>\n",
       "      <td>-100</td>\n",
       "      <td>-100</td>\n",
       "      <td>-100</td>\n",
       "      <td>...</td>\n",
       "      <td>-100</td>\n",
       "      <td>-100</td>\n",
       "      <td>-100</td>\n",
       "      <td>-100</td>\n",
       "      <td>-100</td>\n",
       "      <td>-100</td>\n",
       "      <td>0</td>\n",
       "      <td>-100</td>\n",
       "      <td>0</td>\n",
       "      <td>B0 F0 S122 R2</td>\n",
       "    </tr>\n",
       "  </tbody>\n",
       "</table>\n",
       "<p>5 rows × 524 columns</p>\n",
       "</div>"
      ],
      "text/plain": [
       "   WAP001  WAP002  WAP003  WAP004  WAP005  WAP006  WAP007  WAP008  WAP009  \\\n",
       "0    -100    -100    -100    -100    -100    -100    -100    -100    -100   \n",
       "1    -100    -100    -100    -100    -100    -100    -100    -100    -100   \n",
       "2    -100    -100    -100    -100    -100    -100    -100     -97    -100   \n",
       "3    -100    -100    -100    -100    -100    -100    -100    -100    -100   \n",
       "4    -100    -100    -100    -100    -100    -100    -100    -100    -100   \n",
       "\n",
       "   WAP010  ...  WAP515  WAP516  WAP517  WAP518  WAP519  WAP520  sig_cnt  \\\n",
       "0    -100  ...    -100    -100    -100    -100    -100    -100       17   \n",
       "1    -100  ...    -100    -100    -100    -100    -100    -100       16   \n",
       "2    -100  ...    -100    -100    -100    -100    -100    -100       15   \n",
       "3    -100  ...    -100    -100    -100    -100    -100    -100       16   \n",
       "4    -100  ...    -100    -100    -100    -100    -100    -100        0   \n",
       "\n",
       "   max_sig  maxWAP_Cat       Location  \n",
       "0      -53         147  B1 F2 S106 R2  \n",
       "1      -46          77  B1 F2 S106 R2  \n",
       "2      -61         146  B1 F2 S103 R2  \n",
       "3      -55         146  B1 F2 S102 R2  \n",
       "4     -100           0  B0 F0 S122 R2  \n",
       "\n",
       "[5 rows x 524 columns]"
      ]
     },
     "execution_count": 29,
     "metadata": {},
     "output_type": "execute_result"
    }
   ],
   "source": [
    "dfFE.head()"
   ]
  },
  {
   "cell_type": "code",
   "execution_count": 30,
   "metadata": {
    "ExecuteTime": {
     "end_time": "2021-07-15T15:46:14.779278Z",
     "start_time": "2021-07-15T15:46:14.706471Z"
    }
   },
   "outputs": [
    {
     "data": {
      "text/plain": [
       "(4825, 524)"
      ]
     },
     "execution_count": 30,
     "metadata": {},
     "output_type": "execute_result"
    }
   ],
   "source": [
    "#Sample\n",
    "dfFES = dfFE.sample(frac=0.25, random_state=seed)\n",
    "dfFES.shape"
   ]
  },
  {
   "cell_type": "code",
   "execution_count": 31,
   "metadata": {
    "ExecuteTime": {
     "end_time": "2021-07-15T01:41:47.826164Z",
     "start_time": "2021-07-15T01:41:47.819183Z"
    }
   },
   "outputs": [
    {
     "data": {
      "text/plain": [
       "(5246, 521)"
      ]
     },
     "execution_count": 31,
     "metadata": {},
     "output_type": "execute_result"
    }
   ],
   "source": [
    "dfB0.shape"
   ]
  },
  {
   "cell_type": "markdown",
   "metadata": {},
   "source": [
    "# Modelling"
   ]
  },
  {
   "cell_type": "markdown",
   "metadata": {},
   "source": [
    "## Prepare Data"
   ]
  },
  {
   "cell_type": "code",
   "execution_count": 32,
   "metadata": {
    "ExecuteTime": {
     "end_time": "2021-07-12T04:15:16.159293Z",
     "start_time": "2021-07-12T04:15:16.115406Z"
    }
   },
   "outputs": [],
   "source": [
    "dfSX = dfS.iloc[:,:-1]\n",
    "dfB0X = dfB0.iloc[:,:-1]\n",
    "dfFESX = dfFES.iloc[:,:-1] "
   ]
  },
  {
   "cell_type": "code",
   "execution_count": 33,
   "metadata": {
    "ExecuteTime": {
     "end_time": "2021-07-12T04:15:16.236480Z",
     "start_time": "2021-07-12T04:15:16.163277Z"
    }
   },
   "outputs": [],
   "source": [
    "#need our DV to be categorical \n",
    "# - use Scikit-Learn's LabelEncoder to keep our DF manageable (due to number of categories)\n",
    "# creating instance of labelencoder\n",
    "labelencoder = LabelEncoder()\n",
    "#encode the DVs\n",
    "dfSY= labelencoder.fit_transform(dfS['Location'])\n",
    "dfB0Y= labelencoder.fit_transform(dfB0['Location'])\n",
    "dfFESY=labelencoder.fit_transform(dfFES['Location'])\n"
   ]
  },
  {
   "cell_type": "code",
   "execution_count": 34,
   "metadata": {
    "ExecuteTime": {
     "end_time": "2021-07-12T04:15:16.375657Z",
     "start_time": "2021-07-12T04:15:16.239466Z"
    }
   },
   "outputs": [
    {
     "name": "stdout",
     "output_type": "stream",
     "text": [
      "(3618, 520)\n",
      "(3618,)\n",
      "(1207, 520)\n",
      "(1207,)\n"
     ]
    }
   ],
   "source": [
    "X_traindfS, X_testdfS, y_traindfS, y_testdfS = train_test_split(dfSX, dfSY)   \n",
    "print( X_traindfS.shape )\n",
    "print( y_traindfS.shape )\n",
    "print( X_testdfS.shape )\n",
    "print( y_testdfS.shape )"
   ]
  },
  {
   "cell_type": "code",
   "execution_count": 35,
   "metadata": {
    "ExecuteTime": {
     "end_time": "2021-07-12T04:15:16.454153Z",
     "start_time": "2021-07-12T04:15:16.377652Z"
    }
   },
   "outputs": [
    {
     "name": "stdout",
     "output_type": "stream",
     "text": [
      "(3934, 520)\n",
      "(3934,)\n",
      "(1312, 520)\n",
      "(1312,)\n"
     ]
    }
   ],
   "source": [
    "X_trainB0, X_testB0, y_trainB0, y_testB0 = train_test_split(dfB0X, dfB0Y)   \n",
    "print( X_trainB0.shape )\n",
    "print( y_trainB0.shape )\n",
    "print( X_testB0.shape )\n",
    "print( y_testB0.shape )"
   ]
  },
  {
   "cell_type": "code",
   "execution_count": 36,
   "metadata": {
    "ExecuteTime": {
     "end_time": "2021-07-12T04:15:16.517195Z",
     "start_time": "2021-07-12T04:15:16.459138Z"
    }
   },
   "outputs": [
    {
     "name": "stdout",
     "output_type": "stream",
     "text": [
      "(3618, 523)\n",
      "(3618,)\n",
      "(1207, 523)\n",
      "(1207,)\n"
     ]
    }
   ],
   "source": [
    "X_trainFES, X_testFES, y_trainFES, y_testFES = train_test_split(dfFESX, dfFESY)   \n",
    "print( X_trainFES.shape )\n",
    "print( y_trainFES.shape )\n",
    "print( X_testFES.shape )\n",
    "print( y_testFES.shape )"
   ]
  },
  {
   "cell_type": "markdown",
   "metadata": {},
   "source": [
    "## Create Models"
   ]
  },
  {
   "cell_type": "markdown",
   "metadata": {},
   "source": [
    "Performed single tests to ensure training time is manageable.\n",
    "\n",
    "Evaluated KNN, SVM, Gradient Boosting, Decision Trees\n",
    "\n",
    "Result: GB was both the slowest, and had the lowest accuracy"
   ]
  },
  {
   "cell_type": "code",
   "execution_count": 59,
   "metadata": {
    "ExecuteTime": {
     "end_time": "2021-07-12T13:52:17.102208Z",
     "start_time": "2021-07-12T13:52:17.091240Z"
    }
   },
   "outputs": [],
   "source": [
    "#eval a single model:\n",
    "#model=DecisionTreeClassifier()\n",
    "#result = cross_val_score(model, X_train, y_train)\n",
    "#print(\"%0.2f accuracy with a standard deviation of %0.2f\" % (result.mean(), result.std()))"
   ]
  },
  {
   "cell_type": "code",
   "execution_count": 67,
   "metadata": {
    "ExecuteTime": {
     "end_time": "2021-07-13T04:07:40.330223Z",
     "start_time": "2021-07-13T04:07:40.314601Z"
    }
   },
   "outputs": [],
   "source": [
    "models = []\n",
    "models.append(('DT', DecisionTreeClassifier()))\n",
    "models.append(('KN', KNeighborsClassifier()))\n",
    "models.append(('SV', SVC(kernel='linear')))"
   ]
  },
  {
   "cell_type": "markdown",
   "metadata": {},
   "source": [
    "### Cross-Val dfS (sampled orig data set)"
   ]
  },
  {
   "cell_type": "code",
   "execution_count": 51,
   "metadata": {
    "ExecuteTime": {
     "end_time": "2021-07-12T13:42:02.275361Z",
     "start_time": "2021-07-12T13:40:33.274288Z"
    }
   },
   "outputs": [
    {
     "name": "stderr",
     "output_type": "stream",
     "text": [
      "C:\\Users\\bmattis\\.conda\\envs\\dataScience\\lib\\site-packages\\sklearn\\model_selection\\_split.py:670: UserWarning: The least populated class in y has only 1 members, which is less than n_splits=3.\n",
      "  warnings.warn((\"The least populated class in y has only %d\"\n",
      "C:\\Users\\bmattis\\.conda\\envs\\dataScience\\lib\\site-packages\\sklearn\\model_selection\\_split.py:670: UserWarning: The least populated class in y has only 1 members, which is less than n_splits=3.\n",
      "  warnings.warn((\"The least populated class in y has only %d\"\n",
      "C:\\Users\\bmattis\\.conda\\envs\\dataScience\\lib\\site-packages\\sklearn\\model_selection\\_split.py:670: UserWarning: The least populated class in y has only 1 members, which is less than n_splits=3.\n",
      "  warnings.warn((\"The least populated class in y has only %d\"\n"
     ]
    }
   ],
   "source": [
    "# build models for dfS (sampled orig data set)\n",
    "results_dfS_CV = []\n",
    "names_dfS_CV = []\n",
    "for name, model in models:\n",
    "    result = cross_val_score(model, X_traindfS, y_traindfS, cv=3)\n",
    "    names_dfS_CV.append(name)\n",
    "    results_dfS_CV.append(result)"
   ]
  },
  {
   "cell_type": "code",
   "execution_count": 64,
   "metadata": {
    "ExecuteTime": {
     "end_time": "2021-07-13T03:52:14.115181Z",
     "start_time": "2021-07-13T03:52:14.083933Z"
    }
   },
   "outputs": [
    {
     "name": "stdout",
     "output_type": "stream",
     "text": [
      "DT accuracy: 0.3322277501381979 || max: 0.3407960199004975 || min:  0.3250414593698176\n",
      "KN accuracy: 0.33112216694306246 || max: 0.3341625207296849 || min:  0.32587064676616917\n",
      "SV accuracy: 0.49447208402432286 || max: 0.5091210613598673 || min:  0.4759535655058043\n"
     ]
    }
   ],
   "source": [
    "# evaluate results\n",
    "for i in range(len(names_dfS_CV)):\n",
    "    print(names_dfS_CV[i],\"accuracy:\", results_dfS_CV[i].mean(),\"|| max:\",results_dfS_CV[i].max(), \"|| min: \", results_dfS_CV[i].min())"
   ]
  },
  {
   "cell_type": "markdown",
   "metadata": {},
   "source": [
    "### Cross-Val dfB0 (Building==0 data set)"
   ]
  },
  {
   "cell_type": "code",
   "execution_count": 68,
   "metadata": {
    "ExecuteTime": {
     "end_time": "2021-07-13T04:08:38.769728Z",
     "start_time": "2021-07-13T04:07:52.531498Z"
    }
   },
   "outputs": [],
   "source": [
    "results_B0_CV = []\n",
    "names_B0_CV = []\n",
    "for name, model in models:\n",
    "    result = cross_val_score(model, X_trainB0, y_trainB0, cv=3)\n",
    "    names_B0_CV.append(name)\n",
    "    results_B0_CV.append(result)"
   ]
  },
  {
   "cell_type": "code",
   "execution_count": 69,
   "metadata": {
    "ExecuteTime": {
     "end_time": "2021-07-13T04:08:38.785246Z",
     "start_time": "2021-07-13T04:08:38.769728Z"
    }
   },
   "outputs": [
    {
     "name": "stdout",
     "output_type": "stream",
     "text": [
      "DT accuracy: 0.5188085648018951 || max: 0.5377574370709383 || min:  0.4927536231884058\n",
      "KN accuracy: 0.49644057009792064 || max: 0.505720823798627 || min:  0.4843630816170862\n",
      "SV accuracy: 0.5800709909273005 || max: 0.593440122044241 || min:  0.5659801678108314\n"
     ]
    }
   ],
   "source": [
    "# evaluate results\n",
    "for i in range(len(names_B0_CV)):\n",
    "    print(names_B0_CV[i],\"accuracy:\", results_B0_CV[i].mean(),\"|| max:\",results_B0_CV[i].max(), \"|| min: \", results_B0_CV[i].min())"
   ]
  },
  {
   "cell_type": "markdown",
   "metadata": {},
   "source": [
    "### Cross-Val dfFES (Feature engineering, sampled data set)"
   ]
  },
  {
   "cell_type": "code",
   "execution_count": 56,
   "metadata": {
    "ExecuteTime": {
     "end_time": "2021-07-12T13:48:22.577207Z",
     "start_time": "2021-07-12T13:46:50.970562Z"
    }
   },
   "outputs": [
    {
     "name": "stderr",
     "output_type": "stream",
     "text": [
      "C:\\Users\\bmattis\\.conda\\envs\\dataScience\\lib\\site-packages\\sklearn\\model_selection\\_split.py:670: UserWarning: The least populated class in y has only 1 members, which is less than n_splits=3.\n",
      "  warnings.warn((\"The least populated class in y has only %d\"\n",
      "C:\\Users\\bmattis\\.conda\\envs\\dataScience\\lib\\site-packages\\sklearn\\model_selection\\_split.py:670: UserWarning: The least populated class in y has only 1 members, which is less than n_splits=3.\n",
      "  warnings.warn((\"The least populated class in y has only %d\"\n",
      "C:\\Users\\bmattis\\.conda\\envs\\dataScience\\lib\\site-packages\\sklearn\\model_selection\\_split.py:670: UserWarning: The least populated class in y has only 1 members, which is less than n_splits=3.\n",
      "  warnings.warn((\"The least populated class in y has only %d\"\n"
     ]
    }
   ],
   "source": [
    "results_FES_CV = []\n",
    "names_FES_CV = []\n",
    "for name, model in models:\n",
    "    result = cross_val_score(model, X_trainFES, y_trainFES, cv=3)\n",
    "    names_FES_CV.append(name)\n",
    "    results_FES_CV.append(result)"
   ]
  },
  {
   "cell_type": "code",
   "execution_count": 65,
   "metadata": {
    "ExecuteTime": {
     "end_time": "2021-07-13T03:52:42.197619Z",
     "start_time": "2021-07-13T03:52:42.166519Z"
    }
   },
   "outputs": [
    {
     "name": "stdout",
     "output_type": "stream",
     "text": [
      "DT accuracy: 0.39607517965726924 || max: 0.412106135986733 || min:  0.37976782752902155\n",
      "KN accuracy: 0.3971807628524046 || max: 0.40630182421227196 || min:  0.3922056384742952\n",
      "SV accuracy: 0.6017136539524599 || max: 0.6044776119402985 || min:  0.599502487562189\n"
     ]
    }
   ],
   "source": [
    "# evaluate results\n",
    "for i in range(len(names_FES_CV)):\n",
    "    print(names_FES_CV[i],\"accuracy:\", results_FES_CV[i].mean(),\"|| max:\",results_FES_CV[i].max(), \"|| min: \", results_FES_CV[i].min())"
   ]
  },
  {
   "cell_type": "markdown",
   "metadata": {},
   "source": [
    "### Model Optimization: SVC & dfFES"
   ]
  },
  {
   "cell_type": "code",
   "execution_count": 66,
   "metadata": {
    "ExecuteTime": {
     "end_time": "2021-07-13T04:06:03.968224Z",
     "start_time": "2021-07-13T04:06:03.936982Z"
    }
   },
   "outputs": [
    {
     "data": {
      "text/plain": [
       "[('DT', DecisionTreeClassifier()),\n",
       " ('KN', KNeighborsClassifier()),\n",
       " ('SV', SVC(kernel='linear'))]"
      ]
     },
     "execution_count": 66,
     "metadata": {},
     "output_type": "execute_result"
    }
   ],
   "source": [
    "models"
   ]
  },
  {
   "cell_type": "code",
   "execution_count": 70,
   "metadata": {
    "ExecuteTime": {
     "end_time": "2021-07-13T04:11:04.221924Z",
     "start_time": "2021-07-13T04:11:04.190850Z"
    }
   },
   "outputs": [],
   "source": [
    "SVmodels = []\n",
    "SVmodels.append(('SVlin', SVC(kernel='linear')))\n",
    "SVmodels.append(('SVpoly', SVC(kernel='poly', degree=3)))\n",
    "SVmodels.append(('SVrbf', SVC(kernel='rbf')))"
   ]
  },
  {
   "cell_type": "code",
   "execution_count": 71,
   "metadata": {
    "ExecuteTime": {
     "end_time": "2021-07-13T04:16:00.140854Z",
     "start_time": "2021-07-13T04:12:05.680394Z"
    }
   },
   "outputs": [
    {
     "name": "stderr",
     "output_type": "stream",
     "text": [
      "C:\\Users\\bmattis\\.conda\\envs\\dataScience\\lib\\site-packages\\sklearn\\model_selection\\_split.py:670: UserWarning: The least populated class in y has only 1 members, which is less than n_splits=3.\n",
      "  warnings.warn((\"The least populated class in y has only %d\"\n",
      "C:\\Users\\bmattis\\.conda\\envs\\dataScience\\lib\\site-packages\\sklearn\\model_selection\\_split.py:670: UserWarning: The least populated class in y has only 1 members, which is less than n_splits=3.\n",
      "  warnings.warn((\"The least populated class in y has only %d\"\n",
      "C:\\Users\\bmattis\\.conda\\envs\\dataScience\\lib\\site-packages\\sklearn\\model_selection\\_split.py:670: UserWarning: The least populated class in y has only 1 members, which is less than n_splits=3.\n",
      "  warnings.warn((\"The least populated class in y has only %d\"\n"
     ]
    }
   ],
   "source": [
    "results_SVopt = []\n",
    "names_SVopt = []\n",
    "for name, model in SVmodels:\n",
    "    result = cross_val_score(model, X_trainFES, y_trainFES, cv=3)\n",
    "    names_SVopt.append(name)\n",
    "    results_SVopt.append(result)"
   ]
  },
  {
   "cell_type": "code",
   "execution_count": 72,
   "metadata": {
    "ExecuteTime": {
     "end_time": "2021-07-13T04:16:02.893255Z",
     "start_time": "2021-07-13T04:16:02.871093Z"
    }
   },
   "outputs": [
    {
     "name": "stdout",
     "output_type": "stream",
     "text": [
      "SVlin accuracy: 0.6017136539524599 || max: 0.6044776119402985 || min:  0.599502487562189\n",
      "SVpoly accuracy: 0.6017136539524599 || max: 0.6053067993366501 || min:  0.599502487562189\n",
      "SVrbf accuracy: 0.115257048092869 || max: 0.12437810945273632 || min:  0.10945273631840796\n"
     ]
    }
   ],
   "source": [
    "# evaluate results\n",
    "for i in range(len(names_SVopt)):\n",
    "    print(names_SVopt[i],\"accuracy:\", results_SVopt[i].mean(),\"|| max:\",results_SVopt[i].max(), \"|| min: \", results_SVopt[i].min())"
   ]
  },
  {
   "cell_type": "markdown",
   "metadata": {},
   "source": [
    "**SVC(linear) and SVC(poly) are matched for best model**"
   ]
  },
  {
   "cell_type": "markdown",
   "metadata": {},
   "source": [
    "## Model Validation"
   ]
  },
  {
   "cell_type": "code",
   "execution_count": 74,
   "metadata": {
    "ExecuteTime": {
     "end_time": "2021-07-13T04:19:55.586187Z",
     "start_time": "2021-07-13T04:19:23.485302Z"
    }
   },
   "outputs": [
    {
     "name": "stdout",
     "output_type": "stream",
     "text": [
      "              precision    recall  f1-score   support\n",
      "\n",
      "           0       0.00      0.00      0.00         1\n",
      "           1       1.00      1.00      1.00         1\n",
      "           2       0.00      0.00      0.00         0\n",
      "           4       0.00      0.00      0.00         2\n",
      "           5       0.00      0.00      0.00         2\n",
      "           7       1.00      0.50      0.67         2\n",
      "           8       0.00      0.00      0.00         0\n",
      "           9       1.00      1.00      1.00         1\n",
      "          12       1.00      0.50      0.67         2\n",
      "          13       1.00      1.00      1.00         1\n",
      "          14       0.00      0.00      0.00         0\n",
      "          15       1.00      1.00      1.00         1\n",
      "          17       0.00      0.00      0.00         2\n",
      "          19       0.50      1.00      0.67         2\n",
      "          20       0.00      0.00      0.00         2\n",
      "          21       0.00      0.00      0.00         1\n",
      "          22       0.00      0.00      0.00         0\n",
      "          23       1.00      1.00      1.00         1\n",
      "          24       0.00      0.00      0.00         0\n",
      "          25       0.67      1.00      0.80         2\n",
      "          26       0.00      0.00      0.00         2\n",
      "          27       1.00      0.50      0.67         2\n",
      "          29       0.50      1.00      0.67         1\n",
      "          30       1.00      0.33      0.50         3\n",
      "          31       0.00      0.00      0.00         0\n",
      "          34       0.00      0.00      0.00         0\n",
      "          35       0.00      0.00      0.00         2\n",
      "          36       0.50      1.00      0.67         1\n",
      "          39       0.75      0.75      0.75         4\n",
      "          40       1.00      1.00      1.00         1\n",
      "          41       1.00      0.50      0.67         2\n",
      "          42       0.50      1.00      0.67         1\n",
      "          44       1.00      0.50      0.67         2\n",
      "          45       0.50      1.00      0.67         1\n",
      "          46       1.00      1.00      1.00         2\n",
      "          47       0.75      0.75      0.75         4\n",
      "          50       1.00      1.00      1.00         1\n",
      "          51       1.00      1.00      1.00         1\n",
      "          53       0.00      0.00      0.00         1\n",
      "          54       0.25      0.50      0.33         2\n",
      "          55       0.00      0.00      0.00         1\n",
      "          56       0.50      1.00      0.67         1\n",
      "          57       1.00      0.50      0.67         6\n",
      "          58       0.50      0.67      0.57         3\n",
      "          59       0.50      0.67      0.57         3\n",
      "          60       0.33      0.50      0.40         2\n",
      "          61       1.00      0.50      0.67         2\n",
      "          62       0.00      0.00      0.00         1\n",
      "          63       1.00      1.00      1.00         1\n",
      "          64       0.00      0.00      0.00         0\n",
      "          65       0.00      0.00      0.00         0\n",
      "          66       0.00      0.00      0.00         1\n",
      "          67       0.00      0.00      0.00         1\n",
      "          68       0.67      0.50      0.57         4\n",
      "          69       1.00      1.00      1.00         1\n",
      "          70       0.00      0.00      0.00         1\n",
      "          71       0.00      0.00      0.00         0\n",
      "          74       0.00      0.00      0.00         0\n",
      "          75       0.50      1.00      0.67         1\n",
      "          76       0.50      0.50      0.50         2\n",
      "          77       0.00      0.00      0.00         2\n",
      "          79       0.00      0.00      0.00         1\n",
      "          80       0.00      0.00      0.00         0\n",
      "          81       1.00      1.00      1.00         1\n",
      "          83       1.00      1.00      1.00         1\n",
      "          84       1.00      1.00      1.00         1\n",
      "          85       1.00      0.50      0.67         2\n",
      "          87       0.50      1.00      0.67         1\n",
      "          88       0.00      0.00      0.00         0\n",
      "          89       0.00      0.00      0.00         1\n",
      "          90       0.33      1.00      0.50         1\n",
      "          91       0.00      0.00      0.00         1\n",
      "          93       1.00      1.00      1.00         1\n",
      "          94       0.50      1.00      0.67         1\n",
      "          95       1.00      1.00      1.00         2\n",
      "          96       1.00      0.50      0.67         2\n",
      "          97       0.50      1.00      0.67         1\n",
      "          99       1.00      1.00      1.00         1\n",
      "         100       0.00      0.00      0.00         1\n",
      "         101       0.00      0.00      0.00         1\n",
      "         102       0.00      0.00      0.00         0\n",
      "         104       0.67      0.67      0.67         3\n",
      "         105       0.00      0.00      0.00         2\n",
      "         106       0.50      1.00      0.67         1\n",
      "         107       0.00      0.00      0.00         1\n",
      "         108       0.00      0.00      0.00         1\n",
      "         109       1.00      1.00      1.00         1\n",
      "         111       0.50      1.00      0.67         1\n",
      "         112       0.00      0.00      0.00         1\n",
      "         113       0.67      1.00      0.80         2\n",
      "         114       0.67      1.00      0.80         2\n",
      "         115       0.50      1.00      0.67         1\n",
      "         117       1.00      0.67      0.80         3\n",
      "         118       0.00      0.00      0.00         1\n",
      "         119       0.00      0.00      0.00         1\n",
      "         120       1.00      0.50      0.67         2\n",
      "         121       0.00      0.00      0.00         1\n",
      "         124       1.00      1.00      1.00         1\n",
      "         125       0.00      0.00      0.00         5\n",
      "         126       0.17      1.00      0.29         1\n",
      "         127       0.00      0.00      0.00         0\n",
      "         131       0.80      1.00      0.89         4\n",
      "         132       1.00      0.50      0.67         2\n",
      "         133       0.00      0.00      0.00         1\n",
      "         134       0.00      0.00      0.00         0\n",
      "         135       1.00      0.75      0.86         4\n",
      "         136       0.67      1.00      0.80         2\n",
      "         137       1.00      0.50      0.67         2\n",
      "         138       0.00      0.00      0.00         1\n",
      "         139       0.00      0.00      0.00         3\n",
      "         140       0.00      0.00      0.00         1\n",
      "         141       0.67      0.67      0.67         3\n",
      "         142       0.00      0.00      0.00         0\n",
      "         143       0.50      0.50      0.50         2\n",
      "         144       0.33      1.00      0.50         1\n",
      "         145       0.00      0.00      0.00         2\n",
      "         146       0.00      0.00      0.00         2\n",
      "         148       0.33      1.00      0.50         1\n",
      "         151       1.00      0.33      0.50         3\n",
      "         152       0.33      1.00      0.50         1\n",
      "         154       1.00      1.00      1.00         1\n",
      "         155       0.50      0.50      0.50         2\n",
      "         156       0.33      1.00      0.50         1\n",
      "         157       0.00      0.00      0.00         1\n",
      "         158       0.00      0.00      0.00         0\n",
      "         159       1.00      0.50      0.67         2\n",
      "         160       0.00      0.00      0.00         1\n",
      "         161       0.00      0.00      0.00         1\n",
      "         162       1.00      1.00      1.00         1\n",
      "         164       0.00      0.00      0.00         1\n",
      "         167       0.50      0.50      0.50         2\n",
      "         168       0.00      0.00      0.00         1\n",
      "         169       0.50      1.00      0.67         1\n",
      "         171       0.00      0.00      0.00         1\n",
      "         172       0.33      1.00      0.50         1\n",
      "         174       1.00      1.00      1.00         1\n",
      "         175       1.00      1.00      1.00         1\n",
      "         176       1.00      1.00      1.00         1\n",
      "         180       1.00      0.50      0.67         2\n",
      "         181       0.00      0.00      0.00         0\n",
      "         182       1.00      1.00      1.00         2\n",
      "         184       1.00      1.00      1.00         2\n",
      "         185       1.00      0.67      0.80         3\n",
      "         186       0.00      0.00      0.00         0\n",
      "         187       1.00      0.50      0.67         2\n",
      "         189       0.00      0.00      0.00         1\n",
      "         190       1.00      1.00      1.00         1\n",
      "         191       0.00      0.00      0.00         1\n",
      "         192       0.50      0.50      0.50         2\n",
      "         193       0.00      0.00      0.00         2\n",
      "         194       0.67      1.00      0.80         2\n",
      "         195       0.25      1.00      0.40         1\n",
      "         196       0.50      0.50      0.50         2\n",
      "         197       0.00      0.00      0.00         3\n",
      "         198       0.00      0.00      0.00         3\n",
      "         199       1.00      0.50      0.67         2\n",
      "         201       0.67      0.67      0.67         3\n",
      "         202       0.33      1.00      0.50         1\n",
      "         205       0.40      0.67      0.50         3\n",
      "         206       0.00      0.00      0.00         2\n",
      "         207       0.00      0.00      0.00         2\n",
      "         208       0.00      0.00      0.00         1\n",
      "         209       0.00      0.00      0.00         2\n",
      "         210       0.00      0.00      0.00         0\n",
      "         211       0.67      1.00      0.80         2\n",
      "         212       1.00      0.67      0.80         3\n",
      "         214       0.50      1.00      0.67         1\n",
      "         215       0.67      0.67      0.67         3\n",
      "         216       0.00      0.00      0.00         2\n",
      "         217       0.00      0.00      0.00         2\n",
      "         218       0.00      0.00      0.00         1\n",
      "         219       1.00      0.50      0.67         2\n",
      "         220       0.75      1.00      0.86         3\n",
      "         221       1.00      1.00      1.00         2\n",
      "         222       1.00      1.00      1.00         2\n",
      "         223       0.00      0.00      0.00         0\n",
      "         225       0.50      0.67      0.57         3\n",
      "         226       1.00      1.00      1.00         2\n",
      "         227       0.50      0.50      0.50         2\n",
      "         228       0.33      1.00      0.50         1\n",
      "         229       0.67      1.00      0.80         2\n",
      "         230       1.00      0.33      0.50         3\n",
      "         231       0.00      0.00      0.00         0\n",
      "         232       0.33      0.33      0.33         3\n",
      "         233       0.00      0.00      0.00         1\n",
      "         234       0.00      0.00      0.00         1\n",
      "         235       0.50      0.50      0.50         2\n",
      "         237       0.00      0.00      0.00         2\n",
      "         238       0.00      0.00      0.00         1\n",
      "         239       0.00      0.00      0.00         2\n",
      "         240       1.00      1.00      1.00         1\n",
      "         241       1.00      1.00      1.00         1\n",
      "         242       1.00      1.00      1.00         1\n",
      "         243       0.50      1.00      0.67         1\n",
      "         244       0.33      0.50      0.40         2\n",
      "         245       1.00      1.00      1.00         1\n",
      "         248       1.00      1.00      1.00         1\n",
      "         249       0.00      0.00      0.00         1\n",
      "         250       1.00      0.67      0.80         3\n",
      "         251       1.00      1.00      1.00         1\n",
      "         252       0.50      0.33      0.40         3\n",
      "         253       1.00      1.00      1.00         1\n",
      "         255       1.00      1.00      1.00         2\n",
      "         256       1.00      0.67      0.80         3\n",
      "         257       0.50      0.50      0.50         2\n",
      "         258       0.67      0.67      0.67         3\n",
      "         260       0.67      0.67      0.67         3\n",
      "         261       0.50      1.00      0.67         1\n",
      "         263       1.00      1.00      1.00         3\n",
      "         264       1.00      1.00      1.00         2\n",
      "         265       1.00      1.00      1.00         1\n",
      "         266       1.00      0.50      0.67         2\n",
      "         267       0.00      0.00      0.00         0\n",
      "         270       1.00      1.00      1.00         5\n",
      "         271       1.00      1.00      1.00         1\n",
      "         272       1.00      1.00      1.00         1\n",
      "         274       1.00      1.00      1.00         1\n",
      "         275       1.00      1.00      1.00         3\n",
      "         277       0.00      0.00      0.00         1\n",
      "         278       1.00      1.00      1.00         8\n",
      "         279       0.60      0.75      0.67         4\n",
      "         280       1.00      1.00      1.00         1\n",
      "         281       0.67      1.00      0.80         2\n",
      "         282       1.00      1.00      1.00         2\n",
      "         284       0.50      1.00      0.67         1\n",
      "         286       0.00      0.00      0.00         1\n",
      "         290       0.00      0.00      0.00         1\n",
      "         291       0.00      0.00      0.00         0\n",
      "         292       1.00      1.00      1.00         1\n",
      "         293       0.00      0.00      0.00         1\n",
      "         295       0.50      1.00      0.67         2\n",
      "         296       0.33      1.00      0.50         1\n",
      "         297       0.00      0.00      0.00         2\n",
      "         299       0.00      0.00      0.00         2\n",
      "         300       0.00      0.00      0.00         1\n",
      "         301       0.00      0.00      0.00         1\n",
      "         303       0.50      1.00      0.67         1\n",
      "         306       0.00      0.00      0.00         1\n",
      "         309       0.33      1.00      0.50         1\n",
      "         310       1.00      1.00      1.00         2\n",
      "         312       0.00      0.00      0.00         1\n",
      "         313       0.00      0.00      0.00         3\n",
      "         314       0.00      0.00      0.00         0\n",
      "         315       0.00      0.00      0.00         3\n",
      "         316       0.67      1.00      0.80         2\n",
      "         317       0.00      0.00      0.00         1\n",
      "         318       1.00      1.00      1.00         2\n",
      "         319       1.00      1.00      1.00         1\n",
      "         321       0.00      0.00      0.00         2\n",
      "         324       1.00      1.00      1.00         1\n",
      "         325       0.00      0.00      0.00         0\n",
      "         328       0.00      0.00      0.00         0\n",
      "         329       0.00      0.00      0.00         1\n",
      "         330       1.00      1.00      1.00         2\n",
      "         331       0.20      1.00      0.33         1\n",
      "         332       1.00      1.00      1.00         1\n",
      "         333       0.00      0.00      0.00         1\n",
      "         334       1.00      1.00      1.00         1\n",
      "         335       0.00      0.00      0.00         0\n",
      "         336       1.00      1.00      1.00         4\n",
      "         337       1.00      0.50      0.67         2\n",
      "         338       1.00      1.00      1.00         2\n",
      "         339       1.00      1.00      1.00         1\n",
      "         340       1.00      0.71      0.83         7\n",
      "         341       1.00      0.75      0.86         4\n",
      "         342       1.00      1.00      1.00         1\n",
      "         343       1.00      0.50      0.67         2\n",
      "         344       1.00      1.00      1.00         4\n",
      "         345       0.00      0.00      0.00         0\n",
      "         347       0.00      0.00      0.00         2\n",
      "         348       1.00      1.00      1.00         2\n",
      "         350       1.00      1.00      1.00         1\n",
      "         351       0.33      1.00      0.50         1\n",
      "         354       1.00      0.80      0.89         5\n",
      "         355       1.00      0.50      0.67         2\n",
      "         356       1.00      1.00      1.00         3\n",
      "         357       1.00      1.00      1.00         4\n",
      "         358       0.00      0.00      0.00         1\n",
      "         360       0.00      0.00      0.00         0\n",
      "         361       0.00      0.00      0.00         0\n",
      "         362       0.33      1.00      0.50         2\n",
      "         363       0.00      0.00      0.00         4\n",
      "         364       0.50      0.50      0.50         2\n",
      "         365       0.75      0.75      0.75         4\n",
      "         369       0.00      0.00      0.00         2\n",
      "         370       1.00      0.50      0.67         2\n",
      "         372       0.50      1.00      0.67         1\n",
      "         373       0.00      0.00      0.00         1\n",
      "         374       0.00      0.00      0.00         0\n",
      "         375       1.00      1.00      1.00         4\n",
      "         377       1.00      1.00      1.00         4\n",
      "         378       0.00      0.00      0.00         1\n",
      "         379       1.00      0.67      0.80         3\n",
      "         380       1.00      1.00      1.00         1\n",
      "         381       0.67      1.00      0.80         2\n",
      "         382       0.67      1.00      0.80         2\n",
      "         383       1.00      1.00      1.00         1\n",
      "         384       1.00      1.00      1.00         1\n",
      "         385       0.50      1.00      0.67         1\n",
      "         387       1.00      1.00      1.00         3\n",
      "         389       0.00      0.00      0.00         3\n",
      "         390       0.50      1.00      0.67         1\n",
      "         391       1.00      1.00      1.00         1\n",
      "         392       0.25      0.50      0.33         2\n",
      "         394       1.00      1.00      1.00         1\n",
      "         395       1.00      1.00      1.00         2\n",
      "         397       0.00      0.00      0.00         1\n",
      "         398       1.00      1.00      1.00         1\n",
      "         399       0.50      1.00      0.67         1\n",
      "         400       1.00      1.00      1.00         1\n",
      "         401       0.00      0.00      0.00         1\n",
      "         404       1.00      1.00      1.00         3\n",
      "         406       0.50      0.50      0.50         2\n",
      "         407       0.80      1.00      0.89         4\n",
      "         408       0.67      1.00      0.80         2\n",
      "         409       0.67      1.00      0.80         2\n",
      "         410       0.00      0.00      0.00         2\n",
      "         411       1.00      1.00      1.00         1\n",
      "         412       0.00      0.00      0.00         0\n",
      "         413       1.00      1.00      1.00         1\n",
      "         414       1.00      1.00      1.00         1\n",
      "         415       0.00      0.00      0.00         1\n",
      "         416       1.00      0.71      0.83         7\n",
      "         417       1.00      1.00      1.00         3\n",
      "         419       1.00      1.00      1.00         1\n",
      "         420       1.00      1.00      1.00         1\n",
      "         421       1.00      1.00      1.00         3\n",
      "         422       1.00      1.00      1.00         1\n",
      "         424       1.00      0.67      0.80         3\n",
      "         425       0.50      1.00      0.67         1\n",
      "         426       1.00      1.00      1.00         1\n",
      "         427       0.00      0.00      0.00         0\n",
      "         428       0.00      0.00      0.00         1\n",
      "         429       1.00      1.00      1.00         1\n",
      "         430       0.50      0.50      0.50         2\n",
      "         431       0.67      1.00      0.80         2\n",
      "         432       1.00      1.00      1.00         1\n",
      "         433       0.00      0.00      0.00         1\n",
      "         435       0.50      1.00      0.67         1\n",
      "         436       1.00      1.00      1.00         1\n",
      "         437       1.00      1.00      1.00         2\n",
      "         438       1.00      1.00      1.00         1\n",
      "         439       1.00      1.00      1.00         1\n",
      "         440       1.00      1.00      1.00         1\n",
      "         441       0.00      0.00      0.00         1\n",
      "         442       0.50      1.00      0.67         1\n",
      "         444       1.00      1.00      1.00         2\n",
      "         445       1.00      1.00      1.00         1\n",
      "         446       1.00      1.00      1.00         6\n",
      "         447       1.00      1.00      1.00         1\n",
      "         448       1.00      0.80      0.89         5\n",
      "         449       1.00      1.00      1.00         1\n",
      "         450       0.50      1.00      0.67         1\n",
      "         451       0.00      0.00      0.00         1\n",
      "         452       1.00      0.50      0.67         2\n",
      "         453       0.50      1.00      0.67         1\n",
      "         454       1.00      1.00      1.00         3\n",
      "         458       1.00      1.00      1.00         1\n",
      "         459       0.00      0.00      0.00         1\n",
      "         460       0.00      0.00      0.00         3\n",
      "         462       0.25      1.00      0.40         1\n",
      "         463       1.00      1.00      1.00         1\n",
      "         464       1.00      1.00      1.00         2\n",
      "         465       0.00      0.00      0.00         0\n",
      "         466       1.00      0.50      0.67         2\n",
      "         468       1.00      0.67      0.80         3\n",
      "         469       1.00      1.00      1.00         1\n",
      "         470       0.00      0.00      0.00         0\n",
      "         471       0.00      0.00      0.00         1\n",
      "         472       0.71      0.62      0.67         8\n",
      "         473       1.00      1.00      1.00         6\n",
      "         474       0.50      0.50      0.50         2\n",
      "         476       1.00      1.00      1.00         1\n",
      "         480       0.00      0.00      0.00         1\n",
      "         481       0.00      0.00      0.00         1\n",
      "         482       0.00      0.00      0.00         2\n",
      "         483       0.50      1.00      0.67         1\n",
      "         484       0.00      0.00      0.00         0\n",
      "         486       1.00      0.50      0.67         2\n",
      "         487       0.00      0.00      0.00         1\n",
      "         488       0.50      1.00      0.67         1\n",
      "         489       1.00      1.00      1.00         1\n",
      "         490       0.00      0.00      0.00         1\n",
      "         491       1.00      1.00      1.00         2\n",
      "         492       0.83      1.00      0.91         5\n",
      "         493       1.00      0.50      0.67         2\n",
      "         494       1.00      1.00      1.00         1\n",
      "         495       1.00      1.00      1.00         1\n",
      "         496       0.75      1.00      0.86         3\n",
      "         497       1.00      1.00      1.00         2\n",
      "         498       1.00      1.00      1.00         3\n",
      "         499       0.00      0.00      0.00         1\n",
      "         501       0.00      0.00      0.00         2\n",
      "         502       1.00      0.50      0.67         2\n",
      "         503       1.00      1.00      1.00         2\n",
      "         504       1.00      1.00      1.00         2\n",
      "         505       0.00      0.00      0.00         1\n",
      "         507       0.50      0.33      0.40         3\n",
      "         509       0.00      0.00      0.00         0\n",
      "         510       0.00      0.00      0.00         1\n",
      "         511       1.00      1.00      1.00         5\n",
      "         512       0.00      0.00      0.00         3\n",
      "         513       1.00      1.00      1.00         1\n",
      "         514       0.00      0.00      0.00         1\n",
      "         515       0.00      0.00      0.00         3\n",
      "         516       1.00      1.00      1.00         2\n",
      "         517       0.33      0.50      0.40         2\n",
      "         519       0.00      0.00      0.00         0\n",
      "         520       1.00      1.00      1.00         1\n",
      "         521       0.00      0.00      0.00         0\n",
      "         522       1.00      0.50      0.67         2\n",
      "         523       0.00      0.00      0.00         2\n",
      "         524       0.50      1.00      0.67         1\n",
      "         527       0.50      1.00      0.67         2\n",
      "         528       0.67      0.67      0.67         3\n",
      "         529       0.67      0.50      0.57         4\n",
      "         530       1.00      0.50      0.67         2\n",
      "         531       0.00      0.00      0.00         1\n",
      "         532       0.50      1.00      0.67         1\n",
      "         533       0.67      1.00      0.80         2\n",
      "         534       1.00      0.56      0.71         9\n",
      "         535       1.00      1.00      1.00         1\n",
      "         536       0.67      1.00      0.80         2\n",
      "         537       0.00      0.00      0.00         2\n",
      "         538       0.67      1.00      0.80         2\n",
      "         539       1.00      1.00      1.00         1\n",
      "         541       0.00      0.00      0.00         0\n",
      "         543       0.50      0.50      0.50         2\n",
      "         544       0.67      1.00      0.80         2\n",
      "         545       1.00      1.00      1.00         1\n",
      "         546       1.00      0.67      0.80         3\n",
      "         547       1.00      0.67      0.80         3\n",
      "         548       0.50      1.00      0.67         1\n",
      "         549       1.00      0.50      0.67         2\n",
      "         550       1.00      0.67      0.80         3\n",
      "         551       0.50      1.00      0.67         3\n",
      "         552       0.14      0.33      0.20         3\n",
      "         553       0.50      0.25      0.33         4\n",
      "         554       0.33      0.50      0.40         2\n",
      "         555       1.00      0.50      0.67         6\n",
      "         556       1.00      1.00      1.00         1\n",
      "         557       1.00      0.67      0.80         3\n",
      "         558       0.33      1.00      0.50         3\n",
      "         559       0.50      0.50      0.50         4\n",
      "         560       0.00      0.00      0.00         1\n",
      "         561       0.67      1.00      0.80         2\n",
      "         562       1.00      1.00      1.00         1\n",
      "         563       0.00      0.00      0.00         0\n",
      "         565       0.00      0.00      0.00         3\n",
      "         567       0.60      1.00      0.75         3\n",
      "         568       0.00      0.00      0.00         2\n",
      "         569       0.33      0.50      0.40         2\n",
      "         570       0.33      1.00      0.50         1\n",
      "         571       0.50      0.33      0.40         3\n",
      "         572       0.00      0.00      0.00         2\n",
      "         573       1.00      1.00      1.00         2\n",
      "         574       0.80      1.00      0.89         4\n",
      "         576       0.50      0.50      0.50         2\n",
      "         577       0.00      0.00      0.00         4\n",
      "         579       0.20      0.50      0.29         2\n",
      "         580       1.00      0.67      0.80         6\n",
      "         581       1.00      1.00      1.00         1\n",
      "         582       0.00      0.00      0.00         1\n",
      "         583       1.00      1.00      1.00         2\n",
      "         584       1.00      1.00      1.00         3\n",
      "         585       0.00      0.00      0.00         3\n",
      "         586       0.67      1.00      0.80         2\n",
      "         587       0.25      1.00      0.40         1\n",
      "         588       0.00      0.00      0.00         1\n",
      "         589       0.00      0.00      0.00         2\n",
      "         590       0.50      1.00      0.67         2\n",
      "         592       1.00      0.50      0.67         4\n",
      "         593       0.00      0.00      0.00         1\n",
      "         594       0.50      1.00      0.67         1\n",
      "         596       0.67      0.40      0.50         5\n",
      "         598       0.67      0.67      0.67         3\n",
      "         599       0.67      1.00      0.80         2\n",
      "         600       1.00      1.00      1.00         4\n",
      "         601       0.50      0.33      0.40         3\n",
      "         602       0.00      0.00      0.00         0\n",
      "         603       0.00      0.00      0.00         0\n",
      "         604       1.00      0.67      0.80         3\n",
      "         605       0.00      0.00      0.00         4\n",
      "         606       0.67      1.00      0.80         2\n",
      "         607       0.67      0.67      0.67         3\n",
      "         608       1.00      1.00      1.00         1\n",
      "         609       0.50      1.00      0.67         1\n",
      "         610       0.25      1.00      0.40         1\n",
      "         611       0.00      0.00      0.00         2\n",
      "         612       1.00      1.00      1.00         2\n",
      "         613       0.50      0.50      0.50         2\n",
      "         615       1.00      0.75      0.86         4\n",
      "         617       1.00      1.00      1.00         1\n",
      "         618       1.00      1.00      1.00         2\n",
      "         619       1.00      0.50      0.67         2\n",
      "         620       1.00      1.00      1.00         1\n",
      "         621       1.00      1.00      1.00         1\n",
      "         623       0.50      1.00      0.67         1\n",
      "         624       0.67      1.00      0.80         2\n",
      "         626       0.00      0.00      0.00         1\n",
      "         627       0.00      0.00      0.00         0\n",
      "         628       0.00      0.00      0.00         1\n",
      "         629       1.00      1.00      1.00         1\n",
      "         630       0.00      0.00      0.00         0\n",
      "         631       0.50      1.00      0.67         1\n",
      "         632       0.00      0.00      0.00         1\n",
      "         633       1.00      1.00      1.00         2\n",
      "         634       1.00      0.67      0.80         3\n",
      "         636       1.00      1.00      1.00         1\n",
      "         637       0.67      1.00      0.80         2\n",
      "         638       0.00      0.00      0.00         1\n",
      "         640       1.00      0.67      0.80         3\n",
      "         641       0.50      1.00      0.67         1\n",
      "         642       0.00      0.00      0.00         0\n",
      "         643       0.40      1.00      0.57         2\n",
      "         644       1.00      1.00      1.00         2\n",
      "         645       0.00      0.00      0.00         2\n",
      "         646       1.00      1.00      1.00         1\n",
      "         647       0.00      0.00      0.00         1\n",
      "         648       0.33      1.00      0.50         1\n",
      "         649       0.78      1.00      0.88         7\n",
      "         650       1.00      1.00      1.00         3\n",
      "         651       1.00      0.50      0.67         4\n",
      "         652       0.67      0.67      0.67         3\n",
      "         653       0.33      1.00      0.50         1\n",
      "         654       0.00      0.00      0.00         2\n",
      "         655       0.25      0.33      0.29         3\n",
      "         656       0.00      0.00      0.00         2\n",
      "         657       0.00      0.00      0.00         0\n",
      "         658       0.00      0.00      0.00         0\n",
      "         659       0.00      0.00      0.00         1\n",
      "         661       1.00      1.00      1.00         3\n",
      "         662       1.00      0.33      0.50         3\n",
      "         663       1.00      1.00      1.00         2\n",
      "         664       1.00      0.33      0.50         3\n",
      "         665       0.00      0.00      0.00         0\n",
      "         667       1.00      0.67      0.80         3\n",
      "         668       0.00      0.00      0.00         1\n",
      "         669       0.50      0.50      0.50         2\n",
      "         670       1.00      1.00      1.00         2\n",
      "         671       1.00      1.00      1.00         2\n",
      "         672       0.00      0.00      0.00         3\n",
      "         673       0.20      1.00      0.33         1\n",
      "         675       0.00      0.00      0.00         3\n",
      "         676       0.50      1.00      0.67         2\n",
      "         677       0.00      0.00      0.00         0\n",
      "         678       1.00      0.50      0.67         2\n",
      "         679       1.00      1.00      1.00         3\n",
      "         680       0.00      0.00      0.00         2\n",
      "         681       0.00      0.00      0.00         2\n",
      "         682       0.00      0.00      0.00         0\n",
      "         684       1.00      0.80      0.89         5\n",
      "         685       1.00      1.00      1.00         1\n",
      "         686       1.00      1.00      1.00         1\n",
      "         688       1.00      1.00      1.00         4\n",
      "         689       0.25      1.00      0.40         1\n",
      "         690       1.00      0.50      0.67         2\n",
      "         691       1.00      0.33      0.50         3\n",
      "         692       0.00      0.00      0.00         1\n",
      "         693       0.67      1.00      0.80         2\n",
      "         694       1.00      1.00      1.00         2\n",
      "         695       1.00      1.00      1.00         2\n",
      "         696       0.00      0.00      0.00         0\n",
      "         704       1.00      1.00      1.00         1\n",
      "         705       1.00      1.00      1.00         1\n",
      "         706       1.00      1.00      1.00         3\n",
      "         707       0.50      1.00      0.67         1\n",
      "         708       1.00      0.50      0.67         2\n",
      "         710       1.00      0.25      0.40         4\n",
      "         711       1.00      0.67      0.80         3\n",
      "         712       0.33      0.33      0.33         3\n",
      "         713       0.33      1.00      0.50         1\n",
      "         715       0.00      0.00      0.00         0\n",
      "         716       0.50      1.00      0.67         2\n",
      "         717       1.00      0.71      0.83         7\n",
      "         718       1.00      0.75      0.86         4\n",
      "         719       1.00      0.75      0.86         4\n",
      "         720       0.75      0.60      0.67         5\n",
      "         721       0.75      1.00      0.86         3\n",
      "         722       1.00      1.00      1.00         2\n",
      "         724       0.00      0.00      0.00         0\n",
      "         725       0.00      0.00      0.00         3\n",
      "         726       1.00      0.50      0.67         2\n",
      "         727       1.00      1.00      1.00         1\n",
      "         728       0.50      0.50      0.50         4\n",
      "         729       0.50      1.00      0.67         1\n",
      "         730       0.00      0.00      0.00         1\n",
      "         731       1.00      0.50      0.67         4\n",
      "         732       0.50      1.00      0.67         1\n",
      "         733       0.67      0.67      0.67         3\n",
      "         734       0.00      0.00      0.00         1\n",
      "         737       1.00      1.00      1.00         1\n",
      "         739       0.67      1.00      0.80         2\n",
      "         740       0.00      0.00      0.00         1\n",
      "         741       1.00      1.00      1.00         1\n",
      "         742       0.75      0.75      0.75         4\n",
      "         744       1.00      1.00      1.00         2\n",
      "         745       1.00      0.50      0.67         2\n",
      "         746       0.50      1.00      0.67         1\n",
      "         747       1.00      1.00      1.00         1\n",
      "         749       1.00      1.00      1.00         2\n",
      "         750       1.00      1.00      1.00         3\n",
      "         751       1.00      1.00      1.00         2\n",
      "         752       1.00      0.67      0.80         3\n",
      "         753       1.00      1.00      1.00         2\n",
      "         754       0.67      1.00      0.80         2\n",
      "         755       0.00      0.00      0.00         2\n",
      "         756       1.00      0.50      0.67         2\n",
      "         757       1.00      1.00      1.00         1\n",
      "         759       0.67      1.00      0.80         2\n",
      "         760       0.00      0.00      0.00         1\n",
      "         761       1.00      1.00      1.00         2\n",
      "         762       0.00      0.00      0.00         1\n",
      "         763       1.00      1.00      1.00         3\n",
      "         765       1.00      1.00      1.00         1\n",
      "         766       0.00      0.00      0.00         0\n",
      "         767       1.00      0.67      0.80         3\n",
      "         768       0.33      1.00      0.50         1\n",
      "         769       0.00      0.00      0.00         2\n",
      "         770       1.00      1.00      1.00         1\n",
      "         772       0.00      0.00      0.00         1\n",
      "         773       0.67      1.00      0.80         2\n",
      "         774       0.50      1.00      0.67         1\n",
      "         775       0.00      0.00      0.00         0\n",
      "         776       1.00      0.50      0.67         2\n",
      "         777       0.50      1.00      0.67         1\n",
      "         778       0.00      0.00      0.00         1\n",
      "         779       0.00      0.00      0.00         1\n",
      "         780       0.33      0.50      0.40         2\n",
      "         781       0.00      0.00      0.00         2\n",
      "         782       1.00      1.00      1.00         1\n",
      "         783       1.00      1.00      1.00         1\n",
      "         787       1.00      1.00      1.00         1\n",
      "         788       0.50      1.00      0.67         1\n",
      "         789       1.00      1.00      1.00         2\n",
      "         790       1.00      1.00      1.00         1\n",
      "         791       1.00      0.33      0.50         3\n",
      "         792       0.00      0.00      0.00         0\n",
      "         793       0.50      1.00      0.67         1\n",
      "         796       1.00      1.00      1.00         1\n",
      "         797       1.00      1.00      1.00         1\n",
      "         799       1.00      1.00      1.00         2\n",
      "         800       0.00      0.00      0.00         1\n",
      "         801       0.50      1.00      0.67         1\n",
      "         802       0.00      0.00      0.00         1\n",
      "         803       0.50      1.00      0.67         1\n",
      "         805       0.50      0.67      0.57         3\n",
      "         806       1.00      1.00      1.00         2\n",
      "         807       0.50      1.00      0.67         1\n",
      "         808       1.00      0.67      0.80         3\n",
      "         809       1.00      0.67      0.80         3\n",
      "         811       1.00      1.00      1.00         1\n",
      "         812       1.00      1.00      1.00         1\n",
      "         813       0.00      0.00      0.00         0\n",
      "         814       0.00      0.00      0.00         1\n",
      "         815       1.00      0.50      0.67         2\n",
      "         816       1.00      1.00      1.00         1\n",
      "         817       1.00      1.00      1.00         1\n",
      "         818       0.50      1.00      0.67         1\n",
      "         819       0.00      0.00      0.00         1\n",
      "         820       0.00      0.00      0.00         1\n",
      "         821       0.00      0.00      0.00         0\n",
      "         824       0.00      0.00      0.00         1\n",
      "         826       0.50      1.00      0.67         1\n",
      "         827       0.00      0.00      0.00         1\n",
      "         829       0.00      0.00      0.00         0\n",
      "         830       0.00      0.00      0.00         0\n",
      "         831       0.00      0.00      0.00         1\n",
      "         832       1.00      1.00      1.00         1\n",
      "         833       1.00      0.50      0.67         2\n",
      "         836       0.00      0.00      0.00         1\n",
      "         837       0.00      0.00      0.00         2\n",
      "         838       0.00      0.00      0.00         0\n",
      "         839       0.00      0.00      0.00         0\n",
      "         841       1.00      0.50      0.67         2\n",
      "         842       0.00      0.00      0.00         0\n",
      "         843       1.00      1.00      1.00         1\n",
      "         845       0.00      0.00      0.00         2\n",
      "         846       0.00      0.00      0.00         1\n",
      "         847       0.00      0.00      0.00         1\n",
      "         848       0.00      0.00      0.00         1\n",
      "         849       0.50      1.00      0.67         1\n",
      "         851       1.00      1.00      1.00         1\n",
      "         853       1.00      1.00      1.00         1\n",
      "         854       0.50      1.00      0.67         1\n",
      "         856       0.00      0.00      0.00         0\n",
      "         857       0.00      0.00      0.00         0\n",
      "         858       1.00      0.33      0.50         3\n",
      "         859       0.00      0.00      0.00         2\n",
      "         860       1.00      0.50      0.67         2\n",
      "         863       0.00      0.00      0.00         2\n",
      "         864       1.00      1.00      1.00         1\n",
      "         869       0.00      0.00      0.00         1\n",
      "         870       1.00      1.00      1.00         1\n",
      "         871       1.00      1.00      1.00         2\n",
      "         872       1.00      1.00      1.00         2\n",
      "         874       0.00      0.00      0.00         0\n",
      "         876       1.00      1.00      1.00         1\n",
      "         877       1.00      1.00      1.00         1\n",
      "         878       1.00      1.00      1.00         1\n",
      "         879       0.00      0.00      0.00         1\n",
      "         880       0.00      0.00      0.00         0\n",
      "\n",
      "    accuracy                           0.63      1207\n",
      "   macro avg       0.54      0.57      0.53      1207\n",
      "weighted avg       0.66      0.63      0.62      1207\n",
      "\n",
      "[[0 0 0 ... 0 0 0]\n",
      " [0 1 0 ... 0 0 0]\n",
      " [0 0 0 ... 0 0 0]\n",
      " ...\n",
      " [0 0 0 ... 1 0 0]\n",
      " [0 0 0 ... 0 0 1]\n",
      " [0 0 0 ... 0 0 0]]\n"
     ]
    },
    {
     "name": "stderr",
     "output_type": "stream",
     "text": [
      "C:\\Users\\bmattis\\.conda\\envs\\dataScience\\lib\\site-packages\\sklearn\\metrics\\_classification.py:1221: UndefinedMetricWarning: Precision and F-score are ill-defined and being set to 0.0 in labels with no predicted samples. Use `zero_division` parameter to control this behavior.\n",
      "  _warn_prf(average, modifier, msg_start, len(result))\n",
      "C:\\Users\\bmattis\\.conda\\envs\\dataScience\\lib\\site-packages\\sklearn\\metrics\\_classification.py:1221: UndefinedMetricWarning: Recall and F-score are ill-defined and being set to 0.0 in labels with no true samples. Use `zero_division` parameter to control this behavior.\n",
      "  _warn_prf(average, modifier, msg_start, len(result))\n"
     ]
    }
   ],
   "source": [
    "bestAlg = SVC(kernel='linear')\n",
    "bestFESPred = bestAlg.fit(X_trainFES, y_trainFES).predict(X_testFES)\n",
    "print(classification_report(y_testFES, bestFESPred))\n",
    "print(confusion_matrix(y_testFES, bestFESPred))"
   ]
  },
  {
   "cell_type": "code",
   "execution_count": 84,
   "metadata": {
    "ExecuteTime": {
     "end_time": "2021-07-13T04:27:44.246173Z",
     "start_time": "2021-07-13T04:27:44.228208Z"
    }
   },
   "outputs": [
    {
     "name": "stdout",
     "output_type": "stream",
     "text": [
      "Accuracy: 0.632145816072908\n",
      "Precision: 0.632145816072908\n",
      "Recall: 0.632145816072908\n"
     ]
    }
   ],
   "source": [
    "print(\"Accuracy:\",metrics.accuracy_score(y_testFES, bestFESPred))\n",
    "print(\"Precision:\",metrics.precision_score(y_testFES, bestFESPred, average='micro'))\n",
    "print(\"Recall:\",metrics.recall_score(y_testFES, bestFESPred, average='micro'))"
   ]
  },
  {
   "cell_type": "code",
   "execution_count": 91,
   "metadata": {
    "ExecuteTime": {
     "end_time": "2021-07-13T07:22:27.774324Z",
     "start_time": "2021-07-13T05:05:00.553642Z"
    }
   },
   "outputs": [
    {
     "data": {
      "text/plain": [
       "<sklearn.metrics._plot.confusion_matrix.ConfusionMatrixDisplay at 0x29290a3e850>"
      ]
     },
     "execution_count": 91,
     "metadata": {},
     "output_type": "execute_result"
    },
    {
     "data": {
      "image/png": "[encoded data removed]",
      "text/plain": [
       "<Figure size 432x288 with 2 Axes>"
      ]
     },
     "metadata": {
      "needs_background": "light"
     },
     "output_type": "display_data"
    }
   ],
   "source": [
    "cm = confusion_matrix(y_testFES, bestFESPred, labels=bestAlg.classes_)\n",
    "disp = ConfusionMatrixDisplay(confusion_matrix=cm, display_labels=bestAlg.classes_)\n",
    "#.get_figure().savefig('WAP_hist.png')\n",
    "disp.plot() "
   ]
  },
  {
   "cell_type": "code",
   "execution_count": 93,
   "metadata": {
    "ExecuteTime": {
     "end_time": "2021-07-13T13:28:06.882330Z",
     "start_time": "2021-07-13T13:28:06.809011Z"
    }
   },
   "outputs": [],
   "source": [
    "#alternate method of plotting a confusion matrix\n",
    "#plot_confusion_matrix(bestAlg, X_testFES, y_testFES)  \n",
    "#plt.savefig('ConfusionMatrix2.png')\n",
    "#plt.show() "
   ]
  },
  {
   "cell_type": "markdown",
   "metadata": {},
   "source": [
    "Too many classes exist for a confusion matrix to be useful"
   ]
  },
  {
   "cell_type": "markdown",
   "metadata": {
    "ExecuteTime": {
     "end_time": "2021-07-15T01:40:25.295140Z",
     "start_time": "2021-07-15T01:40:25.006364Z"
    }
   },
   "source": [
    "### If time allows, consider attempting to model with full FE data set"
   ]
  },
  {
   "cell_type": "markdown",
   "metadata": {},
   "source": [
    "High number of classes means we're not giving it many examples of each class to train with.  More could\n",
    "potentially improve accuracy"
   ]
  },
  {
   "cell_type": "code",
   "execution_count": 31,
   "metadata": {
    "ExecuteTime": {
     "end_time": "2021-07-15T15:48:48.421468Z",
     "start_time": "2021-07-15T15:48:48.284833Z"
    }
   },
   "outputs": [
    {
     "name": "stdout",
     "output_type": "stream",
     "text": [
      "(14475, 523)\n",
      "(14475,)\n",
      "(4825, 523)\n",
      "(4825,)\n"
     ]
    }
   ],
   "source": [
    "dfFEX = dfFE.iloc[:,:-1] \n",
    "dfFEY=labelencoder.fit_transform(dfFE['Location'])\n",
    "X_trainFE, X_testFE, y_trainFE, y_testFE = train_test_split(dfFEX, dfFEY)   \n",
    "print( X_trainFE.shape )\n",
    "print( y_trainFE.shape )\n",
    "print( X_testFE.shape )\n",
    "print( y_testFE.shape )"
   ]
  },
  {
   "cell_type": "code",
   "execution_count": 32,
   "metadata": {
    "ExecuteTime": {
     "end_time": "2021-07-15T15:53:38.435484Z",
     "start_time": "2021-07-15T15:48:59.580674Z"
    }
   },
   "outputs": [
    {
     "name": "stdout",
     "output_type": "stream",
     "text": [
      "              precision    recall  f1-score   support\n",
      "\n",
      "           0       0.80      0.80      0.80         5\n",
      "           1       1.00      1.00      1.00         3\n",
      "           2       1.00      1.00      1.00         2\n",
      "           3       1.00      1.00      1.00         1\n",
      "           4       0.12      0.25      0.17         4\n",
      "           5       0.57      0.57      0.57         7\n",
      "           6       0.67      0.67      0.67         6\n",
      "           7       0.88      0.88      0.88         8\n",
      "           8       1.00      1.00      1.00         2\n",
      "           9       1.00      0.83      0.91         6\n",
      "          10       0.29      0.67      0.40         3\n",
      "          11       0.40      0.40      0.40         5\n",
      "          12       1.00      0.50      0.67         8\n",
      "          13       0.91      0.91      0.91        11\n",
      "          14       1.00      0.67      0.80         6\n",
      "          15       0.60      0.60      0.60         5\n",
      "          16       0.67      0.57      0.62         7\n",
      "          17       1.00      0.86      0.92         7\n",
      "          18       1.00      0.80      0.89         5\n",
      "          19       1.00      1.00      1.00         6\n",
      "          20       0.78      1.00      0.88         7\n",
      "          21       0.60      1.00      0.75         3\n",
      "          22       0.83      0.83      0.83         6\n",
      "          23       1.00      0.50      0.67         2\n",
      "          24       0.75      0.60      0.67         5\n",
      "          25       0.86      0.86      0.86         7\n",
      "          26       0.83      0.83      0.83         6\n",
      "          27       1.00      0.70      0.82        10\n",
      "          28       0.67      1.00      0.80         6\n",
      "          29       1.00      1.00      1.00         4\n",
      "          30       1.00      1.00      1.00         3\n",
      "          31       0.67      1.00      0.80         4\n",
      "          32       1.00      0.83      0.91         6\n",
      "          33       1.00      0.71      0.83         7\n",
      "          34       0.88      1.00      0.93         7\n",
      "          35       0.50      0.67      0.57         3\n",
      "          36       0.83      0.71      0.77         7\n",
      "          37       0.80      1.00      0.89         4\n",
      "          38       0.86      1.00      0.92         6\n",
      "          39       1.00      0.83      0.91         6\n",
      "          40       0.50      1.00      0.67         3\n",
      "          41       0.86      1.00      0.92         6\n",
      "          42       1.00      1.00      1.00         7\n",
      "          43       1.00      1.00      1.00         2\n",
      "          44       1.00      1.00      1.00         6\n",
      "          45       1.00      0.88      0.93         8\n",
      "          46       1.00      1.00      1.00         2\n",
      "          47       1.00      1.00      1.00         5\n",
      "          48       0.75      1.00      0.86         3\n",
      "          49       0.67      0.40      0.50         5\n",
      "          50       0.75      0.75      0.75         4\n",
      "          51       1.00      0.75      0.86         8\n",
      "          52       1.00      1.00      1.00         6\n",
      "          53       0.86      0.75      0.80         8\n",
      "          54       0.75      0.86      0.80         7\n",
      "          55       0.60      1.00      0.75         3\n",
      "          56       0.83      0.62      0.71         8\n",
      "          57       0.82      0.82      0.82        11\n",
      "          58       1.00      0.71      0.83         7\n",
      "          59       0.56      1.00      0.71         5\n",
      "          60       0.78      0.64      0.70        11\n",
      "          61       0.77      1.00      0.87        10\n",
      "          62       1.00      0.56      0.71         9\n",
      "          63       0.50      1.00      0.67         4\n",
      "          64       1.00      0.50      0.67         8\n",
      "          65       0.33      0.75      0.46         4\n",
      "          66       0.67      0.29      0.40         7\n",
      "          67       0.40      0.50      0.44         4\n",
      "          68       0.75      1.00      0.86         3\n",
      "          69       0.67      1.00      0.80         2\n",
      "          70       1.00      0.86      0.92         7\n",
      "          71       1.00      1.00      1.00         3\n",
      "          72       0.75      0.75      0.75         4\n",
      "          73       0.80      0.80      0.80         5\n",
      "          74       1.00      0.45      0.62        11\n",
      "          75       0.50      0.67      0.57         3\n",
      "          76       0.50      1.00      0.67         4\n",
      "          77       0.67      0.50      0.57         8\n",
      "          78       0.40      1.00      0.57         4\n",
      "          79       0.80      0.57      0.67         7\n",
      "          80       0.50      0.33      0.40         3\n",
      "          81       1.00      1.00      1.00         4\n",
      "          82       1.00      1.00      1.00         1\n",
      "          83       1.00      1.00      1.00         4\n",
      "          84       1.00      1.00      1.00         4\n",
      "          85       1.00      0.67      0.80         3\n",
      "          86       1.00      0.75      0.86         4\n",
      "          87       0.33      0.67      0.44         3\n",
      "          88       1.00      0.75      0.86         8\n",
      "          89       1.00      0.50      0.67         4\n",
      "          90       0.80      1.00      0.89         4\n",
      "          91       1.00      1.00      1.00         2\n",
      "          92       1.00      1.00      1.00         4\n",
      "          93       1.00      1.00      1.00         5\n",
      "          94       1.00      1.00      1.00         6\n",
      "          95       1.00      1.00      1.00         3\n",
      "          96       1.00      1.00      1.00         3\n",
      "          97       1.00      1.00      1.00         1\n",
      "          98       1.00      1.00      1.00         5\n",
      "          99       1.00      1.00      1.00         2\n",
      "         100       0.71      1.00      0.83         5\n",
      "         101       1.00      0.80      0.89         5\n",
      "         102       1.00      1.00      1.00         3\n",
      "         103       0.67      0.40      0.50         5\n",
      "         104       0.75      1.00      0.86         6\n",
      "         105       1.00      1.00      1.00         8\n",
      "         106       0.78      0.78      0.78         9\n",
      "         107       0.75      0.75      0.75         4\n",
      "         108       1.00      0.33      0.50         3\n",
      "         109       0.71      0.83      0.77         6\n",
      "         110       0.75      0.60      0.67         5\n",
      "         111       0.50      1.00      0.67         1\n",
      "         112       1.00      1.00      1.00         4\n",
      "         113       0.83      0.83      0.83         6\n",
      "         114       0.75      1.00      0.86         3\n",
      "         115       1.00      0.83      0.91         6\n",
      "         116       0.67      1.00      0.80         2\n",
      "         117       1.00      1.00      1.00         4\n",
      "         118       1.00      1.00      1.00         3\n",
      "         119       0.67      0.50      0.57         4\n",
      "         120       0.86      0.86      0.86         7\n",
      "         121       0.60      1.00      0.75         3\n",
      "         122       0.83      0.83      0.83         6\n",
      "         123       0.80      1.00      0.89         4\n",
      "         124       0.50      0.50      0.50         2\n",
      "         125       0.53      0.80      0.64        10\n",
      "         126       0.75      0.30      0.43        10\n",
      "         127       1.00      0.80      0.89         5\n",
      "         128       1.00      1.00      1.00         5\n",
      "         129       1.00      0.80      0.89         5\n",
      "         130       0.33      1.00      0.50         1\n",
      "         131       0.75      0.75      0.75         4\n",
      "         132       1.00      0.67      0.80         3\n",
      "         133       1.00      0.80      0.89         5\n",
      "         134       0.67      1.00      0.80         4\n",
      "         135       0.67      1.00      0.80         4\n",
      "         136       0.83      0.83      0.83         6\n",
      "         137       0.67      0.67      0.67         3\n",
      "         138       1.00      1.00      1.00         5\n",
      "         139       1.00      1.00      1.00         5\n",
      "         140       0.67      0.80      0.73         5\n",
      "         141       1.00      0.67      0.80         6\n",
      "         142       0.73      1.00      0.84         8\n",
      "         143       1.00      0.88      0.93         8\n",
      "         144       0.33      1.00      0.50         2\n",
      "         145       1.00      0.25      0.40         8\n",
      "         146       0.75      1.00      0.86         3\n",
      "         147       1.00      0.75      0.86         4\n",
      "         148       1.00      1.00      1.00         4\n",
      "         149       1.00      1.00      1.00         2\n",
      "         150       0.67      0.67      0.67         3\n",
      "         151       1.00      0.80      0.89        10\n",
      "         152       0.75      1.00      0.86         6\n",
      "         153       1.00      1.00      1.00         1\n",
      "         154       1.00      1.00      1.00         7\n",
      "         155       0.75      0.60      0.67         5\n",
      "         156       1.00      0.57      0.73         7\n",
      "         157       0.57      1.00      0.73         4\n",
      "         158       0.71      0.83      0.77         6\n",
      "         159       0.67      0.67      0.67         3\n",
      "         160       0.60      0.60      0.60         5\n",
      "         161       0.57      0.67      0.62         6\n",
      "         162       0.80      0.80      0.80         5\n",
      "         163       0.50      0.67      0.57         3\n",
      "         164       0.83      0.83      0.83         6\n",
      "         165       0.86      1.00      0.92         6\n",
      "         166       0.67      0.67      0.67         3\n",
      "         167       0.67      0.67      0.67         6\n",
      "         168       1.00      0.50      0.67         2\n",
      "         169       1.00      0.50      0.67         6\n",
      "         170       0.00      0.00      0.00         1\n",
      "         171       0.78      0.78      0.78         9\n",
      "         172       0.36      0.80      0.50         5\n",
      "         173       0.50      0.50      0.50         4\n",
      "         174       0.67      0.67      0.67         3\n",
      "         175       1.00      1.00      1.00         8\n",
      "         176       0.67      0.67      0.67         6\n",
      "         177       0.67      0.67      0.67         3\n",
      "         178       0.50      0.50      0.50         2\n",
      "         179       0.75      0.86      0.80         7\n",
      "         180       0.86      0.86      0.86         7\n",
      "         181       1.00      0.75      0.86         4\n",
      "         182       0.50      1.00      0.67         1\n",
      "         183       1.00      0.67      0.80         6\n",
      "         184       0.57      0.67      0.62         6\n",
      "         185       1.00      0.29      0.44         7\n",
      "         186       1.00      0.38      0.55         8\n",
      "         187       0.50      1.00      0.67         5\n",
      "         188       1.00      0.50      0.67         2\n",
      "         189       1.00      0.25      0.40         4\n",
      "         190       1.00      1.00      1.00         4\n",
      "         191       0.83      0.71      0.77         7\n",
      "         192       0.25      0.50      0.33         2\n",
      "         193       0.83      0.83      0.83         6\n",
      "         194       0.83      0.71      0.77         7\n",
      "         195       0.75      0.60      0.67         5\n",
      "         196       0.60      0.75      0.67         4\n",
      "         197       0.67      0.50      0.57         4\n",
      "         198       1.00      0.67      0.80         3\n",
      "         199       0.71      0.83      0.77         6\n",
      "         200       0.75      0.60      0.67         5\n",
      "         201       1.00      0.88      0.93         8\n",
      "         202       0.33      0.67      0.44         3\n",
      "         203       0.50      0.50      0.50         4\n",
      "         204       0.80      0.80      0.80         5\n",
      "         205       1.00      1.00      1.00         2\n",
      "         206       1.00      0.67      0.80         3\n",
      "         207       0.83      0.83      0.83         6\n",
      "         208       0.83      0.83      0.83         6\n",
      "         209       0.50      0.20      0.29         5\n",
      "         210       0.60      0.75      0.67         4\n",
      "         211       0.38      0.75      0.50         4\n",
      "         212       1.00      0.75      0.86         4\n",
      "         213       0.86      1.00      0.92         6\n",
      "         214       0.75      0.60      0.67         5\n",
      "         215       0.75      0.75      0.75         4\n",
      "         216       0.80      0.67      0.73         6\n",
      "         217       0.57      0.67      0.62         6\n",
      "         218       0.67      0.57      0.62         7\n",
      "         219       0.83      1.00      0.91         5\n",
      "         220       1.00      1.00      1.00         1\n",
      "         221       1.00      1.00      1.00         4\n",
      "         222       1.00      0.80      0.89         5\n",
      "         223       0.67      1.00      0.80         4\n",
      "         224       0.50      0.50      0.50         2\n",
      "         225       0.88      0.78      0.82         9\n",
      "         226       0.80      0.67      0.73         6\n",
      "         227       1.00      1.00      1.00         1\n",
      "         228       0.67      1.00      0.80         4\n",
      "         229       0.60      0.75      0.67         4\n",
      "         230       0.83      0.83      0.83         6\n",
      "         231       0.50      0.50      0.50         2\n",
      "         232       0.75      0.60      0.67         5\n",
      "         233       0.86      1.00      0.92         6\n",
      "         234       1.00      0.50      0.67         2\n",
      "         235       0.40      0.50      0.44         4\n",
      "         236       0.50      0.44      0.47         9\n",
      "         237       0.86      0.75      0.80         8\n",
      "         238       0.50      0.50      0.50         4\n",
      "         239       0.50      0.50      0.50         4\n",
      "         240       1.00      1.00      1.00         3\n",
      "         241       1.00      1.00      1.00         5\n",
      "         242       1.00      0.90      0.95        10\n",
      "         243       0.33      1.00      0.50         2\n",
      "         244       1.00      0.80      0.89         5\n",
      "         245       0.75      0.75      0.75         4\n",
      "         246       1.00      0.62      0.77         8\n",
      "         247       1.00      0.89      0.94         9\n",
      "         248       0.42      1.00      0.59         5\n",
      "         249       0.90      0.75      0.82        12\n",
      "         250       1.00      0.75      0.86         4\n",
      "         251       1.00      0.25      0.40         4\n",
      "         252       0.50      0.60      0.55         5\n",
      "         253       1.00      0.50      0.67         4\n",
      "         254       0.71      1.00      0.83         5\n",
      "         255       1.00      0.67      0.80         3\n",
      "         256       1.00      1.00      1.00         3\n",
      "         257       1.00      0.50      0.67         6\n",
      "         258       0.62      0.89      0.73         9\n",
      "         259       1.00      1.00      1.00         1\n",
      "         261       1.00      0.88      0.93         8\n",
      "         262       0.75      0.60      0.67         5\n",
      "         263       1.00      1.00      1.00         3\n",
      "         264       1.00      1.00      1.00         4\n",
      "         265       0.75      0.75      0.75         4\n",
      "         266       1.00      0.90      0.95        10\n",
      "         267       1.00      0.67      0.80         3\n",
      "         268       0.40      0.67      0.50         3\n",
      "         269       1.00      1.00      1.00         2\n",
      "         270       1.00      0.83      0.91         6\n",
      "         271       1.00      1.00      1.00         3\n",
      "         272       1.00      1.00      1.00         3\n",
      "         273       0.67      1.00      0.80         2\n",
      "         274       1.00      1.00      1.00         5\n",
      "         275       1.00      1.00      1.00         5\n",
      "         276       1.00      1.00      1.00         8\n",
      "         277       1.00      1.00      1.00         2\n",
      "         278       0.50      0.67      0.57         3\n",
      "         279       1.00      1.00      1.00        20\n",
      "         280       1.00      0.83      0.91         6\n",
      "         281       1.00      1.00      1.00         3\n",
      "         282       1.00      0.86      0.92         7\n",
      "         283       0.83      1.00      0.91         5\n",
      "         284       0.75      0.60      0.67         5\n",
      "         285       1.00      1.00      1.00         6\n",
      "         286       1.00      1.00      1.00         5\n",
      "         287       0.80      0.80      0.80         5\n",
      "         288       1.00      0.80      0.89         5\n",
      "         289       1.00      1.00      1.00         5\n",
      "         290       1.00      0.33      0.50         3\n",
      "         291       0.33      0.50      0.40         2\n",
      "         292       1.00      1.00      1.00         1\n",
      "         293       0.67      1.00      0.80         2\n",
      "         294       0.60      0.60      0.60         5\n",
      "         295       0.92      1.00      0.96        11\n",
      "         296       1.00      1.00      1.00         3\n",
      "         297       1.00      1.00      1.00         4\n",
      "         298       1.00      1.00      1.00         2\n",
      "         299       0.00      0.00      0.00         1\n",
      "         300       1.00      1.00      1.00         4\n",
      "         301       1.00      1.00      1.00         3\n",
      "         302       0.20      0.25      0.22         4\n",
      "         303       0.29      0.40      0.33         5\n",
      "         304       1.00      1.00      1.00         3\n",
      "         305       0.00      0.00      0.00         0\n",
      "         306       1.00      0.67      0.80         3\n",
      "         307       0.29      1.00      0.44         2\n",
      "         308       0.00      0.00      0.00         1\n",
      "         309       0.00      0.00      0.00         3\n",
      "         310       0.75      0.75      0.75         4\n",
      "         311       0.50      1.00      0.67         1\n",
      "         312       0.33      0.25      0.29         4\n",
      "         313       0.00      0.00      0.00         3\n",
      "         314       0.67      1.00      0.80         2\n",
      "         315       0.67      0.40      0.50         5\n",
      "         316       0.00      0.00      0.00         3\n",
      "         317       0.30      0.38      0.33         8\n",
      "         318       1.00      0.33      0.50         6\n",
      "         319       1.00      1.00      1.00         7\n",
      "         320       0.56      0.83      0.67         6\n",
      "         321       1.00      0.67      0.80         3\n",
      "         322       1.00      1.00      1.00         4\n",
      "         323       1.00      0.92      0.96        13\n",
      "         324       0.00      0.00      0.00         0\n",
      "         325       1.00      1.00      1.00        15\n",
      "         326       1.00      1.00      1.00         4\n",
      "         327       0.67      0.67      0.67         3\n",
      "         328       0.50      0.29      0.36         7\n",
      "         330       1.00      1.00      1.00         2\n",
      "         331       0.50      1.00      0.67         1\n",
      "         332       0.86      0.86      0.86         7\n",
      "         333       1.00      0.92      0.96        12\n",
      "         334       0.80      0.67      0.73        12\n",
      "         335       0.83      1.00      0.91        15\n",
      "         336       1.00      0.50      0.67         6\n",
      "         337       1.00      1.00      1.00         5\n",
      "         338       0.80      1.00      0.89         4\n",
      "         339       1.00      1.00      1.00         8\n",
      "         340       1.00      0.80      0.89         5\n",
      "         341       0.90      1.00      0.95         9\n",
      "         342       0.00      0.00      0.00         2\n",
      "         343       0.86      1.00      0.92        18\n",
      "         344       0.83      0.88      0.86        17\n",
      "         345       1.00      0.92      0.96        12\n",
      "         346       0.38      0.50      0.43         6\n",
      "         347       1.00      0.94      0.97        16\n",
      "         348       0.60      0.60      0.60         5\n",
      "         349       1.00      1.00      1.00         7\n",
      "         350       0.88      0.64      0.74        11\n",
      "         351       0.94      1.00      0.97        15\n",
      "         352       0.78      0.78      0.78         9\n",
      "         353       1.00      1.00      1.00         7\n",
      "         354       0.40      0.67      0.50         3\n",
      "         355       1.00      1.00      1.00         5\n",
      "         357       0.00      0.00      0.00         0\n",
      "         358       0.00      0.00      0.00         1\n",
      "         359       0.00      0.00      0.00         1\n",
      "         361       0.00      0.00      0.00         1\n",
      "         362       0.70      0.93      0.80        15\n",
      "         363       0.89      1.00      0.94         8\n",
      "         364       0.86      0.60      0.71        10\n",
      "         365       1.00      0.86      0.92         7\n",
      "         366       1.00      1.00      1.00         5\n",
      "         367       0.75      1.00      0.86         3\n",
      "         368       1.00      1.00      1.00         1\n",
      "         369       1.00      0.80      0.89         5\n",
      "         370       0.67      0.40      0.50         5\n",
      "         371       0.78      0.88      0.82         8\n",
      "         372       0.80      0.80      0.80         5\n",
      "         373       0.83      0.83      0.83         6\n",
      "         374       0.83      0.71      0.77         7\n",
      "         375       1.00      1.00      1.00         4\n",
      "         376       0.00      0.00      0.00         1\n",
      "         377       1.00      1.00      1.00         1\n",
      "         378       0.00      0.00      0.00         1\n",
      "         379       1.00      1.00      1.00         2\n",
      "         380       0.00      0.00      0.00         6\n",
      "         382       1.00      1.00      1.00         3\n",
      "         383       1.00      1.00      1.00         2\n",
      "         384       1.00      1.00      1.00         4\n",
      "         385       0.30      1.00      0.46         3\n",
      "         386       1.00      1.00      1.00         2\n",
      "         387       1.00      1.00      1.00         8\n",
      "         388       1.00      1.00      1.00         3\n",
      "         389       0.77      1.00      0.87        10\n",
      "         390       1.00      1.00      1.00         4\n",
      "         391       0.75      0.75      0.75         4\n",
      "         392       1.00      1.00      1.00         8\n",
      "         393       0.88      0.88      0.88         8\n",
      "         394       1.00      1.00      1.00         7\n",
      "         395       1.00      1.00      1.00         5\n",
      "         396       1.00      1.00      1.00         3\n",
      "         397       0.86      0.75      0.80         8\n",
      "         398       1.00      1.00      1.00         3\n",
      "         399       1.00      0.83      0.91        12\n",
      "         400       1.00      1.00      1.00         5\n",
      "         401       0.75      0.75      0.75         4\n",
      "         402       1.00      0.62      0.77         8\n",
      "         403       0.80      1.00      0.89         4\n",
      "         404       0.71      1.00      0.83         5\n",
      "         405       1.00      1.00      1.00         1\n",
      "         406       1.00      1.00      1.00         5\n",
      "         407       1.00      1.00      1.00         1\n",
      "         408       1.00      0.67      0.80         3\n",
      "         409       0.50      0.67      0.57         3\n",
      "         410       1.00      1.00      1.00         3\n",
      "         411       1.00      1.00      1.00         2\n",
      "         412       1.00      1.00      1.00         4\n",
      "         413       0.50      1.00      0.67         1\n",
      "         414       1.00      1.00      1.00         2\n",
      "         415       0.67      1.00      0.80         4\n",
      "         416       1.00      1.00      1.00         7\n",
      "         417       0.83      1.00      0.91         5\n",
      "         418       0.82      0.90      0.86        10\n",
      "         419       0.84      0.94      0.89        17\n",
      "         420       0.88      1.00      0.93         7\n",
      "         421       0.88      0.70      0.78        10\n",
      "         422       0.83      1.00      0.91         5\n",
      "         423       1.00      1.00      1.00         1\n",
      "         424       1.00      0.71      0.83         7\n",
      "         425       1.00      1.00      1.00         7\n",
      "         426       1.00      1.00      1.00         2\n",
      "         427       1.00      1.00      1.00         9\n",
      "         428       1.00      0.91      0.95        11\n",
      "         429       1.00      1.00      1.00         4\n",
      "         430       1.00      1.00      1.00         7\n",
      "         431       1.00      1.00      1.00         8\n",
      "         432       1.00      1.00      1.00         5\n",
      "         433       1.00      1.00      1.00         3\n",
      "         434       1.00      1.00      1.00         6\n",
      "         435       1.00      1.00      1.00         6\n",
      "         436       0.60      1.00      0.75         3\n",
      "         437       1.00      1.00      1.00         1\n",
      "         438       1.00      0.82      0.90        11\n",
      "         439       1.00      1.00      1.00         4\n",
      "         440       1.00      0.67      0.80         3\n",
      "         441       0.75      0.75      0.75         4\n",
      "         442       0.00      0.00      0.00         1\n",
      "         443       1.00      0.50      0.67         2\n",
      "         444       0.00      0.00      0.00         0\n",
      "         445       1.00      1.00      1.00         1\n",
      "         446       1.00      1.00      1.00         5\n",
      "         447       1.00      1.00      1.00         5\n",
      "         448       1.00      1.00      1.00         2\n",
      "         449       1.00      0.75      0.86         4\n",
      "         450       1.00      1.00      1.00         1\n",
      "         451       1.00      1.00      1.00         6\n",
      "         452       1.00      1.00      1.00         2\n",
      "         453       0.75      1.00      0.86         3\n",
      "         454       1.00      1.00      1.00         3\n",
      "         455       1.00      0.75      0.86         4\n",
      "         456       1.00      1.00      1.00         7\n",
      "         457       0.80      0.67      0.73         6\n",
      "         458       1.00      1.00      1.00         2\n",
      "         459       0.78      0.88      0.82         8\n",
      "         460       1.00      1.00      1.00        13\n",
      "         461       0.75      0.75      0.75         8\n",
      "         462       0.92      0.79      0.85        14\n",
      "         463       1.00      0.67      0.80         3\n",
      "         464       0.25      0.83      0.38         6\n",
      "         465       0.67      0.80      0.73         5\n",
      "         466       0.60      0.75      0.67         4\n",
      "         467       0.60      1.00      0.75         3\n",
      "         468       0.80      0.73      0.76        11\n",
      "         469       1.00      1.00      1.00         6\n",
      "         470       1.00      0.50      0.67         2\n",
      "         471       0.75      0.75      0.75         4\n",
      "         472       1.00      1.00      1.00         4\n",
      "         473       1.00      0.80      0.89         5\n",
      "         474       1.00      1.00      1.00         7\n",
      "         475       1.00      0.75      0.86         4\n",
      "         476       1.00      0.67      0.80         6\n",
      "         477       0.67      0.67      0.67         3\n",
      "         478       0.75      1.00      0.86         3\n",
      "         480       0.57      1.00      0.73         4\n",
      "         481       1.00      0.50      0.67         4\n",
      "         482       1.00      1.00      1.00         5\n",
      "         483       0.67      1.00      0.80         2\n",
      "         484       0.80      0.80      0.80        10\n",
      "         485       0.67      1.00      0.80         2\n",
      "         486       0.81      0.93      0.87        14\n",
      "         487       0.94      0.85      0.89        20\n",
      "         488       1.00      0.60      0.75         5\n",
      "         489       0.50      1.00      0.67         2\n",
      "         490       1.00      0.67      0.80         6\n",
      "         491       1.00      1.00      1.00         3\n",
      "         492       1.00      1.00      1.00         6\n",
      "         493       1.00      1.00      1.00         5\n",
      "         494       0.20      0.67      0.31         3\n",
      "         495       1.00      0.75      0.86         4\n",
      "         496       0.50      0.50      0.50         4\n",
      "         497       1.00      0.67      0.80         9\n",
      "         498       0.50      1.00      0.67         1\n",
      "         499       1.00      0.67      0.80         3\n",
      "         500       1.00      0.40      0.57         5\n",
      "         501       0.00      0.00      0.00         1\n",
      "         502       0.56      0.83      0.67         6\n",
      "         503       1.00      1.00      1.00        10\n",
      "         504       0.78      1.00      0.88         7\n",
      "         505       1.00      0.83      0.91         6\n",
      "         506       0.78      0.58      0.67        12\n",
      "         507       1.00      0.80      0.89         5\n",
      "         508       0.83      1.00      0.91         5\n",
      "         509       1.00      0.86      0.92         7\n",
      "         510       0.80      0.89      0.84         9\n",
      "         511       0.75      0.82      0.78        11\n",
      "         512       0.90      0.90      0.90        10\n",
      "         513       1.00      1.00      1.00         3\n",
      "         514       0.67      1.00      0.80         2\n",
      "         515       1.00      0.50      0.67        10\n",
      "         516       0.82      0.82      0.82        11\n",
      "         517       0.88      0.78      0.82         9\n",
      "         518       0.82      1.00      0.90         9\n",
      "         519       0.50      0.67      0.57         9\n",
      "         520       0.70      1.00      0.82         7\n",
      "         521       0.90      0.75      0.82        12\n",
      "         522       0.89      0.80      0.84        10\n",
      "         523       0.75      0.86      0.80         7\n",
      "         524       0.88      1.00      0.93         7\n",
      "         525       0.82      0.74      0.78        19\n",
      "         526       0.75      0.25      0.38        12\n",
      "         527       0.90      1.00      0.95         9\n",
      "         528       0.92      0.92      0.92        12\n",
      "         529       1.00      0.86      0.92         7\n",
      "         530       0.71      0.71      0.71        14\n",
      "         531       0.77      0.56      0.65        18\n",
      "         532       1.00      0.83      0.91         6\n",
      "         533       0.75      0.60      0.67         5\n",
      "         534       1.00      0.50      0.67         4\n",
      "         535       0.80      0.67      0.73         6\n",
      "         536       1.00      0.83      0.91         6\n",
      "         537       0.57      0.67      0.62         6\n",
      "         538       0.75      1.00      0.86         3\n",
      "         539       1.00      1.00      1.00         5\n",
      "         540       1.00      1.00      1.00         6\n",
      "         541       1.00      1.00      1.00         1\n",
      "         542       1.00      0.57      0.73         7\n",
      "         543       0.29      0.50      0.36         4\n",
      "         544       0.60      1.00      0.75         3\n",
      "         545       0.80      1.00      0.89         4\n",
      "         546       1.00      0.86      0.92         7\n",
      "         547       0.88      1.00      0.93         7\n",
      "         548       0.62      0.80      0.70        10\n",
      "         549       1.00      1.00      1.00         8\n",
      "         550       0.93      0.93      0.93        14\n",
      "         551       0.67      0.80      0.73         5\n",
      "         552       0.80      1.00      0.89         4\n",
      "         553       0.80      1.00      0.89         4\n",
      "         554       1.00      0.89      0.94         9\n",
      "         555       1.00      1.00      1.00         3\n",
      "         556       1.00      1.00      1.00         5\n",
      "         557       1.00      0.80      0.89         5\n",
      "         558       0.75      0.60      0.67         5\n",
      "         559       1.00      1.00      1.00         7\n",
      "         560       0.67      0.80      0.73         5\n",
      "         561       1.00      0.75      0.86        16\n",
      "         562       0.64      1.00      0.78         7\n",
      "         563       0.88      1.00      0.93         7\n",
      "         564       1.00      0.67      0.80         6\n",
      "         565       1.00      0.67      0.80         6\n",
      "         566       0.00      0.00      0.00         1\n",
      "         567       0.73      0.73      0.73        11\n",
      "         568       1.00      0.67      0.80         6\n",
      "         569       0.86      0.75      0.80         8\n",
      "         570       0.67      0.50      0.57         4\n",
      "         571       0.86      0.92      0.89        13\n",
      "         572       0.62      0.83      0.71         6\n",
      "         573       0.73      0.89      0.80         9\n",
      "         574       0.71      1.00      0.83         5\n",
      "         575       0.86      0.67      0.75         9\n",
      "         576       0.50      0.67      0.57         3\n",
      "         577       0.83      0.83      0.83         6\n",
      "         578       0.00      0.00      0.00         2\n",
      "         579       0.57      0.67      0.62         6\n",
      "         580       0.33      0.33      0.33         3\n",
      "         581       0.83      0.62      0.71         8\n",
      "         582       0.75      1.00      0.86         3\n",
      "         583       1.00      0.80      0.89         5\n",
      "         584       0.82      1.00      0.90         9\n",
      "         585       0.80      1.00      0.89         4\n",
      "         586       0.86      0.86      0.86         7\n",
      "         587       1.00      1.00      1.00         5\n",
      "         588       1.00      0.75      0.86         4\n",
      "         589       1.00      1.00      1.00         3\n",
      "         590       0.88      0.78      0.82         9\n",
      "         591       1.00      0.62      0.77         8\n",
      "         592       0.71      1.00      0.83         5\n",
      "         593       0.83      0.91      0.87        11\n",
      "         594       0.93      0.88      0.90        16\n",
      "         595       0.57      0.80      0.67         5\n",
      "         596       0.56      0.62      0.59         8\n",
      "         597       0.25      0.50      0.33         2\n",
      "         598       1.00      0.90      0.95        10\n",
      "         599       1.00      1.00      1.00         1\n",
      "         600       1.00      0.57      0.73         7\n",
      "         601       1.00      0.80      0.89         5\n",
      "         602       1.00      1.00      1.00         1\n",
      "         603       1.00      0.78      0.88        18\n",
      "         604       0.71      1.00      0.83        10\n",
      "         605       0.83      0.71      0.77         7\n",
      "         606       0.75      0.50      0.60         6\n",
      "         607       0.50      0.75      0.60         4\n",
      "         608       0.87      0.87      0.87        15\n",
      "         609       1.00      1.00      1.00         1\n",
      "         610       0.90      0.75      0.82        12\n",
      "         611       0.50      1.00      0.67         2\n",
      "         612       1.00      0.86      0.92         7\n",
      "         613       0.80      1.00      0.89         8\n",
      "         614       0.80      0.50      0.62         8\n",
      "         615       0.83      0.71      0.77         7\n",
      "         616       0.50      0.67      0.57         3\n",
      "         617       0.70      1.00      0.82         7\n",
      "         618       0.50      0.80      0.62         5\n",
      "         619       1.00      0.71      0.83         7\n",
      "         620       1.00      0.78      0.88         9\n",
      "         621       1.00      1.00      1.00         4\n",
      "         622       1.00      1.00      1.00         5\n",
      "         623       1.00      0.83      0.91         6\n",
      "         624       0.92      0.85      0.88        13\n",
      "         625       0.60      1.00      0.75         3\n",
      "         626       1.00      1.00      1.00         5\n",
      "         627       0.90      1.00      0.95         9\n",
      "         628       0.80      0.80      0.80         5\n",
      "         629       0.67      0.80      0.73         5\n",
      "         630       1.00      0.50      0.67         2\n",
      "         631       1.00      1.00      1.00         4\n",
      "         632       1.00      1.00      1.00         3\n",
      "         633       0.80      0.80      0.80         5\n",
      "         634       1.00      1.00      1.00         2\n",
      "         635       0.75      1.00      0.86         6\n",
      "         636       1.00      0.86      0.92         7\n",
      "         637       1.00      0.80      0.89         5\n",
      "         638       0.75      1.00      0.86         3\n",
      "         639       0.67      0.80      0.73         5\n",
      "         640       0.83      1.00      0.91         5\n",
      "         641       0.80      1.00      0.89         4\n",
      "         642       1.00      0.67      0.80         6\n",
      "         643       0.67      1.00      0.80         2\n",
      "         644       0.67      1.00      0.80         2\n",
      "         645       1.00      1.00      1.00         3\n",
      "         646       1.00      0.67      0.80         3\n",
      "         647       1.00      0.75      0.86         8\n",
      "         648       1.00      1.00      1.00         3\n",
      "         649       1.00      1.00      1.00         1\n",
      "         650       1.00      1.00      1.00         5\n",
      "         651       0.88      1.00      0.93         7\n",
      "         652       1.00      1.00      1.00         1\n",
      "         653       0.94      0.94      0.94        17\n",
      "         654       1.00      1.00      1.00         3\n",
      "         655       1.00      1.00      1.00         3\n",
      "         656       0.75      0.75      0.75         4\n",
      "         657       0.83      1.00      0.91         5\n",
      "         658       0.75      0.86      0.80        14\n",
      "         659       0.40      0.40      0.40         5\n",
      "         660       1.00      1.00      1.00         5\n",
      "         661       0.50      0.67      0.57         3\n",
      "         662       1.00      1.00      1.00         5\n",
      "         663       1.00      0.20      0.33         5\n",
      "         664       0.67      0.67      0.67         3\n",
      "         665       1.00      0.90      0.95        10\n",
      "         666       1.00      1.00      1.00         4\n",
      "         667       0.86      1.00      0.92         6\n",
      "         668       0.75      0.75      0.75         4\n",
      "         669       0.50      1.00      0.67         1\n",
      "         670       0.50      0.25      0.33         4\n",
      "         671       0.56      1.00      0.72         9\n",
      "         672       1.00      0.83      0.91         6\n",
      "         673       1.00      1.00      1.00         6\n",
      "         674       1.00      0.80      0.89         5\n",
      "         675       1.00      1.00      1.00         7\n",
      "         676       1.00      1.00      1.00         4\n",
      "         677       1.00      1.00      1.00         6\n",
      "         678       1.00      1.00      1.00        11\n",
      "         679       1.00      0.92      0.96        13\n",
      "         680       1.00      0.75      0.86         4\n",
      "         681       0.57      1.00      0.73         4\n",
      "         682       1.00      1.00      1.00         7\n",
      "         683       0.90      1.00      0.95         9\n",
      "         684       1.00      0.50      0.67         2\n",
      "         685       0.75      0.75      0.75         4\n",
      "         686       0.75      0.60      0.67         5\n",
      "         687       0.80      1.00      0.89         4\n",
      "         688       1.00      0.86      0.92         7\n",
      "         689       0.86      0.86      0.86         7\n",
      "         690       1.00      1.00      1.00         6\n",
      "         691       1.00      0.75      0.86         4\n",
      "         692       1.00      1.00      1.00         1\n",
      "         693       0.75      0.75      0.75         8\n",
      "         694       1.00      0.90      0.95        10\n",
      "         695       0.83      0.50      0.62        10\n",
      "         696       1.00      0.67      0.80         3\n",
      "         697       0.50      1.00      0.67         3\n",
      "         698       0.88      1.00      0.93         7\n",
      "         699       0.75      0.75      0.75         4\n",
      "         700       1.00      0.78      0.88         9\n",
      "         701       0.71      1.00      0.83         5\n",
      "         702       1.00      1.00      1.00         6\n",
      "         703       1.00      0.83      0.91         6\n",
      "         704       1.00      1.00      1.00         7\n",
      "         705       1.00      0.89      0.94         9\n",
      "         706       0.86      1.00      0.92         6\n",
      "         707       1.00      1.00      1.00         9\n",
      "         708       1.00      1.00      1.00         4\n",
      "         709       0.67      0.80      0.73         5\n",
      "         710       1.00      0.60      0.75         5\n",
      "         711       1.00      1.00      1.00         4\n",
      "         712       1.00      0.83      0.91         6\n",
      "         713       0.75      1.00      0.86         3\n",
      "         714       1.00      1.00      1.00         4\n",
      "         715       1.00      1.00      1.00         2\n",
      "         716       1.00      1.00      1.00         3\n",
      "         717       0.67      1.00      0.80         2\n",
      "         718       1.00      0.75      0.86         4\n",
      "         719       1.00      1.00      1.00         2\n",
      "         721       1.00      1.00      1.00         2\n",
      "         722       1.00      1.00      1.00         4\n",
      "         723       1.00      1.00      1.00         4\n",
      "         724       1.00      0.80      0.89         5\n",
      "         725       0.60      1.00      0.75         3\n",
      "         726       1.00      0.33      0.50         3\n",
      "         727       0.80      1.00      0.89         4\n",
      "         728       1.00      1.00      1.00         1\n",
      "         729       0.88      0.70      0.78        10\n",
      "         730       1.00      0.83      0.91         6\n",
      "         731       0.70      0.78      0.74         9\n",
      "         732       0.71      0.83      0.77         6\n",
      "         733       0.88      0.78      0.82         9\n",
      "         734       0.33      0.71      0.45         7\n",
      "         735       1.00      1.00      1.00         6\n",
      "         736       0.62      0.45      0.53        11\n",
      "         737       0.60      0.60      0.60        15\n",
      "         738       0.91      0.87      0.89        23\n",
      "         739       0.74      0.88      0.80        16\n",
      "         740       0.88      0.78      0.82         9\n",
      "         741       0.62      0.62      0.62         8\n",
      "         742       0.75      0.50      0.60        12\n",
      "         743       1.00      0.88      0.93         8\n",
      "         744       0.60      0.86      0.71         7\n",
      "         745       0.67      0.44      0.53         9\n",
      "         746       0.88      0.88      0.88         8\n",
      "         747       0.50      0.33      0.40         6\n",
      "         748       0.50      0.57      0.53         7\n",
      "         749       0.89      0.89      0.89         9\n",
      "         750       0.88      0.70      0.78        10\n",
      "         751       0.75      0.90      0.82        10\n",
      "         752       0.73      1.00      0.85        11\n",
      "         753       1.00      0.57      0.73         7\n",
      "         754       0.67      0.92      0.77        13\n",
      "         755       1.00      0.25      0.40         4\n",
      "         756       0.91      0.77      0.83        13\n",
      "         757       0.83      1.00      0.91         5\n",
      "         758       0.60      0.82      0.69        11\n",
      "         759       0.89      0.80      0.84        10\n",
      "         760       1.00      0.89      0.94         9\n",
      "         761       0.91      0.91      0.91        11\n",
      "         762       0.83      0.62      0.71         8\n",
      "         763       1.00      0.67      0.80         6\n",
      "         764       0.67      0.89      0.76         9\n",
      "         765       0.80      0.62      0.70        13\n",
      "         766       0.80      1.00      0.89         4\n",
      "         767       1.00      0.86      0.92         7\n",
      "         768       0.92      1.00      0.96        12\n",
      "         769       0.80      1.00      0.89         4\n",
      "         770       1.00      0.88      0.93         8\n",
      "         771       1.00      1.00      1.00         8\n",
      "         772       0.89      0.89      0.89         9\n",
      "         773       0.83      0.83      0.83         6\n",
      "         774       0.67      1.00      0.80         4\n",
      "         775       1.00      0.67      0.80         6\n",
      "         776       1.00      0.75      0.86         4\n",
      "         777       0.83      1.00      0.91         5\n",
      "         778       1.00      1.00      1.00         4\n",
      "         779       1.00      1.00      1.00         3\n",
      "         780       1.00      1.00      1.00         2\n",
      "         781       1.00      1.00      1.00         7\n",
      "         782       1.00      1.00      1.00         2\n",
      "         783       0.80      0.80      0.80         5\n",
      "         784       0.40      0.40      0.40         5\n",
      "         785       0.88      1.00      0.93         7\n",
      "         786       0.62      1.00      0.77         5\n",
      "         787       0.80      0.67      0.73         6\n",
      "         788       0.71      0.71      0.71         7\n",
      "         789       1.00      1.00      1.00         4\n",
      "         790       1.00      1.00      1.00         3\n",
      "         791       0.75      0.75      0.75         4\n",
      "         792       1.00      0.67      0.80         3\n",
      "         793       1.00      1.00      1.00         4\n",
      "         794       1.00      1.00      1.00         4\n",
      "         795       0.67      1.00      0.80         4\n",
      "         796       1.00      0.71      0.83         7\n",
      "         797       0.80      0.80      0.80         5\n",
      "         798       1.00      0.83      0.91         6\n",
      "         799       1.00      0.50      0.67         4\n",
      "         800       0.83      1.00      0.91         5\n",
      "         801       0.40      0.67      0.50         3\n",
      "         802       1.00      1.00      1.00         1\n",
      "         803       1.00      0.50      0.67         4\n",
      "         804       1.00      1.00      1.00         8\n",
      "         805       0.67      0.50      0.57         4\n",
      "         806       0.83      0.83      0.83        12\n",
      "         807       0.50      0.67      0.57         3\n",
      "         808       1.00      0.71      0.83         7\n",
      "         809       0.71      1.00      0.83         5\n",
      "         810       1.00      1.00      1.00         2\n",
      "         811       1.00      0.86      0.92         7\n",
      "         812       1.00      0.80      0.89         5\n",
      "         813       0.86      1.00      0.92         6\n",
      "         814       1.00      1.00      1.00         3\n",
      "         815       0.71      1.00      0.83         5\n",
      "         816       1.00      0.40      0.57         5\n",
      "         817       1.00      1.00      1.00         2\n",
      "         818       0.75      1.00      0.86         3\n",
      "         819       1.00      1.00      1.00         4\n",
      "         820       0.60      0.60      0.60         5\n",
      "         821       0.60      0.75      0.67         4\n",
      "         822       1.00      0.75      0.86         4\n",
      "         823       0.67      1.00      0.80         4\n",
      "         824       1.00      1.00      1.00         2\n",
      "         825       0.80      0.80      0.80         5\n",
      "         826       1.00      1.00      1.00         3\n",
      "         827       1.00      0.60      0.75         5\n",
      "         828       0.83      0.83      0.83         6\n",
      "         829       0.75      1.00      0.86         3\n",
      "         830       1.00      1.00      1.00         4\n",
      "         831       0.83      1.00      0.91         5\n",
      "         832       1.00      1.00      1.00         9\n",
      "         833       1.00      1.00      1.00         7\n",
      "         834       1.00      1.00      1.00         5\n",
      "         835       1.00      1.00      1.00         3\n",
      "         836       1.00      1.00      1.00         2\n",
      "         837       1.00      1.00      1.00         1\n",
      "         838       1.00      0.67      0.80         3\n",
      "         839       0.75      0.75      0.75         4\n",
      "         840       1.00      0.67      0.80         3\n",
      "         841       0.75      0.75      0.75         4\n",
      "         842       1.00      0.50      0.67         2\n",
      "         843       1.00      1.00      1.00         2\n",
      "         844       0.67      0.40      0.50         5\n",
      "         845       0.00      0.00      0.00         1\n",
      "         846       1.00      0.40      0.57         5\n",
      "         847       1.00      1.00      1.00         2\n",
      "         848       0.25      1.00      0.40         1\n",
      "         849       0.07      0.33      0.12         3\n",
      "         850       0.50      0.50      0.50         2\n",
      "         851       0.80      1.00      0.89         4\n",
      "         852       1.00      0.67      0.80         3\n",
      "         853       1.00      1.00      1.00         1\n",
      "         854       0.67      1.00      0.80         2\n",
      "         855       1.00      0.67      0.80         3\n",
      "         856       1.00      0.50      0.67         4\n",
      "         857       1.00      1.00      1.00         2\n",
      "         858       1.00      1.00      1.00         3\n",
      "         859       0.20      1.00      0.33         2\n",
      "         860       1.00      0.50      0.67         4\n",
      "         861       0.00      0.00      0.00         1\n",
      "         862       0.50      0.67      0.57         3\n",
      "         863       1.00      1.00      1.00         2\n",
      "         864       1.00      1.00      1.00         1\n",
      "         865       0.00      0.00      0.00         3\n",
      "         866       1.00      1.00      1.00         1\n",
      "         867       0.50      0.67      0.57         3\n",
      "         868       0.80      0.80      0.80         5\n",
      "         869       1.00      0.67      0.80         3\n",
      "         870       0.80      1.00      0.89         4\n",
      "         871       1.00      1.00      1.00         3\n",
      "         872       1.00      0.33      0.50         3\n",
      "         873       1.00      0.50      0.67         2\n",
      "         874       0.50      0.50      0.50         2\n",
      "         875       1.00      0.33      0.50         3\n",
      "         876       0.60      1.00      0.75         3\n",
      "         877       1.00      0.67      0.80         6\n",
      "         878       0.50      1.00      0.67         1\n",
      "         879       1.00      0.75      0.86         4\n",
      "         880       1.00      1.00      1.00         4\n",
      "         881       1.00      0.50      0.67         2\n",
      "         882       1.00      1.00      1.00         2\n",
      "         883       0.50      0.33      0.40         3\n",
      "         884       1.00      0.67      0.80         6\n",
      "         885       1.00      1.00      1.00         2\n",
      "         886       1.00      1.00      1.00         3\n",
      "         887       1.00      1.00      1.00         2\n",
      "         888       1.00      1.00      1.00         2\n",
      "         889       1.00      1.00      1.00         1\n",
      "         890       1.00      1.00      1.00         2\n",
      "         891       1.00      1.00      1.00         4\n",
      "         892       1.00      1.00      1.00         4\n",
      "         893       1.00      1.00      1.00         5\n",
      "         894       1.00      1.00      1.00         5\n",
      "         895       1.00      1.00      1.00         3\n",
      "         896       1.00      0.67      0.80         3\n",
      "         897       1.00      1.00      1.00         3\n",
      "         898       0.80      1.00      0.89         4\n",
      "         899       1.00      1.00      1.00         3\n",
      "         900       1.00      1.00      1.00         2\n",
      "         901       1.00      1.00      1.00         3\n",
      "         902       1.00      1.00      1.00         2\n",
      "         903       1.00      1.00      1.00         1\n",
      "\n",
      "    accuracy                           0.81      4825\n",
      "   macro avg       0.82      0.81      0.80      4825\n",
      "weighted avg       0.85      0.81      0.81      4825\n",
      "\n",
      "[[4 0 0 ... 0 0 0]\n",
      " [0 3 0 ... 0 0 0]\n",
      " [0 0 2 ... 0 0 0]\n",
      " ...\n",
      " [0 0 0 ... 3 0 0]\n",
      " [0 0 0 ... 0 2 0]\n",
      " [0 0 0 ... 0 0 1]]\n"
     ]
    },
    {
     "name": "stderr",
     "output_type": "stream",
     "text": [
      "C:\\Users\\bmattis\\.conda\\envs\\dataScience\\lib\\site-packages\\sklearn\\metrics\\_classification.py:1221: UndefinedMetricWarning: Precision and F-score are ill-defined and being set to 0.0 in labels with no predicted samples. Use `zero_division` parameter to control this behavior.\n",
      "  _warn_prf(average, modifier, msg_start, len(result))\n",
      "C:\\Users\\bmattis\\.conda\\envs\\dataScience\\lib\\site-packages\\sklearn\\metrics\\_classification.py:1221: UndefinedMetricWarning: Recall and F-score are ill-defined and being set to 0.0 in labels with no true samples. Use `zero_division` parameter to control this behavior.\n",
      "  _warn_prf(average, modifier, msg_start, len(result))\n"
     ]
    }
   ],
   "source": [
    "bestAlg = SVC(kernel='linear')\n",
    "bestFEPred = bestAlg.fit(X_trainFE, y_trainFE).predict(X_testFE)\n",
    "print(classification_report(y_testFE, bestFEPred))\n",
    "print(confusion_matrix(y_testFE, bestFEPred))"
   ]
  },
  {
   "cell_type": "code",
   "execution_count": 39,
   "metadata": {
    "ExecuteTime": {
     "end_time": "2021-07-15T18:46:33.482586Z",
     "start_time": "2021-07-15T18:46:33.459646Z"
    }
   },
   "outputs": [
    {
     "name": "stdout",
     "output_type": "stream",
     "text": [
      "Accuracy: 0.813678756476684\n",
      "Precision: 0.8464188768912297\n",
      "Recall: 0.8074849245098902\n"
     ]
    }
   ],
   "source": [
    "print(\"Accuracy:\",metrics.accuracy_score(y_testFE, bestFEPred))\n",
    "print(\"Precision:\",metrics.precision_score(y_testFE, bestFEPred, average='weighted'))\n",
    "print(\"Recall:\",metrics.recall_score(y_testFE, bestFEPred, average='macro'))"
   ]
  },
  {
   "cell_type": "code",
   "execution_count": null,
   "metadata": {},
   "outputs": [],
   "source": []
  }
 ],
 "metadata": {
  "kernelspec": {
   "display_name": "Python 3",
   "language": "python",
   "name": "python3"
  },
  "language_info": {
   "codemirror_mode": {
    "name": "ipython",
    "version": 3
   },
   "file_extension": ".py",
   "mimetype": "text/x-python",
   "name": "python",
   "nbconvert_exporter": "python",
   "pygments_lexer": "ipython3",
   "version": "3.8.5"
  },
  "toc": {
   "base_numbering": 1,
   "nav_menu": {},
   "number_sections": true,
   "sideBar": true,
   "skip_h1_title": false,
   "title_cell": "Table of Contents",
   "title_sidebar": "Contents",
   "toc_cell": false,
   "toc_position": {},
   "toc_section_display": true,
   "toc_window_display": true
  }
 },
 "nbformat": 4,
 "nbformat_minor": 4
}
